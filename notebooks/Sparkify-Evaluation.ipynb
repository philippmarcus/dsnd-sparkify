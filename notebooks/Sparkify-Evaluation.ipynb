{
 "cells": [
  {
   "cell_type": "markdown",
   "metadata": {},
   "source": [
    "# Sparkify Project (2/2) - Evaluation\n",
    "\n",
    "This is the second Notebook of the Sparkify project. The purpose is an evaluation and visualization of the machine learning evaluation results that were created by the AWS Stepfunctions."
   ]
  },
  {
   "cell_type": "code",
   "execution_count": 1,
   "metadata": {},
   "outputs": [],
   "source": [
    "%matplotlib inline"
   ]
  },
  {
   "cell_type": "code",
   "execution_count": 55,
   "metadata": {},
   "outputs": [
    {
     "data": {
      "application/vnd.jupyter.widget-view+json": {
       "model_id": "",
       "version_major": 2,
       "version_minor": 0
      },
      "text/plain": [
       "FloatProgress(value=0.0, bar_style='info', description='Progress:', layout=Layout(height='25px', width='50%'),…"
      ]
     },
     "metadata": {},
     "output_type": "display_data"
    }
   ],
   "source": [
    "# import libraries\n",
    "\n",
    "import boto3\n",
    "import pandas as pd\n",
    "import json\n",
    "\n",
    "import seaborn as sns\n",
    "import matplotlib.pyplot as plt"
   ]
  },
  {
   "cell_type": "markdown",
   "metadata": {},
   "source": [
    "## Model Evaluation and Validation\n",
    "\n",
    "The final model’s qualities — such as parameters — are evaluated in detail. Some type of analysis is used to validate the robustness of the model’s solution.\n",
    "\n",
    "Alternatively a student may choose to answer questions with data visualizations or other means that don't involve machine learning if a different approach best helps them address their question(s) of interest."
   ]
  },
  {
   "cell_type": "code",
   "execution_count": 10,
   "metadata": {},
   "outputs": [
    {
     "data": {
      "application/vnd.jupyter.widget-view+json": {
       "model_id": "",
       "version_major": 2,
       "version_minor": 0
      },
      "text/plain": [
       "FloatProgress(value=0.0, bar_style='info', description='Progress:', layout=Layout(height='25px', width='50%'),…"
      ]
     },
     "metadata": {},
     "output_type": "display_data"
    }
   ],
   "source": [
    "# Name of the S3 Bucket used for the AWS Stepfunction execution\n",
    "bucket = \"sparkify-pmarcus\"\n",
    "s3 = boto3.resource('s3')"
   ]
  },
  {
   "cell_type": "code",
   "execution_count": 88,
   "metadata": {},
   "outputs": [
    {
     "data": {
      "application/vnd.jupyter.widget-view+json": {
       "model_id": "",
       "version_major": 2,
       "version_minor": 0
      },
      "text/plain": [
       "FloatProgress(value=0.0, bar_style='info', description='Progress:', layout=Layout(height='25px', width='50%'),…"
      ]
     },
     "metadata": {},
     "output_type": "display_data"
    },
    {
     "name": "stdout",
     "output_type": "stream",
     "text": [
      "-- reading svm evaluation results --\n",
      "-- reading lr evaluation results --\n",
      "-- reading nb evaluation results --\n",
      "-- reading rf evaluation results --"
     ]
    }
   ],
   "source": [
    "# Read in the data\n",
    "results = []\n",
    "\n",
    "for algo in [\"svm\", \"lr\", \"nb\", \"rf\"]:\n",
    "    print(\"-- reading {} evaluation results --\".format(algo))\n",
    "    obj = s3.Object(bucket, 'models/{}/evaluation_results.json'.format(algo))\n",
    "    data = obj.get()['Body'].read()\n",
    "    record = json.loads(data)\n",
    "    \n",
    "    #Append the name of the used algorithm\n",
    "    record['Algorithm'] = algo\n",
    "    results.append(record)\n",
    "\n",
    "# Create a DataFrame and rename the columns\n",
    "metrics_df = pd.DataFrame(results)\n",
    "metrics_df.columns = ['Path', 'Recall', 'Precision', 'Accuracy', 'F1', 'Algorithm']"
   ]
  },
  {
   "cell_type": "code",
   "execution_count": 89,
   "metadata": {},
   "outputs": [
    {
     "data": {
      "application/vnd.jupyter.widget-view+json": {
       "model_id": "",
       "version_major": 2,
       "version_minor": 0
      },
      "text/plain": [
       "FloatProgress(value=0.0, bar_style='info', description='Progress:', layout=Layout(height='25px', width='50%'),…"
      ]
     },
     "metadata": {},
     "output_type": "display_data"
    },
    {
     "name": "stdout",
     "output_type": "stream",
     "text": [
      "                                Path    Recall  ...        F1  Algorithm\n",
      "0  s3://sparkify-pmarcus/models/svm/  0.803992  ...  0.803678        svm\n",
      "1   s3://sparkify-pmarcus/models/lr/  0.802572  ...  0.802367         lr\n",
      "2   s3://sparkify-pmarcus/models/nb/  0.630586  ...  0.594386         nb\n",
      "3   s3://sparkify-pmarcus/models/rf/  0.820180  ...  0.820135         rf\n",
      "\n",
      "[4 rows x 6 columns]"
     ]
    }
   ],
   "source": [
    "metrics_df"
   ]
  },
  {
   "cell_type": "code",
   "execution_count": 93,
   "metadata": {},
   "outputs": [
    {
     "data": {
      "application/vnd.jupyter.widget-view+json": {
       "model_id": "",
       "version_major": 2,
       "version_minor": 0
      },
      "text/plain": [
       "FloatProgress(value=0.0, bar_style='info', description='Progress:', layout=Layout(height='25px', width='50%'),…"
      ]
     },
     "metadata": {},
     "output_type": "display_data"
    }
   ],
   "source": [
    "# drop the model path as we don`t need it for the evaluation\n",
    "metrics_df = metrics_df.drop(columns=['Path'])"
   ]
  },
  {
   "cell_type": "code",
   "execution_count": 94,
   "metadata": {},
   "outputs": [
    {
     "data": {
      "application/vnd.jupyter.widget-view+json": {
       "model_id": "",
       "version_major": 2,
       "version_minor": 0
      },
      "text/plain": [
       "FloatProgress(value=0.0, bar_style='info', description='Progress:', layout=Layout(height='25px', width='50%'),…"
      ]
     },
     "metadata": {},
     "output_type": "display_data"
    }
   ],
   "source": [
    "metrics_df_melted = metrics_df.melt(id_vars=\"Algorithm\")"
   ]
  },
  {
   "cell_type": "code",
   "execution_count": 95,
   "metadata": {},
   "outputs": [
    {
     "data": {
      "application/vnd.jupyter.widget-view+json": {
       "model_id": "",
       "version_major": 2,
       "version_minor": 0
      },
      "text/plain": [
       "FloatProgress(value=0.0, bar_style='info', description='Progress:', layout=Layout(height='25px', width='50%'),…"
      ]
     },
     "metadata": {},
     "output_type": "display_data"
    },
    {
     "name": "stdout",
     "output_type": "stream",
     "text": [
      "   Algorithm   variable     value\n",
      "0        svm     Recall  0.803992\n",
      "1         lr     Recall  0.802572\n",
      "2         nb     Recall  0.630586\n",
      "3         rf     Recall  0.820180\n",
      "4        svm  Precision  0.805989\n",
      "5         lr  Precision  0.803862\n",
      "6         nb  Precision  0.703443\n",
      "7         rf  Precision  0.820513\n",
      "8        svm   Accuracy  0.803992\n",
      "9         lr   Accuracy  0.802572\n",
      "10        nb   Accuracy  0.630586\n",
      "11        rf   Accuracy  0.820180\n",
      "12       svm         F1  0.803678\n",
      "13        lr         F1  0.802367\n",
      "14        nb         F1  0.594386\n",
      "15        rf         F1  0.820135"
     ]
    }
   ],
   "source": [
    "metrics_df_melted"
   ]
  },
  {
   "cell_type": "code",
   "execution_count": 96,
   "metadata": {},
   "outputs": [
    {
     "data": {
      "application/vnd.jupyter.widget-view+json": {
       "model_id": "",
       "version_major": 2,
       "version_minor": 0
      },
      "text/plain": [
       "FloatProgress(value=0.0, bar_style='info', description='Progress:', layout=Layout(height='25px', width='50%'),…"
      ]
     },
     "metadata": {},
     "output_type": "display_data"
    }
   ],
   "source": [
    "metrics_df_melted.rename(columns={'variable':\"Metric\",\n",
    "                                  'value':\"Score\"},\n",
    "                        inplace=True)"
   ]
  },
  {
   "cell_type": "code",
   "execution_count": 104,
   "metadata": {},
   "outputs": [
    {
     "data": {
      "application/vnd.jupyter.widget-view+json": {
       "model_id": "",
       "version_major": 2,
       "version_minor": 0
      },
      "text/plain": [
       "FloatProgress(value=0.0, bar_style='info', description='Progress:', layout=Layout(height='25px', width='50%'),…"
      ]
     },
     "metadata": {},
     "output_type": "display_data"
    },
    {
     "name": "stdout",
     "output_type": "stream",
     "text": [
      "   Algorithm     Metric     Score\n",
      "0        svm     Recall  0.803992\n",
      "1         lr     Recall  0.802572\n",
      "2         nb     Recall  0.630586\n",
      "3         rf     Recall  0.820180\n",
      "4        svm  Precision  0.805989\n",
      "5         lr  Precision  0.803862\n",
      "6         nb  Precision  0.703443\n",
      "7         rf  Precision  0.820513\n",
      "8        svm   Accuracy  0.803992\n",
      "9         lr   Accuracy  0.802572\n",
      "10        nb   Accuracy  0.630586\n",
      "11        rf   Accuracy  0.820180\n",
      "12       svm         F1  0.803678\n",
      "13        lr         F1  0.802367\n",
      "14        nb         F1  0.594386\n",
      "15        rf         F1  0.820135"
     ]
    }
   ],
   "source": [
    "metrics_df_melted"
   ]
  },
  {
   "cell_type": "code",
   "execution_count": 100,
   "metadata": {},
   "outputs": [
    {
     "data": {
      "application/vnd.jupyter.widget-view+json": {
       "model_id": "",
       "version_major": 2,
       "version_minor": 0
      },
      "text/plain": [
       "FloatProgress(value=0.0, bar_style='info', description='Progress:', layout=Layout(height='25px', width='50%'),…"
      ]
     },
     "metadata": {},
     "output_type": "display_data"
    },
    {
     "data": {
      "image/png": "[encoded data removed]",
      "text/plain": [
       "<IPython.core.display.Image object>"
      ]
     },
     "metadata": {},
     "output_type": "display_data"
    }
   ],
   "source": [
    "fig = plt.figure(figsize=(8,3))\n",
    "ax = sns.barplot(x=\"Metric\", y=\"Score\", hue=\"Algorithm\", data=metrics_df_melted)\n",
    "plt.grid(\"on\")\n",
    "%matplot plt"
   ]
  },
  {
   "cell_type": "markdown",
   "metadata": {},
   "source": [
    "The results show, that all models except for Naive Bayes performed with an Precision and Recall of approx. 80%. The Random Forest algorithm tends to win here, with an F1 score of 82%, compared to SVM and Logistic Regression, both with 80%. One \n",
    "\n",
    "Alternatively, it could also be tried out to drop features with a low importance and use larger parameter grids for optimization. The importance of features can be analyzed for example based on a decision tree, or the general feature importance score of other classifiers."
   ]
  },
  {
   "cell_type": "markdown",
   "metadata": {},
   "source": [
    "# Summary\n",
    "\n",
    "In this project, a end-to-end machine learning pipeline based on Apache Spark was created in order to detect users that might cancel their subscription with a fictional music streaming service called Sparkify. This analysis was done based on a event log that spans 60 days - as the analysis was conducted on an AWS EMR cluster, the full data set was used. After cleaning the data and extracting features, several machine learning algorithms were evaluated. Here it turned out, that overfitting occurred due to the small size of the data set and the many features used and further evaluation on the full data set is required.\n",
    "\n",
    "The set up of the AWS EMR cluster and the used AWS Stepfunctions turned out to be very helpful, as results get replicable. The created Stepfunctions could also be used in a productive machine learning workflow, that triggers for example once a day to detect potentially canceling users.\n",
    "\n",
    "A particular challenge with the data set was the highly imbalanced classes of loyal and churned users, which could lead to a biased classifier. This problem was tackled by weighting the instance samples, so that the instance weights in each class sum up to 0.5. Alternatively, up-sampling of the churned users could be applied by duplicating or slightly modifying existing entries.\n",
    "\n",
    "Also it was challenging to detect features that contribute to a correct classification result on the one side and can be efficiently computed on the other side. \n",
    "\n",
    "In the next steps, several improvements need to be applied to the project, first of all to down-select the most important features and extend the parameter grid for optimizing the results."
   ]
  },
  {
   "cell_type": "code",
   "execution_count": null,
   "metadata": {},
   "outputs": [],
   "source": []
  }
 ],
 "metadata": {
  "kernelspec": {
   "display_name": "PySpark",
   "language": "",
   "name": "pysparkkernel"
  },
  "language_info": {
   "codemirror_mode": {
    "name": "python",
    "version": 3
   },
   "mimetype": "text/x-python",
   "name": "pyspark",
   "pygments_lexer": "python3"
  }
 },
 "nbformat": 4,
 "nbformat_minor": 2
}
