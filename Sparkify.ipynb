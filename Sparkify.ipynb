{
 "cells": [
  {
   "cell_type": "markdown",
   "metadata": {},
   "source": [
    "# Sparkify Project Workspace\n",
    "This workspace contains a tiny subset (128MB) of the full dataset available (12GB). Feel free to use this workspace to build your project, or to explore a smaller subset with Spark before deploying your cluster on the cloud. Instructions for setting up your Spark cluster is included in the last lesson of the Extracurricular Spark Course content.\n",
    "\n",
    "You can follow the steps below to guide your data analysis and model building portion of this project."
   ]
  },
  {
   "cell_type": "code",
   "execution_count": 1,
   "metadata": {},
   "outputs": [],
   "source": [
    "# import libraries\n",
    "#%autoreload\n",
    "\n",
    "import numpy as np\n",
    "import pandas as pd\n",
    "\n",
    "import pyspark as ps\n",
    "from pyspark.sql import SparkSession\n",
    "from pyspark.sql.functions import udf, regexp_extract\n",
    "from pyspark.sql.types import FloatType, IntegerType\n",
    "\n",
    "import seaborn as sns\n",
    "import matplotlib.pyplot as plt\n",
    "import datetime"
   ]
  },
  {
   "cell_type": "code",
   "execution_count": 2,
   "metadata": {},
   "outputs": [],
   "source": [
    "# create a Spark session\n",
    "spark = SparkSession\\\n",
    "        .builder\\\n",
    "        .appName(\"Sparkify\")\\\n",
    "        .getOrCreate()"
   ]
  },
  {
   "cell_type": "code",
   "execution_count": 3,
   "metadata": {},
   "outputs": [],
   "source": [
    "# load the data in spark\n",
    "df_s = spark.read.json(\"mini_sparkify_event_data.json\")"
   ]
  },
  {
   "cell_type": "code",
   "execution_count": 4,
   "metadata": {},
   "outputs": [],
   "source": [
    "df_s.createOrReplaceTempView(\"df_table\")"
   ]
  },
  {
   "cell_type": "code",
   "execution_count": 5,
   "metadata": {},
   "outputs": [
    {
     "name": "stdout",
     "output_type": "stream",
     "text": [
      "root\n",
      " |-- artist: string (nullable = true)\n",
      " |-- auth: string (nullable = true)\n",
      " |-- firstName: string (nullable = true)\n",
      " |-- gender: string (nullable = true)\n",
      " |-- itemInSession: long (nullable = true)\n",
      " |-- lastName: string (nullable = true)\n",
      " |-- length: double (nullable = true)\n",
      " |-- level: string (nullable = true)\n",
      " |-- location: string (nullable = true)\n",
      " |-- method: string (nullable = true)\n",
      " |-- page: string (nullable = true)\n",
      " |-- registration: long (nullable = true)\n",
      " |-- sessionId: long (nullable = true)\n",
      " |-- song: string (nullable = true)\n",
      " |-- status: long (nullable = true)\n",
      " |-- ts: long (nullable = true)\n",
      " |-- userAgent: string (nullable = true)\n",
      " |-- userId: string (nullable = true)\n",
      "\n"
     ]
    }
   ],
   "source": [
    "df_s.printSchema()"
   ]
  },
  {
   "cell_type": "code",
   "execution_count": 6,
   "metadata": {},
   "outputs": [
    {
     "data": {
      "text/plain": [
       "[Row(artist='Martha Tilston', auth='Logged In', firstName='Colin', gender='M', itemInSession=50, lastName='Freeman', length=277.89016, level='paid', location='Bakersfield, CA', method='PUT', page='NextSong', registration=1538173362000, sessionId=29, song='Rockpools', status=200, ts=1538352117000, userAgent='Mozilla/5.0 (Windows NT 6.1; WOW64; rv:31.0) Gecko/20100101 Firefox/31.0', userId='30')]"
      ]
     },
     "execution_count": 6,
     "metadata": {},
     "output_type": "execute_result"
    }
   ],
   "source": [
    "df_s.take(1)"
   ]
  },
  {
   "cell_type": "markdown",
   "metadata": {},
   "source": [
    "The approach will consider the `page` and the `ts` column. The assumption is that I can use a window to aggregate some features in order to predict whether a user will churn or not.\n",
    "\n",
    "TODO:\n",
    "- Which features:\n",
    "    - Average session duration for each user\n",
    "    - Average listening time of a song\n",
    "    - Average sessions per day\n",
    "    - Average sessions per Month\n",
    "- What does churn mean\n",
    "- How long should the window be"
   ]
  },
  {
   "cell_type": "markdown",
   "metadata": {},
   "source": [
    "# Load and Clean Dataset\n",
    "In this workspace, the mini-dataset file is `mini_sparkify_event_data.json`. Load and clean the dataset, checking for invalid or missing data - for example, records without userids or sessionids. "
   ]
  },
  {
   "cell_type": "markdown",
   "metadata": {},
   "source": [
    "## Clean the column names and index\n",
    "\n",
    "The values in the csv are structured like key:value. The key has to be extracted and defined as the column name. The values have to be converted to the correct data type."
   ]
  },
  {
   "cell_type": "code",
   "execution_count": 7,
   "metadata": {},
   "outputs": [],
   "source": [
    "df = df_s.toPandas()"
   ]
  },
  {
   "cell_type": "code",
   "execution_count": 8,
   "metadata": {},
   "outputs": [
    {
     "data": {
      "text/html": [
       "<div>\n",
       "<style scoped>\n",
       "    .dataframe tbody tr th:only-of-type {\n",
       "        vertical-align: middle;\n",
       "    }\n",
       "\n",
       "    .dataframe tbody tr th {\n",
       "        vertical-align: top;\n",
       "    }\n",
       "\n",
       "    .dataframe thead th {\n",
       "        text-align: right;\n",
       "    }\n",
       "</style>\n",
       "<table border=\"1\" class=\"dataframe\">\n",
       "  <thead>\n",
       "    <tr style=\"text-align: right;\">\n",
       "      <th></th>\n",
       "      <th>artist</th>\n",
       "      <th>auth</th>\n",
       "      <th>firstName</th>\n",
       "      <th>gender</th>\n",
       "      <th>itemInSession</th>\n",
       "      <th>lastName</th>\n",
       "      <th>length</th>\n",
       "      <th>level</th>\n",
       "      <th>location</th>\n",
       "      <th>method</th>\n",
       "      <th>page</th>\n",
       "      <th>registration</th>\n",
       "      <th>sessionId</th>\n",
       "      <th>song</th>\n",
       "      <th>status</th>\n",
       "      <th>ts</th>\n",
       "      <th>userAgent</th>\n",
       "      <th>userId</th>\n",
       "    </tr>\n",
       "  </thead>\n",
       "  <tbody>\n",
       "    <tr>\n",
       "      <th>273796</th>\n",
       "      <td>None</td>\n",
       "      <td>Logged In</td>\n",
       "      <td>Antonina</td>\n",
       "      <td>F</td>\n",
       "      <td>0</td>\n",
       "      <td>Kennedy</td>\n",
       "      <td>NaN</td>\n",
       "      <td>paid</td>\n",
       "      <td>Colorado Springs, CO</td>\n",
       "      <td>GET</td>\n",
       "      <td>Home</td>\n",
       "      <td>1.526739e+12</td>\n",
       "      <td>339</td>\n",
       "      <td>None</td>\n",
       "      <td>200</td>\n",
       "      <td>1541671300000</td>\n",
       "      <td>\"Mozilla/5.0 (Windows NT 5.1) AppleWebKit/537....</td>\n",
       "      <td>300001</td>\n",
       "    </tr>\n",
       "    <tr>\n",
       "      <th>27540</th>\n",
       "      <td>Mansun</td>\n",
       "      <td>Logged In</td>\n",
       "      <td>Jayden</td>\n",
       "      <td>F</td>\n",
       "      <td>26</td>\n",
       "      <td>Phillips</td>\n",
       "      <td>249.07710</td>\n",
       "      <td>free</td>\n",
       "      <td>New York-Newark-Jersey City, NY-NJ-PA</td>\n",
       "      <td>PUT</td>\n",
       "      <td>NextSong</td>\n",
       "      <td>1.537893e+12</td>\n",
       "      <td>601</td>\n",
       "      <td>Stripper Vicar</td>\n",
       "      <td>200</td>\n",
       "      <td>1539116277000</td>\n",
       "      <td>\"Mozilla/5.0 (Windows NT 6.2; WOW64) AppleWebK...</td>\n",
       "      <td>118</td>\n",
       "    </tr>\n",
       "    <tr>\n",
       "      <th>158229</th>\n",
       "      <td>Ron Carter</td>\n",
       "      <td>Logged In</td>\n",
       "      <td>Riley</td>\n",
       "      <td>F</td>\n",
       "      <td>15</td>\n",
       "      <td>Taylor</td>\n",
       "      <td>497.13587</td>\n",
       "      <td>paid</td>\n",
       "      <td>Boston-Cambridge-Newton, MA-NH</td>\n",
       "      <td>PUT</td>\n",
       "      <td>NextSong</td>\n",
       "      <td>1.536404e+12</td>\n",
       "      <td>1947</td>\n",
       "      <td>I CAN'T GET STARTED</td>\n",
       "      <td>200</td>\n",
       "      <td>1542284397000</td>\n",
       "      <td>\"Mozilla/5.0 (iPad; CPU OS 7_1_2 like Mac OS X...</td>\n",
       "      <td>92</td>\n",
       "    </tr>\n",
       "    <tr>\n",
       "      <th>154300</th>\n",
       "      <td>Travie McCoy</td>\n",
       "      <td>Logged In</td>\n",
       "      <td>Chayse</td>\n",
       "      <td>M</td>\n",
       "      <td>86</td>\n",
       "      <td>Keller</td>\n",
       "      <td>211.12118</td>\n",
       "      <td>paid</td>\n",
       "      <td>Jackson, MS</td>\n",
       "      <td>PUT</td>\n",
       "      <td>NextSong</td>\n",
       "      <td>1.529643e+12</td>\n",
       "      <td>1905</td>\n",
       "      <td>Billionaire [feat. Bruno Mars]  (Explicit Albu...</td>\n",
       "      <td>200</td>\n",
       "      <td>1542186037000</td>\n",
       "      <td>\"Mozilla/5.0 (Windows NT 6.1; WOW64) AppleWebK...</td>\n",
       "      <td>70</td>\n",
       "    </tr>\n",
       "    <tr>\n",
       "      <th>228251</th>\n",
       "      <td>None</td>\n",
       "      <td>Logged In</td>\n",
       "      <td>Zoey</td>\n",
       "      <td>F</td>\n",
       "      <td>92</td>\n",
       "      <td>Floyd</td>\n",
       "      <td>NaN</td>\n",
       "      <td>free</td>\n",
       "      <td>Chicago-Naperville-Elgin, IL-IN-WI</td>\n",
       "      <td>PUT</td>\n",
       "      <td>Add to Playlist</td>\n",
       "      <td>1.530333e+12</td>\n",
       "      <td>28</td>\n",
       "      <td>None</td>\n",
       "      <td>200</td>\n",
       "      <td>1538749960000</td>\n",
       "      <td>\"Mozilla/5.0 (Windows NT 6.1; WOW64) AppleWebK...</td>\n",
       "      <td>200003</td>\n",
       "    </tr>\n",
       "  </tbody>\n",
       "</table>\n",
       "</div>"
      ],
      "text/plain": [
       "              artist       auth firstName gender  itemInSession  lastName  \\\n",
       "273796          None  Logged In  Antonina      F              0   Kennedy   \n",
       "27540         Mansun  Logged In    Jayden      F             26  Phillips   \n",
       "158229    Ron Carter  Logged In     Riley      F             15    Taylor   \n",
       "154300  Travie McCoy  Logged In    Chayse      M             86    Keller   \n",
       "228251          None  Logged In      Zoey      F             92     Floyd   \n",
       "\n",
       "           length level                               location method  \\\n",
       "273796        NaN  paid                   Colorado Springs, CO    GET   \n",
       "27540   249.07710  free  New York-Newark-Jersey City, NY-NJ-PA    PUT   \n",
       "158229  497.13587  paid         Boston-Cambridge-Newton, MA-NH    PUT   \n",
       "154300  211.12118  paid                            Jackson, MS    PUT   \n",
       "228251        NaN  free     Chicago-Naperville-Elgin, IL-IN-WI    PUT   \n",
       "\n",
       "                   page  registration  sessionId  \\\n",
       "273796             Home  1.526739e+12        339   \n",
       "27540          NextSong  1.537893e+12        601   \n",
       "158229         NextSong  1.536404e+12       1947   \n",
       "154300         NextSong  1.529643e+12       1905   \n",
       "228251  Add to Playlist  1.530333e+12         28   \n",
       "\n",
       "                                                     song  status  \\\n",
       "273796                                               None     200   \n",
       "27540                                      Stripper Vicar     200   \n",
       "158229                                I CAN'T GET STARTED     200   \n",
       "154300  Billionaire [feat. Bruno Mars]  (Explicit Albu...     200   \n",
       "228251                                               None     200   \n",
       "\n",
       "                   ts                                          userAgent  \\\n",
       "273796  1541671300000  \"Mozilla/5.0 (Windows NT 5.1) AppleWebKit/537....   \n",
       "27540   1539116277000  \"Mozilla/5.0 (Windows NT 6.2; WOW64) AppleWebK...   \n",
       "158229  1542284397000  \"Mozilla/5.0 (iPad; CPU OS 7_1_2 like Mac OS X...   \n",
       "154300  1542186037000  \"Mozilla/5.0 (Windows NT 6.1; WOW64) AppleWebK...   \n",
       "228251  1538749960000  \"Mozilla/5.0 (Windows NT 6.1; WOW64) AppleWebK...   \n",
       "\n",
       "        userId  \n",
       "273796  300001  \n",
       "27540      118  \n",
       "158229      92  \n",
       "154300      70  \n",
       "228251  200003  "
      ]
     },
     "execution_count": 8,
     "metadata": {},
     "output_type": "execute_result"
    }
   ],
   "source": [
    "df.sample(5)"
   ]
  },
  {
   "cell_type": "code",
   "execution_count": 9,
   "metadata": {},
   "outputs": [
    {
     "data": {
      "text/html": [
       "<div>\n",
       "<style scoped>\n",
       "    .dataframe tbody tr th:only-of-type {\n",
       "        vertical-align: middle;\n",
       "    }\n",
       "\n",
       "    .dataframe tbody tr th {\n",
       "        vertical-align: top;\n",
       "    }\n",
       "\n",
       "    .dataframe thead th {\n",
       "        text-align: right;\n",
       "    }\n",
       "</style>\n",
       "<table border=\"1\" class=\"dataframe\">\n",
       "  <thead>\n",
       "    <tr style=\"text-align: right;\">\n",
       "      <th></th>\n",
       "      <th>itemInSession</th>\n",
       "      <th>length</th>\n",
       "      <th>registration</th>\n",
       "      <th>sessionId</th>\n",
       "      <th>status</th>\n",
       "      <th>ts</th>\n",
       "    </tr>\n",
       "  </thead>\n",
       "  <tbody>\n",
       "    <tr>\n",
       "      <th>count</th>\n",
       "      <td>286500.000000</td>\n",
       "      <td>228108.000000</td>\n",
       "      <td>2.781540e+05</td>\n",
       "      <td>286500.000000</td>\n",
       "      <td>286500.000000</td>\n",
       "      <td>2.865000e+05</td>\n",
       "    </tr>\n",
       "    <tr>\n",
       "      <th>mean</th>\n",
       "      <td>114.414213</td>\n",
       "      <td>249.117182</td>\n",
       "      <td>1.535359e+12</td>\n",
       "      <td>1041.526555</td>\n",
       "      <td>210.054597</td>\n",
       "      <td>1.540957e+12</td>\n",
       "    </tr>\n",
       "    <tr>\n",
       "      <th>std</th>\n",
       "      <td>129.767262</td>\n",
       "      <td>99.235179</td>\n",
       "      <td>3.291322e+09</td>\n",
       "      <td>726.776263</td>\n",
       "      <td>31.505078</td>\n",
       "      <td>1.507544e+09</td>\n",
       "    </tr>\n",
       "    <tr>\n",
       "      <th>min</th>\n",
       "      <td>0.000000</td>\n",
       "      <td>0.783220</td>\n",
       "      <td>1.521381e+12</td>\n",
       "      <td>1.000000</td>\n",
       "      <td>200.000000</td>\n",
       "      <td>1.538352e+12</td>\n",
       "    </tr>\n",
       "    <tr>\n",
       "      <th>25%</th>\n",
       "      <td>27.000000</td>\n",
       "      <td>199.888530</td>\n",
       "      <td>1.533522e+12</td>\n",
       "      <td>336.000000</td>\n",
       "      <td>200.000000</td>\n",
       "      <td>1.539697e+12</td>\n",
       "    </tr>\n",
       "    <tr>\n",
       "      <th>50%</th>\n",
       "      <td>70.000000</td>\n",
       "      <td>234.500770</td>\n",
       "      <td>1.536664e+12</td>\n",
       "      <td>1013.000000</td>\n",
       "      <td>200.000000</td>\n",
       "      <td>1.540932e+12</td>\n",
       "    </tr>\n",
       "    <tr>\n",
       "      <th>75%</th>\n",
       "      <td>156.250000</td>\n",
       "      <td>277.158730</td>\n",
       "      <td>1.537672e+12</td>\n",
       "      <td>1675.000000</td>\n",
       "      <td>200.000000</td>\n",
       "      <td>1.542266e+12</td>\n",
       "    </tr>\n",
       "    <tr>\n",
       "      <th>max</th>\n",
       "      <td>1321.000000</td>\n",
       "      <td>3024.665670</td>\n",
       "      <td>1.543247e+12</td>\n",
       "      <td>2474.000000</td>\n",
       "      <td>404.000000</td>\n",
       "      <td>1.543799e+12</td>\n",
       "    </tr>\n",
       "  </tbody>\n",
       "</table>\n",
       "</div>"
      ],
      "text/plain": [
       "       itemInSession         length  registration      sessionId  \\\n",
       "count  286500.000000  228108.000000  2.781540e+05  286500.000000   \n",
       "mean      114.414213     249.117182  1.535359e+12    1041.526555   \n",
       "std       129.767262      99.235179  3.291322e+09     726.776263   \n",
       "min         0.000000       0.783220  1.521381e+12       1.000000   \n",
       "25%        27.000000     199.888530  1.533522e+12     336.000000   \n",
       "50%        70.000000     234.500770  1.536664e+12    1013.000000   \n",
       "75%       156.250000     277.158730  1.537672e+12    1675.000000   \n",
       "max      1321.000000    3024.665670  1.543247e+12    2474.000000   \n",
       "\n",
       "              status            ts  \n",
       "count  286500.000000  2.865000e+05  \n",
       "mean      210.054597  1.540957e+12  \n",
       "std        31.505078  1.507544e+09  \n",
       "min       200.000000  1.538352e+12  \n",
       "25%       200.000000  1.539697e+12  \n",
       "50%       200.000000  1.540932e+12  \n",
       "75%       200.000000  1.542266e+12  \n",
       "max       404.000000  1.543799e+12  "
      ]
     },
     "execution_count": 9,
     "metadata": {},
     "output_type": "execute_result"
    }
   ],
   "source": [
    "df.describe()"
   ]
  },
  {
   "cell_type": "code",
   "execution_count": 10,
   "metadata": {},
   "outputs": [
    {
     "name": "stdout",
     "output_type": "stream",
     "text": [
      "<class 'pandas.core.frame.DataFrame'>\n",
      "RangeIndex: 286500 entries, 0 to 286499\n",
      "Data columns (total 18 columns):\n",
      " #   Column         Non-Null Count   Dtype  \n",
      "---  ------         --------------   -----  \n",
      " 0   artist         228108 non-null  object \n",
      " 1   auth           286500 non-null  object \n",
      " 2   firstName      278154 non-null  object \n",
      " 3   gender         278154 non-null  object \n",
      " 4   itemInSession  286500 non-null  int64  \n",
      " 5   lastName       278154 non-null  object \n",
      " 6   length         228108 non-null  float64\n",
      " 7   level          286500 non-null  object \n",
      " 8   location       278154 non-null  object \n",
      " 9   method         286500 non-null  object \n",
      " 10  page           286500 non-null  object \n",
      " 11  registration   278154 non-null  float64\n",
      " 12  sessionId      286500 non-null  int64  \n",
      " 13  song           228108 non-null  object \n",
      " 14  status         286500 non-null  int64  \n",
      " 15  ts             286500 non-null  int64  \n",
      " 16  userAgent      278154 non-null  object \n",
      " 17  userId         286500 non-null  object \n",
      "dtypes: float64(2), int64(4), object(12)\n",
      "memory usage: 39.3+ MB\n"
     ]
    }
   ],
   "source": [
    "df.info()"
   ]
  },
  {
   "cell_type": "code",
   "execution_count": 11,
   "metadata": {},
   "outputs": [],
   "source": [
    "def get_unique_values(table_name, col_name):\n",
    "    \"\"\"\n",
    "    Computes a list of unique values of the given\n",
    "    table on the given column and returns a list.\n",
    "    INPUT:\n",
    "        table_name (str): name of the input table\n",
    "        col_name (str): name of the column to search unique values\n",
    "    OUTPUT:\n",
    "        list (str): all unique values found\n",
    "    \"\"\"\n",
    "    res = spark.sql(\"\"\"\n",
    "          SELECT DISTINCT {col_name}\n",
    "          FROM {table_name}\n",
    "          \"\"\".format(table_name=table_name,\n",
    "                     col_name=col_name)).toPandas().values.flatten().tolist()\n",
    "    return res"
   ]
  },
  {
   "cell_type": "code",
   "execution_count": 12,
   "metadata": {},
   "outputs": [
    {
     "name": "stdout",
     "output_type": "stream",
     "text": [
      "Column 'auth' has the 4 following unique values:\n",
      " ['Logged Out', 'Cancelled', 'Guest', 'Logged In']\n",
      "Column 'level' has the 2 following unique values:\n",
      " ['free', 'paid']\n",
      "Column 'status' has the 3 following unique values:\n",
      " [307, 404, 200]\n",
      "Column 'userAgent' has the 57 following unique values:\n",
      " ['\"Mozilla/5.0 (Macintosh; Intel Mac OS X 10_8_5) AppleWebKit/537.36 (KHTML, like Gecko) Chrome/36.0.1985.143 Safari/537.36\"', '\"Mozilla/5.0 (Windows NT 5.1) AppleWebKit/537.36 (KHTML, like Gecko) Chrome/36.0.1985.143 Safari/537.36\"', 'Mozilla/5.0 (X11; Ubuntu; Linux i686; rv:31.0) Gecko/20100101 Firefox/31.0', '\"Mozilla/5.0 (Macintosh; Intel Mac OS X 10_9_4) AppleWebKit/537.36 (KHTML, like Gecko) Chrome/36.0.1985.125 Safari/537.36\"', '\"Mozilla/5.0 (Macintosh; Intel Mac OS X 10_9_4) AppleWebKit/537.36 (KHTML, like Gecko) Chrome/35.0.1916.153 Safari/537.36\"', 'Mozilla/5.0 (Macintosh; Intel Mac OS X 10.7; rv:31.0) Gecko/20100101 Firefox/31.0', 'Mozilla/5.0 (Windows NT 6.1; WOW64; rv:30.0) Gecko/20100101 Firefox/30.0', 'Mozilla/5.0 (Windows NT 6.3; WOW64; rv:31.0) Gecko/20100101 Firefox/31.0', 'Mozilla/5.0 (compatible; MSIE 9.0; Windows NT 6.1; WOW64; Trident/5.0)', '\"Mozilla/5.0 (Windows NT 6.3; WOW64) AppleWebKit/537.36 (KHTML, like Gecko) Chrome/36.0.1985.143 Safari/537.36\"', 'Mozilla/5.0 (Macintosh; Intel Mac OS X 10.9; rv:31.0) Gecko/20100101 Firefox/31.0', '\"Mozilla/5.0 (Windows NT 5.1) AppleWebKit/537.36 (KHTML, like Gecko) Chrome/36.0.1985.125 Safari/537.36\"', None, '\"Mozilla/5.0 (iPhone; CPU iPhone OS 7_1_1 like Mac OS X) AppleWebKit/537.51.2 (KHTML, like Gecko) Version/7.0 Mobile/11D201 Safari/9537.53\"', '\"Mozilla/5.0 (Windows NT 6.1; WOW64) AppleWebKit/537.36 (KHTML, like Gecko) Chrome/36.0.1985.125 Safari/537.36\"', 'Mozilla/5.0 (Windows NT 6.1; WOW64; rv:31.0) Gecko/20100101 Firefox/31.0', 'Mozilla/5.0 (compatible; MSIE 9.0; Windows NT 6.1; Trident/5.0)', 'Mozilla/5.0 (compatible; MSIE 10.0; Windows NT 6.1; WOW64; Trident/6.0)', '\"Mozilla/5.0 (Macintosh; Intel Mac OS X 10_8_5) AppleWebKit/537.36 (KHTML, like Gecko) Chrome/37.0.2062.94 Safari/537.36\"', '\"Mozilla/5.0 (Macintosh; Intel Mac OS X 10_9_2) AppleWebKit/537.75.14 (KHTML, like Gecko) Version/7.0.3 Safari/537.75.14\"', '\"Mozilla/5.0 (Windows NT 6.1; WOW64) AppleWebKit/537.36 (KHTML, like Gecko) Chrome/37.0.2062.103 Safari/537.36\"', '\"Mozilla/5.0 (Windows NT 6.2; WOW64) AppleWebKit/537.36 (KHTML, like Gecko) Chrome/36.0.1985.125 Safari/537.36\"', '\"Mozilla/5.0 (iPad; CPU OS 7_1_2 like Mac OS X) AppleWebKit/537.51.2 (KHTML, like Gecko) Version/7.0 Mobile/11D257 Safari/9537.53\"', '\"Mozilla/5.0 (Macintosh; Intel Mac OS X 10_6_8) AppleWebKit/537.36 (KHTML, like Gecko) Chrome/36.0.1985.143 Safari/537.36\"', 'Mozilla/5.0 (Windows NT 6.0; rv:31.0) Gecko/20100101 Firefox/31.0', '\"Mozilla/5.0 (Macintosh; Intel Mac OS X 10_9_4) AppleWebKit/537.36 (KHTML, like Gecko) Chrome/36.0.1985.143 Safari/537.36\"', '\"Mozilla/5.0 (Macintosh; Intel Mac OS X 10_7_5) AppleWebKit/537.36 (KHTML, like Gecko) Chrome/36.0.1985.125 Safari/537.36\"', '\"Mozilla/5.0 (Windows NT 6.1) AppleWebKit/537.36 (KHTML, like Gecko) Chrome/36.0.1985.125 Safari/537.36\"', '\"Mozilla/5.0 (Windows NT 6.2; WOW64) AppleWebKit/537.36 (KHTML, like Gecko) Chrome/36.0.1985.143 Safari/537.36\"', 'Mozilla/5.0 (Macintosh; Intel Mac OS X 10.6; rv:31.0) Gecko/20100101 Firefox/31.0', '\"Mozilla/5.0 (Macintosh; Intel Mac OS X 10_9_3) AppleWebKit/537.76.4 (KHTML, like Gecko) Version/7.0.4 Safari/537.76.4\"', 'Mozilla/5.0 (X11; Linux x86_64; rv:31.0) Gecko/20100101 Firefox/31.0', '\"Mozilla/5.0 (Macintosh; Intel Mac OS X 10_9_4) AppleWebKit/537.78.2 (KHTML, like Gecko) Version/7.0.6 Safari/537.78.2\"', '\"Mozilla/5.0 (Macintosh; Intel Mac OS X 10_7_5) AppleWebKit/537.77.4 (KHTML, like Gecko) Version/6.1.5 Safari/537.77.4\"', '\"Mozilla/5.0 (Macintosh; Intel Mac OS X 10_10) AppleWebKit/600.1.8 (KHTML, like Gecko) Version/8.0 Safari/600.1.8\"', '\"Mozilla/5.0 (Windows NT 6.1; WOW64) AppleWebKit/537.36 (KHTML, like Gecko) Chrome/35.0.1916.153 Safari/537.36\"', '\"Mozilla/5.0 (X11; Linux x86_64) AppleWebKit/537.36 (KHTML, like Gecko) Chrome/36.0.1985.143 Safari/537.36\"', '\"Mozilla/5.0 (Windows NT 6.1) AppleWebKit/537.36 (KHTML, like Gecko) Chrome/36.0.1985.143 Safari/537.36\"', 'Mozilla/5.0 (X11; Ubuntu; Linux x86_64; rv:31.0) Gecko/20100101 Firefox/31.0', '\"Mozilla/5.0 (iPad; CPU OS 7_1_1 like Mac OS X) AppleWebKit/537.51.2 (KHTML, like Gecko) Version/7.0 Mobile/11D201 Safari/9537.53\"', '\"Mozilla/5.0 (Macintosh; Intel Mac OS X 10_10) AppleWebKit/600.1.3 (KHTML, like Gecko) Version/8.0 Safari/600.1.3\"', 'Mozilla/5.0 (Windows NT 6.2; WOW64; rv:31.0) Gecko/20100101 Firefox/31.0', '\"Mozilla/5.0 (Macintosh; Intel Mac OS X 10_9_4) AppleWebKit/537.77.4 (KHTML, like Gecko) Version/7.0.5 Safari/537.77.4\"', '\"Mozilla/5.0 (Windows NT 6.3; WOW64) AppleWebKit/537.36 (KHTML, like Gecko) Chrome/36.0.1985.125 Safari/537.36\"', 'Mozilla/5.0 (Windows NT 6.1; WOW64; rv:24.0) Gecko/20100101 Firefox/24.0', 'Mozilla/5.0 (Windows NT 6.1; WOW64; rv:32.0) Gecko/20100101 Firefox/32.0', '\"Mozilla/5.0 (Macintosh; Intel Mac OS X 10_9_2) AppleWebKit/537.74.9 (KHTML, like Gecko) Version/7.0.2 Safari/537.74.9\"', '\"Mozilla/5.0 (iPhone; CPU iPhone OS 7_1_2 like Mac OS X) AppleWebKit/537.51.2 (KHTML, like Gecko) Version/7.0 Mobile/11D257 Safari/9537.53\"', '\"Mozilla/5.0 (X11; Linux x86_64) AppleWebKit/537.36 (KHTML, like Gecko) Chrome/36.0.1985.125 Safari/537.36\"', '\"Mozilla/5.0 (Macintosh; Intel Mac OS X 10_9_2) AppleWebKit/537.36 (KHTML, like Gecko) Chrome/36.0.1985.125 Safari/537.36\"', '\"Mozilla/5.0 (Windows NT 6.1; WOW64) AppleWebKit/537.36 (KHTML, like Gecko) Chrome/37.0.2062.94 Safari/537.36\"', '\"Mozilla/5.0 (Macintosh; Intel Mac OS X 10_9_4) AppleWebKit/537.36 (KHTML, like Gecko) Chrome/37.0.2062.94 Safari/537.36\"', '\"Mozilla/5.0 (iPhone; CPU iPhone OS 7_1 like Mac OS X) AppleWebKit/537.51.2 (KHTML, like Gecko) Version/7.0 Mobile/11D167 Safari/9537.53\"', '\"Mozilla/5.0 (Windows NT 6.1; WOW64) AppleWebKit/537.36 (KHTML, like Gecko) Chrome/36.0.1985.143 Safari/537.36\"', 'Mozilla/5.0 (Macintosh; Intel Mac OS X 10.8; rv:31.0) Gecko/20100101 Firefox/31.0', 'Mozilla/5.0 (Windows NT 6.1; WOW64; Trident/7.0; rv:11.0) like Gecko', 'Mozilla/5.0 (Windows NT 6.1; rv:31.0) Gecko/20100101 Firefox/31.0']\n",
      "Column 'gender' has the 3 following unique values:\n",
      " ['F', None, 'M']\n"
     ]
    }
   ],
   "source": [
    "# Print unique values of interesting columns\n",
    "unique_query_cols = ['auth', 'level', 'status', 'userAgent', 'gender']\n",
    "for col in unique_query_cols:\n",
    "    res = get_unique_values('df_table', col)\n",
    "    print(\"Column '{}' has the {} following unique values:\\n\".format(col, len(res)), res)"
   ]
  },
  {
   "cell_type": "markdown",
   "metadata": {},
   "source": [
    "#### Clean the userAgent column\n",
    "\n",
    "This column contains a lot details that are most likely not relevant. However, the device type / OS type could be relevant, thus we extract it."
   ]
  },
  {
   "cell_type": "code",
   "execution_count": 13,
   "metadata": {},
   "outputs": [],
   "source": [
    "\"\"\"\n",
    "Extract the user system from the userAgent column. Raw regexp that is applied:\n",
    "\n",
    "Note: External braces need to be escaped with three backslashes for the sql query.\n",
    "\"\"\"\n",
    "userSystem = spark.sql('''\n",
    "          SELECT *, regexp_extract(userAgent,\n",
    "                                \\\"\\\\\\(([a-zA-Z 0-9.]+)\\\", 1)\n",
    "                                as userSystem\n",
    "          FROM df_table\n",
    "          ''')\n",
    "userSystem.createOrReplaceTempView(\"df_table\")"
   ]
  },
  {
   "cell_type": "markdown",
   "metadata": {},
   "source": [
    "## Delete unnecessary columns\n",
    "\n",
    "Downselect some interesting columns.\n",
    "\n",
    "TODO: What is the exact justification of other columns to be excluded? Iterative approach? How can we assess the degree of information the columns have?"
   ]
  },
  {
   "cell_type": "code",
   "execution_count": 14,
   "metadata": {},
   "outputs": [],
   "source": [
    "df_s = spark.sql('''\n",
    "                 SELECT userId, page, level, sessionId, ts, itemInSession, userSystem, length, auth\n",
    "                 FROM df_table\n",
    "                 ''')\n",
    "df_s.createOrReplaceTempView(\"df_table\")"
   ]
  },
  {
   "cell_type": "code",
   "execution_count": 15,
   "metadata": {},
   "outputs": [],
   "source": [
    "df = df_s.toPandas()"
   ]
  },
  {
   "cell_type": "code",
   "execution_count": 16,
   "metadata": {},
   "outputs": [
    {
     "data": {
      "text/plain": [
       "userId           False\n",
       "page             False\n",
       "level            False\n",
       "sessionId        False\n",
       "ts               False\n",
       "itemInSession    False\n",
       "userSystem        True\n",
       "length            True\n",
       "auth             False\n",
       "dtype: bool"
      ]
     },
     "execution_count": 16,
     "metadata": {},
     "output_type": "execute_result"
    }
   ],
   "source": [
    "# Convirm that there are no missing values\n",
    "df.isna().any()"
   ]
  },
  {
   "cell_type": "code",
   "execution_count": 17,
   "metadata": {},
   "outputs": [
    {
     "data": {
      "text/html": [
       "<div>\n",
       "<style scoped>\n",
       "    .dataframe tbody tr th:only-of-type {\n",
       "        vertical-align: middle;\n",
       "    }\n",
       "\n",
       "    .dataframe tbody tr th {\n",
       "        vertical-align: top;\n",
       "    }\n",
       "\n",
       "    .dataframe thead th {\n",
       "        text-align: right;\n",
       "    }\n",
       "</style>\n",
       "<table border=\"1\" class=\"dataframe\">\n",
       "  <thead>\n",
       "    <tr style=\"text-align: right;\">\n",
       "      <th></th>\n",
       "      <th>userId</th>\n",
       "      <th>page</th>\n",
       "      <th>level</th>\n",
       "      <th>sessionId</th>\n",
       "      <th>ts</th>\n",
       "      <th>itemInSession</th>\n",
       "      <th>userSystem</th>\n",
       "      <th>length</th>\n",
       "      <th>auth</th>\n",
       "    </tr>\n",
       "  </thead>\n",
       "  <tbody>\n",
       "    <tr>\n",
       "      <th>0</th>\n",
       "      <td>30</td>\n",
       "      <td>NextSong</td>\n",
       "      <td>paid</td>\n",
       "      <td>29</td>\n",
       "      <td>1538352117000</td>\n",
       "      <td>50</td>\n",
       "      <td>Windows NT 6.1</td>\n",
       "      <td>277.89016</td>\n",
       "      <td>Logged In</td>\n",
       "    </tr>\n",
       "    <tr>\n",
       "      <th>1</th>\n",
       "      <td>9</td>\n",
       "      <td>NextSong</td>\n",
       "      <td>free</td>\n",
       "      <td>8</td>\n",
       "      <td>1538352180000</td>\n",
       "      <td>79</td>\n",
       "      <td>Windows NT 6.1</td>\n",
       "      <td>236.09424</td>\n",
       "      <td>Logged In</td>\n",
       "    </tr>\n",
       "    <tr>\n",
       "      <th>2</th>\n",
       "      <td>30</td>\n",
       "      <td>NextSong</td>\n",
       "      <td>paid</td>\n",
       "      <td>29</td>\n",
       "      <td>1538352394000</td>\n",
       "      <td>51</td>\n",
       "      <td>Windows NT 6.1</td>\n",
       "      <td>282.82730</td>\n",
       "      <td>Logged In</td>\n",
       "    </tr>\n",
       "    <tr>\n",
       "      <th>3</th>\n",
       "      <td>9</td>\n",
       "      <td>NextSong</td>\n",
       "      <td>free</td>\n",
       "      <td>8</td>\n",
       "      <td>1538352416000</td>\n",
       "      <td>80</td>\n",
       "      <td>Windows NT 6.1</td>\n",
       "      <td>262.71302</td>\n",
       "      <td>Logged In</td>\n",
       "    </tr>\n",
       "    <tr>\n",
       "      <th>4</th>\n",
       "      <td>30</td>\n",
       "      <td>NextSong</td>\n",
       "      <td>paid</td>\n",
       "      <td>29</td>\n",
       "      <td>1538352676000</td>\n",
       "      <td>52</td>\n",
       "      <td>Windows NT 6.1</td>\n",
       "      <td>223.60771</td>\n",
       "      <td>Logged In</td>\n",
       "    </tr>\n",
       "  </tbody>\n",
       "</table>\n",
       "</div>"
      ],
      "text/plain": [
       "  userId      page level  sessionId             ts  itemInSession  \\\n",
       "0     30  NextSong  paid         29  1538352117000             50   \n",
       "1      9  NextSong  free          8  1538352180000             79   \n",
       "2     30  NextSong  paid         29  1538352394000             51   \n",
       "3      9  NextSong  free          8  1538352416000             80   \n",
       "4     30  NextSong  paid         29  1538352676000             52   \n",
       "\n",
       "       userSystem     length       auth  \n",
       "0  Windows NT 6.1  277.89016  Logged In  \n",
       "1  Windows NT 6.1  236.09424  Logged In  \n",
       "2  Windows NT 6.1  282.82730  Logged In  \n",
       "3  Windows NT 6.1  262.71302  Logged In  \n",
       "4  Windows NT 6.1  223.60771  Logged In  "
      ]
     },
     "execution_count": 17,
     "metadata": {},
     "output_type": "execute_result"
    }
   ],
   "source": [
    "df.head()"
   ]
  },
  {
   "cell_type": "markdown",
   "metadata": {},
   "source": [
    "# Exploratory Data Analysis\n",
    "When you're working with the full dataset, perform EDA by loading a small subset of the data and doing basic manipulations within Spark. In this workspace, you are already provided a small subset of data you can explore.\n"
   ]
  },
  {
   "cell_type": "markdown",
   "metadata": {},
   "source": [
    "### Define Churn\n",
    "\n",
    "Once you've done some preliminary analysis, create a column `Churn` to use as the label for your model. I suggest using the `Cancellation Confirmation` events to define your churn, which happen for both paid and free users. As a bonus task, you can also look into the `Downgrade` events."
   ]
  },
  {
   "cell_type": "code",
   "execution_count": 18,
   "metadata": {},
   "outputs": [],
   "source": [
    "\"\"\"\n",
    "Define a column `churn` that is 0 before a `Cancellation Confirmation` and 1 afterwards.\n",
    "\n",
    "Calculation logic:\n",
    "- binary encoding of the events\n",
    "- cumulative sum over the binary encoding\n",
    "\"\"\"\n",
    "# binary encoding of the 'Cancellation Confirmation' events in column churn\n",
    "df_s = spark.sql('''\n",
    "                  SELECT *, CASE WHEN page = 'Cancellation Confirmation' THEN 1 ELSE 0 END as cancel_event\n",
    "                  FROM df_table\n",
    "                  ''')\n",
    "df_s.createOrReplaceTempView('df_table')"
   ]
  },
  {
   "cell_type": "code",
   "execution_count": 19,
   "metadata": {},
   "outputs": [],
   "source": [
    "# cumulative sum over the churn column to detect phases\n",
    "df_s = spark.sql('''\n",
    "          SELECT *,\n",
    "          SUM(cancel_event) OVER (PARTITION BY userId) as churn\n",
    "          FROM df_table\n",
    "          ''')\n",
    "df_s.createOrReplaceTempView(\"df_table\")"
   ]
  },
  {
   "cell_type": "markdown",
   "metadata": {},
   "source": [
    "### Get userId of loyal and churned users\n",
    "\n",
    "Prepare two tables of `userId` separated by the fact whether this is a user that churned or a loyal user. This information is later needed to explore the daa based on the user group."
   ]
  },
  {
   "cell_type": "code",
   "execution_count": 20,
   "metadata": {},
   "outputs": [
    {
     "name": "stdout",
     "output_type": "stream",
     "text": [
      "Overall 52 users cancelled their subscription.\n"
     ]
    }
   ],
   "source": [
    "# Collect all userId of users that cancelled the subscription\n",
    "cancelled_userIds = spark.sql('''SELECT userId\n",
    "                                  FROM df_table\n",
    "                                  GROUP BY userId\n",
    "                                  HAVING MAX(churn) > 0\n",
    "                          ''')\n",
    "cancelled_userIds.createOrReplaceTempView(\"cancelled_userIds\")\n",
    "\n",
    "# print statistics\n",
    "print(\"Overall {} users cancelled their subscription.\".format(len(cancelled_userIds.collect())))"
   ]
  },
  {
   "cell_type": "code",
   "execution_count": 21,
   "metadata": {},
   "outputs": [
    {
     "name": "stdout",
     "output_type": "stream",
     "text": [
      "Overall 174 users did not cancel their subscription.\n"
     ]
    }
   ],
   "source": [
    "# Collect all userId of users that cancelled the subscription\n",
    "loyal_userIds = spark.sql('''SELECT userId\n",
    "                                  FROM df_table\n",
    "                                  GROUP BY userId\n",
    "                                  HAVING MAX(churn) = 0\n",
    "                          ''')\n",
    "loyal_userIds.createOrReplaceTempView(\"loyal_userIds\")\n",
    "\n",
    "# print statistics\n",
    "print(\"Overall {} users did not cancel their subscription.\".format(len(loyal_userIds.collect())))"
   ]
  },
  {
   "cell_type": "markdown",
   "metadata": {},
   "source": [
    "### Explore Data\n",
    "Once you've defined churn, perform some exploratory data analysis to observe the behavior for users who stayed vs users who churned. You can start by exploring aggregates on these two groups of users, observing how much of a specific action they experienced per a certain time unit or number of songs played.\n",
    "\n",
    "Ideas for comparing the two groups:\n",
    "- For each group, the average count of interactions per session. This will help us to understand whether users with less action count per session are more suspicios of churning.\n",
    "- For each group, the average count of each page in a session. This will help us to understand whether the user behaviour within a session distinguishes the two groups."
   ]
  },
  {
   "cell_type": "markdown",
   "metadata": {},
   "source": [
    "#### Average length\n",
    "\n",
    "The `length` event is filled out for `NextSong` and indicates the length of the played song. The listening behaviour could carry information about whether a user might `churn` or not."
   ]
  },
  {
   "cell_type": "code",
   "execution_count": 90,
   "metadata": {},
   "outputs": [],
   "source": [
    "# Extract the average length for both groups\n",
    "lengths_pd = spark.sql('''\n",
    "          SELECT userId, churn, avg(length)\n",
    "          FROM df_table\n",
    "          GROUP BY userId, churn\n",
    "          ''').toPandas()"
   ]
  },
  {
   "cell_type": "code",
   "execution_count": 91,
   "metadata": {},
   "outputs": [
    {
     "data": {
      "image/png": "[encoded data removed]",
      "text/plain": [
       "<Figure size 432x216 with 2 Axes>"
      ]
     },
     "metadata": {
      "needs_background": "light"
     },
     "output_type": "display_data"
    }
   ],
   "source": [
    "# visualize the distribution of length between two groups of users\n",
    "g = sns.FacetGrid(lengths_pd, col=\"churn\", sharey=False)\n",
    "g.map(plt.hist, \"avg(length)\");"
   ]
  },
  {
   "cell_type": "markdown",
   "metadata": {},
   "source": [
    "Both distributions follow a different shape. Thus this feature will be included into the feature extraction process."
   ]
  },
  {
   "cell_type": "markdown",
   "metadata": {},
   "source": [
    "#### Items per session\n",
    "\n",
    "The items per session can carry information about how intensively a user interacts with the portal and also about the session length. This could also contribute to explain the `churn`."
   ]
  },
  {
   "cell_type": "code",
   "execution_count": 96,
   "metadata": {},
   "outputs": [],
   "source": [
    "# For each user for each session, extract the average number of items to Pandas\n",
    "items_per_sess_pd = spark.sql('''\n",
    "          SELECT churn, userId, AVG(itemInSession) as avg\n",
    "          FROM df_table\n",
    "          GROUP BY churn, userId\n",
    "          ''').toPandas()"
   ]
  },
  {
   "cell_type": "code",
   "execution_count": 98,
   "metadata": {},
   "outputs": [
    {
     "data": {
      "image/png": "[encoded data removed]",
      "text/plain": [
       "<Figure size 432x216 with 2 Axes>"
      ]
     },
     "metadata": {
      "needs_background": "light"
     },
     "output_type": "display_data"
    }
   ],
   "source": [
    "# visualize the distribution of length between two groups of users\n",
    "g = sns.FacetGrid(items_per_sess_pd, col=\"churn\", sharey=False)\n",
    "g.map(plt.hist, \"avg\");"
   ]
  },
  {
   "cell_type": "markdown",
   "metadata": {},
   "source": [
    "The distribution of average events is more skewed for users that churned, indicating that this feature also carries information about a potential `churn`."
   ]
  },
  {
   "cell_type": "markdown",
   "metadata": {},
   "source": [
    "#### Average sessions per day\n",
    "\n",
    "The average sessions per day is counted by dividing the overall session count of a given user by the number of days from the first event observed until the last event observed."
   ]
  },
  {
   "cell_type": "code",
   "execution_count": 99,
   "metadata": {},
   "outputs": [],
   "source": [
    "# Add the feature for average sessions per day\n",
    "avg_sess_per_day = \"\"\"\n",
    "                   SELECT churn, userId, COUNT(DISTINCT sessionId) / (to_days(MAX(ts) - MIN(ts))+1) as avg_sess_p_day\n",
    "                   FROM df_table\n",
    "                   GROUP BY churn, userId\n",
    "                   \"\"\"\n",
    "avg_sess_p_day_pd = spark.sql(avg_sess_per_day).toPandas()"
   ]
  },
  {
   "cell_type": "code",
   "execution_count": 111,
   "metadata": {},
   "outputs": [
    {
     "data": {
      "text/plain": [
       "<seaborn.axisgrid.FacetGrid at 0x7f1694a00550>"
      ]
     },
     "execution_count": 111,
     "metadata": {},
     "output_type": "execute_result"
    },
    {
     "data": {
      "image/png": "[encoded data removed]",
      "text/plain": [
       "<Figure size 432x216 with 2 Axes>"
      ]
     },
     "metadata": {
      "needs_background": "light"
     },
     "output_type": "display_data"
    }
   ],
   "source": [
    "import numpy as np\n",
    "bins = np.arange(0, 6, 1)\n",
    "\n",
    "g = sns.FacetGrid(data=avg_sess_p_day_pd, col=\"churn\", sharey=False)\n",
    "g.map(plt.hist, \"avg_sess_p_day\", bins=bins)"
   ]
  },
  {
   "cell_type": "markdown",
   "metadata": {},
   "source": [
    "The distribution for churned users tends to have a fatter tail. It can be assumed that this feature also contributes to the classification process."
   ]
  },
  {
   "cell_type": "markdown",
   "metadata": {},
   "source": [
    "#### Daytime of service usage\n",
    "\n",
    "The daytime when the service is used might tell something about the potential of a user to churn. For example, users that frequently use the service in the evening might have a different churn rate than users that rather tend to use the service in the office or during lunch."
   ]
  },
  {
   "cell_type": "code",
   "execution_count": 27,
   "metadata": {},
   "outputs": [
    {
     "data": {
      "text/plain": [
       "<function __main__.<lambda>(x)>"
      ]
     },
     "execution_count": 27,
     "metadata": {},
     "output_type": "execute_result"
    }
   ],
   "source": [
    "to_hour = udf(lambda x: float(datetime.datetime.fromtimestamp(x / 1000.0).hour), FloatType())\n",
    "spark.udf.register(\"to_hour\", to_hour)"
   ]
  },
  {
   "cell_type": "code",
   "execution_count": 28,
   "metadata": {},
   "outputs": [],
   "source": [
    "# Add a column 'hour' to the data based on the timestamp 'ts'\n",
    "hours_augmented = spark.sql('''\n",
    "                   SELECT *, to_hour(ts) as hour\n",
    "                   FROM df_table\n",
    "                   ''')\n",
    "hours_augmented.createOrReplaceTempView(\"df_table_hours\")"
   ]
  },
  {
   "cell_type": "code",
   "execution_count": 29,
   "metadata": {},
   "outputs": [],
   "source": [
    "def get_bucket_percentage(table, time_col, uid_table):\n",
    "    \"\"\"\n",
    "    Returns a Pandas DataFrame which shows for a given user group \n",
    "    the percentage of actions during time bucket in column 'col'. This function\n",
    "    is used to compute the data for loyal and churned users seperately.\n",
    "    INPUT:\n",
    "        table (str): name of a table view that contains the 'time_col' column and a 'userId' colummn\n",
    "        time_col (str): name of the time column, i.e. 'weekday' or 'hour'\n",
    "        userId_list (str): name of a table that contain a column userId only.\n",
    "    OUTPUT:\n",
    "        Pandas DataFrame which shows the total number of events per time bucket for the given user group\n",
    "    \"\"\"\n",
    "    res = spark.sql(\"\"\"\n",
    "                    SELECT {time_col}, COUNT({time_col}) / (SELECT COUNT(*) FROM {table} WHERE userId IN (SELECT * FROM {uid_table})) as count \n",
    "                    FROM {table}  \n",
    "                    WHERE userId IN (SELECT * FROM {uid_table})\n",
    "                    GROUP BY {time_col}\n",
    "                    ORDER BY count DESC \n",
    "                    \"\"\".format(uid_table=uid_table, time_col=time_col, table=table))\n",
    "    res_pd = res.toPandas()\n",
    "    return res_pd"
   ]
  },
  {
   "cell_type": "code",
   "execution_count": 30,
   "metadata": {},
   "outputs": [],
   "source": [
    "loyal_hours_pd = get_bucket_percentage('df_table_hours', 'hour', 'loyal_userIds')\n",
    "churn_hours_pd = get_bucket_percentage('df_table_hours', 'hour', 'cancelled_userIds')"
   ]
  },
  {
   "cell_type": "code",
   "execution_count": 31,
   "metadata": {},
   "outputs": [
    {
     "data": {
      "image/png": "[encoded data removed]",
      "text/plain": [
       "<Figure size 432x288 with 1 Axes>"
      ]
     },
     "metadata": {
      "needs_background": "light"
     },
     "output_type": "display_data"
    }
   ],
   "source": [
    "ax = sns.lineplot(x='hour', y='count', data=loyal_hours_pd, label='Loyal Users')\n",
    "ax = sns.lineplot(x='hour', y='count', data=churn_hours_pd, label='Cancelled Users')\n",
    "plt.show()"
   ]
  },
  {
   "cell_type": "markdown",
   "metadata": {},
   "source": [
    "The data shows that `loyal` users are more active during the morning hours and `cancelled` users tend to have a relatively higher activity during the afternoon."
   ]
  },
  {
   "cell_type": "markdown",
   "metadata": {},
   "source": [
    "#### Weekday of service usage\n",
    "\n",
    "The weekday might also play a role to distinguish users that churn from loyal users. For example, users that tend to use the service during workdays might have a different probability to churn than users that use the service during the weekend."
   ]
  },
  {
   "cell_type": "code",
   "execution_count": 32,
   "metadata": {},
   "outputs": [
    {
     "data": {
      "text/plain": [
       "<function __main__.<lambda>(x)>"
      ]
     },
     "execution_count": 32,
     "metadata": {},
     "output_type": "execute_result"
    }
   ],
   "source": [
    "to_day = udf(lambda x: float(datetime.datetime.fromtimestamp(x / 1000.0).weekday()), FloatType())\n",
    "spark.udf.register(\"to_day\", to_day)"
   ]
  },
  {
   "cell_type": "code",
   "execution_count": 33,
   "metadata": {},
   "outputs": [],
   "source": [
    "# Add a column 'weekday' to the data based on the timestamp 'ts'\n",
    "weekdays_augmented = spark.sql('''\n",
    "                   SELECT *, to_day(ts) as weekday\n",
    "                   FROM df_table\n",
    "                   ''')\n",
    "weekdays_augmented.createOrReplaceTempView(\"df_table_weekdays\")"
   ]
  },
  {
   "cell_type": "code",
   "execution_count": 34,
   "metadata": {},
   "outputs": [],
   "source": [
    "loyal_weekdays_pd = get_bucket_percentage('df_table_weekdays', 'weekday', 'loyal_userIds')\n",
    "churn_weekdays_pd = get_bucket_percentage('df_table_weekdays', 'weekday', 'cancelled_userIds')"
   ]
  },
  {
   "cell_type": "code",
   "execution_count": 35,
   "metadata": {},
   "outputs": [
    {
     "data": {
      "image/png": "[encoded data removed]",
      "text/plain": [
       "<Figure size 432x288 with 1 Axes>"
      ]
     },
     "metadata": {
      "needs_background": "light"
     },
     "output_type": "display_data"
    }
   ],
   "source": [
    "ax = sns.lineplot(x='weekday', y='count', data=loyal_weekdays_pd, label='Loyal Users')\n",
    "ax = sns.lineplot(x='weekday', y='count', data=churn_weekdays_pd, label='Cancelled Users')\n",
    "plt.show()"
   ]
  },
  {
   "cell_type": "markdown",
   "metadata": {},
   "source": [
    "The percentage of usage follows a very similar line, however, cancelled users tend to listen more on Thursday and Friday, while loyal users tend to listen more on Sunday."
   ]
  },
  {
   "cell_type": "markdown",
   "metadata": {},
   "source": [
    "#### User system distribution\n",
    "\n",
    "The type of user agent could play a role with regards to the churn rage, for example if the experience on a smartphone device is worse than on other devices. "
   ]
  },
  {
   "cell_type": "code",
   "execution_count": 36,
   "metadata": {},
   "outputs": [],
   "source": [
    "# Extract the DataFrams for loyal and cancelled users\n",
    "loyal_systems_pd = get_bucket_percentage('df_table', 'userSystem', 'loyal_userIds')\n",
    "cancelled_systems_pd = get_bucket_percentage('df_table', 'userSystem', 'cancelled_userIds')"
   ]
  },
  {
   "cell_type": "code",
   "execution_count": 37,
   "metadata": {},
   "outputs": [
    {
     "data": {
      "text/html": [
       "<div>\n",
       "<style scoped>\n",
       "    .dataframe tbody tr th:only-of-type {\n",
       "        vertical-align: middle;\n",
       "    }\n",
       "\n",
       "    .dataframe tbody tr th {\n",
       "        vertical-align: top;\n",
       "    }\n",
       "\n",
       "    .dataframe thead th {\n",
       "        text-align: right;\n",
       "    }\n",
       "</style>\n",
       "<table border=\"1\" class=\"dataframe\">\n",
       "  <thead>\n",
       "    <tr style=\"text-align: right;\">\n",
       "      <th></th>\n",
       "      <th>userSystem</th>\n",
       "      <th>count</th>\n",
       "    </tr>\n",
       "  </thead>\n",
       "  <tbody>\n",
       "    <tr>\n",
       "      <th>0</th>\n",
       "      <td>Macintosh</td>\n",
       "      <td>0.386836</td>\n",
       "    </tr>\n",
       "    <tr>\n",
       "      <th>1</th>\n",
       "      <td>Windows NT 6.1</td>\n",
       "      <td>0.364502</td>\n",
       "    </tr>\n",
       "    <tr>\n",
       "      <th>2</th>\n",
       "      <td>Windows NT 6.3</td>\n",
       "      <td>0.090652</td>\n",
       "    </tr>\n",
       "    <tr>\n",
       "      <th>3</th>\n",
       "      <td>Windows NT 5.1</td>\n",
       "      <td>0.048324</td>\n",
       "    </tr>\n",
       "    <tr>\n",
       "      <th>4</th>\n",
       "      <td>Windows NT 6.2</td>\n",
       "      <td>0.047900</td>\n",
       "    </tr>\n",
       "    <tr>\n",
       "      <th>5</th>\n",
       "      <td>X11</td>\n",
       "      <td>0.039274</td>\n",
       "    </tr>\n",
       "    <tr>\n",
       "      <th>6</th>\n",
       "      <td>iPhone</td>\n",
       "      <td>0.022512</td>\n",
       "    </tr>\n",
       "  </tbody>\n",
       "</table>\n",
       "</div>"
      ],
      "text/plain": [
       "       userSystem     count\n",
       "0       Macintosh  0.386836\n",
       "1  Windows NT 6.1  0.364502\n",
       "2  Windows NT 6.3  0.090652\n",
       "3  Windows NT 5.1  0.048324\n",
       "4  Windows NT 6.2  0.047900\n",
       "5             X11  0.039274\n",
       "6          iPhone  0.022512"
      ]
     },
     "execution_count": 37,
     "metadata": {},
     "output_type": "execute_result"
    }
   ],
   "source": [
    "cancelled_systems_pd"
   ]
  },
  {
   "cell_type": "code",
   "execution_count": 38,
   "metadata": {
    "scrolled": true
   },
   "outputs": [
    {
     "data": {
      "text/html": [
       "<div>\n",
       "<style scoped>\n",
       "    .dataframe tbody tr th:only-of-type {\n",
       "        vertical-align: middle;\n",
       "    }\n",
       "\n",
       "    .dataframe tbody tr th {\n",
       "        vertical-align: top;\n",
       "    }\n",
       "\n",
       "    .dataframe thead th {\n",
       "        text-align: right;\n",
       "    }\n",
       "</style>\n",
       "<table border=\"1\" class=\"dataframe\">\n",
       "  <thead>\n",
       "    <tr style=\"text-align: right;\">\n",
       "      <th></th>\n",
       "      <th>userSystem</th>\n",
       "      <th>count</th>\n",
       "    </tr>\n",
       "  </thead>\n",
       "  <tbody>\n",
       "    <tr>\n",
       "      <th>0</th>\n",
       "      <td>Macintosh</td>\n",
       "      <td>0.353399</td>\n",
       "    </tr>\n",
       "    <tr>\n",
       "      <th>1</th>\n",
       "      <td>Windows NT 6.1</td>\n",
       "      <td>0.343612</td>\n",
       "    </tr>\n",
       "    <tr>\n",
       "      <th>2</th>\n",
       "      <td>Windows NT 6.3</td>\n",
       "      <td>0.059854</td>\n",
       "    </tr>\n",
       "    <tr>\n",
       "      <th>3</th>\n",
       "      <td>iPad</td>\n",
       "      <td>0.047100</td>\n",
       "    </tr>\n",
       "    <tr>\n",
       "      <th>4</th>\n",
       "      <td>compatible</td>\n",
       "      <td>0.044215</td>\n",
       "    </tr>\n",
       "    <tr>\n",
       "      <th>5</th>\n",
       "      <td>iPhone</td>\n",
       "      <td>0.042138</td>\n",
       "    </tr>\n",
       "    <tr>\n",
       "      <th>6</th>\n",
       "      <td>X11</td>\n",
       "      <td>0.029793</td>\n",
       "    </tr>\n",
       "    <tr>\n",
       "      <th>7</th>\n",
       "      <td>Windows NT 5.1</td>\n",
       "      <td>0.021677</td>\n",
       "    </tr>\n",
       "    <tr>\n",
       "      <th>8</th>\n",
       "      <td>Windows NT 6.2</td>\n",
       "      <td>0.013566</td>\n",
       "    </tr>\n",
       "    <tr>\n",
       "      <th>9</th>\n",
       "      <td>Windows NT 6.0</td>\n",
       "      <td>0.010106</td>\n",
       "    </tr>\n",
       "    <tr>\n",
       "      <th>10</th>\n",
       "      <td>None</td>\n",
       "      <td>0.000000</td>\n",
       "    </tr>\n",
       "  </tbody>\n",
       "</table>\n",
       "</div>"
      ],
      "text/plain": [
       "        userSystem     count\n",
       "0        Macintosh  0.353399\n",
       "1   Windows NT 6.1  0.343612\n",
       "2   Windows NT 6.3  0.059854\n",
       "3             iPad  0.047100\n",
       "4       compatible  0.044215\n",
       "5           iPhone  0.042138\n",
       "6              X11  0.029793\n",
       "7   Windows NT 5.1  0.021677\n",
       "8   Windows NT 6.2  0.013566\n",
       "9   Windows NT 6.0  0.010106\n",
       "10            None  0.000000"
      ]
     },
     "execution_count": 38,
     "metadata": {},
     "output_type": "execute_result"
    }
   ],
   "source": [
    "loyal_systems_pd"
   ]
  },
  {
   "cell_type": "code",
   "execution_count": 39,
   "metadata": {},
   "outputs": [],
   "source": [
    "system_usage = loyal_systems_pd.merge(cancelled_systems_pd, on='userSystem', how='outer', suffixes=('_loyal', '_cancelled'),).fillna(0.0)"
   ]
  },
  {
   "cell_type": "code",
   "execution_count": 40,
   "metadata": {},
   "outputs": [],
   "source": [
    "system_usage.userSystem = system_usage.userSystem.replace({\"\":\"unknown\"})"
   ]
  },
  {
   "cell_type": "code",
   "execution_count": 41,
   "metadata": {},
   "outputs": [],
   "source": [
    "# Melt the data down to three columns\n",
    "df = pd.melt(system_usage, id_vars=\"userSystem\", var_name=\"type\", value_name=\"percentage\")\n",
    "df = df.rename(columns={\"count_loyal\":\"Loyal Users\",\n",
    "                   \"count_cancelled\":\"Cancelled Users\",\n",
    "                   \"type\":\"User Category\",\n",
    "                   \"userSystem\":\"User System\",\n",
    "                   \"percentage\":\"Percentage\"})"
   ]
  },
  {
   "cell_type": "code",
   "execution_count": 42,
   "metadata": {},
   "outputs": [
    {
     "data": {
      "text/plain": [
       "<matplotlib.axes._subplots.AxesSubplot at 0x7f1699e15d50>"
      ]
     },
     "execution_count": 42,
     "metadata": {},
     "output_type": "execute_result"
    },
    {
     "data": {
      "image/png": "[encoded data removed]",
      "text/plain": [
       "<Figure size 1440x360 with 1 Axes>"
      ]
     },
     "metadata": {
      "needs_background": "light"
     },
     "output_type": "display_data"
    }
   ],
   "source": [
    "fig = plt.figure(figsize=(20,5))\n",
    "sns.barplot(y='Percentage', x='User System', hue='User Category', data = df)"
   ]
  },
  {
   "cell_type": "markdown",
   "metadata": {},
   "source": [
    "Loyal users tend to use the iPad, iPad and compatible more often than users that cancelled. Maybe the user experience is better than the desktop app, or people prefer to listen to music en route."
   ]
  },
  {
   "cell_type": "markdown",
   "metadata": {},
   "source": [
    "#### Length of the trace\n",
    "\n",
    "The length of the trace helps to undertand the data. The idea is to compare the first and last timestamp of each user."
   ]
  },
  {
   "cell_type": "code",
   "execution_count": 43,
   "metadata": {},
   "outputs": [
    {
     "data": {
      "text/plain": [
       "<function __main__.<lambda>(x)>"
      ]
     },
     "execution_count": 43,
     "metadata": {},
     "output_type": "execute_result"
    }
   ],
   "source": [
    "to_days = udf(lambda x: datetime.timedelta(milliseconds=x).days, IntegerType())\n",
    "spark.udf.register(\"to_days\", to_days)"
   ]
  },
  {
   "cell_type": "code",
   "execution_count": 44,
   "metadata": {},
   "outputs": [],
   "source": [
    "# Calculate the account lifetime in days\n",
    "lifetimes = spark.sql('''\n",
    "                      SELECT userId, to_days(MAX(ts) - MIN(ts)) as lifetime\n",
    "                      FROM df_table\n",
    "                      GROUP BY userId\n",
    "                      ORDER BY userId ASC\n",
    "                      ''')\n",
    "lifetimes.createOrReplaceTempView(\"lifetime_table\")"
   ]
  },
  {
   "cell_type": "code",
   "execution_count": 45,
   "metadata": {},
   "outputs": [],
   "source": [
    "def ntile_breakdown(ntile, ntile_col, userid_table, table='lifetime_table'):\n",
    "    \"\"\"\n",
    "    Calculates the NTILES over a given column.\n",
    "    INPUT:\n",
    "        ntile (int): ntile, i.e. 4 for quartiles\n",
    "        ntile_col (string): name of the column to compute ntiles on\n",
    "        userid_table (string): table that contains userIds we are interested in\n",
    "        table (string): name of a temp view that contains the column 'ntile_col'\n",
    "    Output:\n",
    "        result (DataFrame): Pandas DataFrame with the columns 'ntile_col' and 'ntiles'\n",
    "    \"\"\"\n",
    "    res = spark.sql(\"\"\"\n",
    "          SELECT {ntile_col}, NTILE({ntile}) OVER(ORDER BY {ntile_col} ASC) AS ntiles \n",
    "          FROM {table}\n",
    "          WHERE userId IN (SELECT * FROM {userid_table})\n",
    "          \"\"\".format(ntile=ntile,\n",
    "                     ntile_col=ntile_col,\n",
    "                     userid_table=userid_table,\n",
    "                     table=table))\n",
    "    res.createOrReplaceTempView(\"ntiles_view\") \n",
    "    \n",
    "    res = spark.sql(\"\"\"\n",
    "            SELECT ntiles, MAX({ntile_col}) as value\n",
    "            FROM ntiles_view\n",
    "            GROUP BY ntiles\n",
    "            \"\"\".format(ntile_col=ntile_col))\n",
    "    return res.toPandas()"
   ]
  },
  {
   "cell_type": "code",
   "execution_count": 46,
   "metadata": {},
   "outputs": [],
   "source": [
    "def merge_and_melt_dfs(df_loyal, df_cancelled, on):\n",
    "    \"\"\"\n",
    "    Merges and melts two DataFrames that were seperately created for loyal\n",
    "    and cancelled users. The column names need to match in both tables. Both\n",
    "    tables need to contain the column 'on'.\n",
    "    INPUT:\n",
    "        df_loyal (DataFrame): DataFrame created for users that were loyal\n",
    "        df_canelled (DataFrame): DataFrame created for users that cancelled\n",
    "        on (string): column name to merge the two DataFrames on\n",
    "    OUTPUT:\n",
    "        result (DataFrame): merged and melted pandas DataFrame\n",
    "    \n",
    "    \"\"\"\n",
    "    tmp_df = df_loyal.merge(df_cancelled,\n",
    "                            on=on,\n",
    "                            how='outer',\n",
    "                            suffixes=('_loyal', '_cancelled'),).fillna(0.0)\n",
    "    \n",
    "    # Melt the data down to three columns\n",
    "    res_df = pd.melt(tmp_df, id_vars=on, var_name=\"User Category\", value_name=\"Value\")\n",
    "    res_df = res_df.rename(columns={on:on.capitalize()})\n",
    "    \n",
    "    return res_df"
   ]
  },
  {
   "cell_type": "code",
   "execution_count": 47,
   "metadata": {},
   "outputs": [],
   "source": [
    "loyal_users_ntiles_pd = ntile_breakdown(4, 'lifetime', 'loyal_userIds')\n",
    "cancelled_users_ntiles_pd = ntile_breakdown(4, 'lifetime', 'cancelled_userIds')"
   ]
  },
  {
   "cell_type": "code",
   "execution_count": 48,
   "metadata": {},
   "outputs": [],
   "source": [
    "ntiles_pd = merge_and_melt_dfs(loyal_users_ntiles_pd,\n",
    "                                cancelled_users_ntiles_pd,\n",
    "                                on='ntiles')"
   ]
  },
  {
   "cell_type": "code",
   "execution_count": 49,
   "metadata": {},
   "outputs": [
    {
     "data": {
      "text/plain": [
       "<matplotlib.axes._subplots.AxesSubplot at 0x7f169bc2ad90>"
      ]
     },
     "execution_count": 49,
     "metadata": {},
     "output_type": "execute_result"
    },
    {
     "data": {
      "image/png": "[encoded data removed]",
      "text/plain": [
       "<Figure size 720x360 with 1 Axes>"
      ]
     },
     "metadata": {
      "needs_background": "light"
     },
     "output_type": "display_data"
    }
   ],
   "source": [
    "fig = plt.figure(figsize=(10,5))\n",
    "sns.barplot(y='Value', x='Ntiles', hue='User Category', data = ntiles_pd)"
   ]
  },
  {
   "cell_type": "code",
   "execution_count": 170,
   "metadata": {},
   "outputs": [],
   "source": [
    "acc_age = spark.sql(\"\"\"\n",
    "                  SELECT churn, userId, to_days(MAX(ts) - MIN(ts)) as acc_age\n",
    "                  FROM df_table\n",
    "                  GROUP BY churn, userId\n",
    "                  \"\"\").toPandas()"
   ]
  },
  {
   "cell_type": "markdown",
   "metadata": {},
   "source": [
    "The distribution of the quartiles clearly states that the cancelled user accounts generally have a shorter lifetime. For example:\n",
    "- 50% of cancelled users have an account lifetime of 20 days or less\n",
    "- 50% of loyal users have an account lifetime of approx. 52 days or less\n",
    "\n",
    "Accordingly it follows, that the account lifetime will be an important feature to detect the `churn`."
   ]
  },
  {
   "cell_type": "code",
   "execution_count": 172,
   "metadata": {},
   "outputs": [
    {
     "data": {
      "text/plain": [
       "<seaborn.axisgrid.FacetGrid at 0x7f1698dd6090>"
      ]
     },
     "execution_count": 172,
     "metadata": {},
     "output_type": "execute_result"
    },
    {
     "data": {
      "image/png": "[encoded data removed]",
      "text/plain": [
       "<Figure size 432x216 with 2 Axes>"
      ]
     },
     "metadata": {
      "needs_background": "light"
     },
     "output_type": "display_data"
    }
   ],
   "source": [
    "bins = np.arange(0, 90, 1)\n",
    "\n",
    "g = sns.FacetGrid(acc_age, col=\"churn\", sharey=False)\n",
    "g.map(plt.hist, \"acc_age\", bins=bins)"
   ]
  },
  {
   "cell_type": "markdown",
   "metadata": {},
   "source": [
    "It seems that users cancel uniform distributed over the lifetime of the account. However, when account reaches a certain age of e.g. 60 days, it might carry information whether the user will cancel the subscription."
   ]
  },
  {
   "cell_type": "markdown",
   "metadata": {},
   "source": [
    "#### Average session duration\n",
    "\n",
    "It can be assumed that the length of a session depends on the degree of satisfaction with the music service. This is evaluated by analyzing the quartiles of the session length of both user groups.\n",
    "\n",
    "Sessions have a unique `sessionId`. The strategy is to group by `userId` and then for each `userId`, we group by `sessionId`. Within each session group, the timedelta between the first and the last timestamp describes the session duration. This duration is converted to seconds by a `udf`."
   ]
  },
  {
   "cell_type": "code",
   "execution_count": 50,
   "metadata": {},
   "outputs": [
    {
     "data": {
      "text/plain": [
       "<function __main__.<lambda>(x)>"
      ]
     },
     "execution_count": 50,
     "metadata": {},
     "output_type": "execute_result"
    }
   ],
   "source": [
    "to_minutes = udf(lambda x: int(datetime.timedelta(milliseconds=x).seconds/60.), IntegerType())\n",
    "spark.udf.register(\"to_minutes\", to_minutes)"
   ]
  },
  {
   "cell_type": "code",
   "execution_count": 51,
   "metadata": {},
   "outputs": [],
   "source": [
    "session_lengths = spark.sql('''\n",
    "                              SELECT userId, sessionId, to_minutes(MAX(ts)-MIN(ts)) as session_duration\n",
    "                              FROM df_table\n",
    "                              GROUP BY userId, sessionId\n",
    "                              ORDER BY userId ASC, MIN(ts) ASC\n",
    "                              ''')\n",
    "session_lengths.createOrReplaceTempView(\"session_lengths\")"
   ]
  },
  {
   "cell_type": "code",
   "execution_count": 52,
   "metadata": {},
   "outputs": [],
   "source": [
    "loyal_sess_duration_ntiles_pd = ntile_breakdown(10, 'session_duration', 'loyal_userIds', 'session_lengths')\n",
    "cancelled_sess_duration_ntiles_pd = ntile_breakdown(10, 'session_duration', 'cancelled_userIds', 'session_lengths')"
   ]
  },
  {
   "cell_type": "code",
   "execution_count": 53,
   "metadata": {},
   "outputs": [],
   "source": [
    "# combine the data for loyal and cancelled users to allow a nice print\n",
    "sess_durs_pd = merge_and_melt_dfs(loyal_sess_duration_ntiles_pd,\n",
    "                                  cancelled_sess_duration_ntiles_pd,\n",
    "                                  on='ntiles')"
   ]
  },
  {
   "cell_type": "code",
   "execution_count": 54,
   "metadata": {},
   "outputs": [
    {
     "data": {
      "image/png": "[encoded data removed]",
      "text/plain": [
       "<Figure size 720x360 with 1 Axes>"
      ]
     },
     "metadata": {
      "needs_background": "light"
     },
     "output_type": "display_data"
    }
   ],
   "source": [
    "fig = plt.figure(figsize=(10,5))\n",
    "plt.grid()\n",
    "sns.barplot(y='Value', x='Ntiles', hue='User Category', data = sess_durs_pd)\n",
    "plt.show()"
   ]
  },
  {
   "cell_type": "markdown",
   "metadata": {},
   "source": [
    "Additionally to the N-tiles, let's analyze the histogram of session durations for both groups."
   ]
  },
  {
   "cell_type": "code",
   "execution_count": 176,
   "metadata": {},
   "outputs": [],
   "source": [
    "session_lengths2 = spark.sql('''\n",
    "                              SELECT churn, userId, sessionId, to_minutes(MAX(ts)-MIN(ts)) as session_duration\n",
    "                              FROM df_table\n",
    "                              GROUP BY churn, userId, sessionId\n",
    "                              ORDER BY userId ASC, MIN(ts) ASC\n",
    "                              ''').toPandas()"
   ]
  },
  {
   "cell_type": "code",
   "execution_count": 177,
   "metadata": {},
   "outputs": [
    {
     "data": {
      "text/plain": [
       "<seaborn.axisgrid.FacetGrid at 0x7f169abdb690>"
      ]
     },
     "execution_count": 177,
     "metadata": {},
     "output_type": "execute_result"
    },
    {
     "data": {
      "image/png": "[encoded data removed]",
      "text/plain": [
       "<Figure size 432x216 with 2 Axes>"
      ]
     },
     "metadata": {
      "needs_background": "light"
     },
     "output_type": "display_data"
    }
   ],
   "source": [
    "g = sns.FacetGrid(session_lengths2, col='churn')\n",
    "g.map(plt.hist, 'session_duration')"
   ]
  },
  {
   "cell_type": "markdown",
   "metadata": {},
   "source": [
    "The distribution of listening times shows that for 50% of the user base, the group of cancelled users tends to longer session durations. However, the 9-tile shows that loyal users seem to prefer longer listening sessions.\n",
    "\n",
    "The n-tile distribution of the session lengths for a given user could be a relevant feature to classify the user as `churn`."
   ]
  },
  {
   "cell_type": "markdown",
   "metadata": {},
   "source": [
    "#### Average Click-count of pages per session\n",
    "\n",
    "It can be assumed that loyal users tend to have a different click pattern than users that cancelled. For that, for each page, the average click count over all sessions of a given user group is calculated."
   ]
  },
  {
   "cell_type": "code",
   "execution_count": 55,
   "metadata": {},
   "outputs": [
    {
     "data": {
      "text/html": [
       "<div>\n",
       "<style scoped>\n",
       "    .dataframe tbody tr th:only-of-type {\n",
       "        vertical-align: middle;\n",
       "    }\n",
       "\n",
       "    .dataframe tbody tr th {\n",
       "        vertical-align: top;\n",
       "    }\n",
       "\n",
       "    .dataframe thead th {\n",
       "        text-align: right;\n",
       "    }\n",
       "</style>\n",
       "<table border=\"1\" class=\"dataframe\">\n",
       "  <thead>\n",
       "    <tr style=\"text-align: right;\">\n",
       "      <th></th>\n",
       "      <th>userId</th>\n",
       "      <th>page</th>\n",
       "      <th>level</th>\n",
       "      <th>sessionId</th>\n",
       "      <th>ts</th>\n",
       "      <th>itemInSession</th>\n",
       "      <th>userSystem</th>\n",
       "      <th>length</th>\n",
       "      <th>auth</th>\n",
       "      <th>cancel_event</th>\n",
       "      <th>churn</th>\n",
       "    </tr>\n",
       "  </thead>\n",
       "  <tbody>\n",
       "    <tr>\n",
       "      <th>0</th>\n",
       "      <td>100010</td>\n",
       "      <td>NextSong</td>\n",
       "      <td>free</td>\n",
       "      <td>31</td>\n",
       "      <td>1539003534000</td>\n",
       "      <td>0</td>\n",
       "      <td>iPhone</td>\n",
       "      <td>202.97098</td>\n",
       "      <td>Logged In</td>\n",
       "      <td>0</td>\n",
       "      <td>0</td>\n",
       "    </tr>\n",
       "    <tr>\n",
       "      <th>1</th>\n",
       "      <td>100010</td>\n",
       "      <td>NextSong</td>\n",
       "      <td>free</td>\n",
       "      <td>31</td>\n",
       "      <td>1539003736000</td>\n",
       "      <td>1</td>\n",
       "      <td>iPhone</td>\n",
       "      <td>196.54485</td>\n",
       "      <td>Logged In</td>\n",
       "      <td>0</td>\n",
       "      <td>0</td>\n",
       "    </tr>\n",
       "    <tr>\n",
       "      <th>2</th>\n",
       "      <td>100010</td>\n",
       "      <td>NextSong</td>\n",
       "      <td>free</td>\n",
       "      <td>31</td>\n",
       "      <td>1539003932000</td>\n",
       "      <td>2</td>\n",
       "      <td>iPhone</td>\n",
       "      <td>263.13098</td>\n",
       "      <td>Logged In</td>\n",
       "      <td>0</td>\n",
       "      <td>0</td>\n",
       "    </tr>\n",
       "    <tr>\n",
       "      <th>3</th>\n",
       "      <td>100010</td>\n",
       "      <td>Thumbs Up</td>\n",
       "      <td>free</td>\n",
       "      <td>31</td>\n",
       "      <td>1539003933000</td>\n",
       "      <td>3</td>\n",
       "      <td>iPhone</td>\n",
       "      <td>NaN</td>\n",
       "      <td>Logged In</td>\n",
       "      <td>0</td>\n",
       "      <td>0</td>\n",
       "    </tr>\n",
       "    <tr>\n",
       "      <th>4</th>\n",
       "      <td>100010</td>\n",
       "      <td>NextSong</td>\n",
       "      <td>free</td>\n",
       "      <td>31</td>\n",
       "      <td>1539004195000</td>\n",
       "      <td>4</td>\n",
       "      <td>iPhone</td>\n",
       "      <td>316.23791</td>\n",
       "      <td>Logged In</td>\n",
       "      <td>0</td>\n",
       "      <td>0</td>\n",
       "    </tr>\n",
       "    <tr>\n",
       "      <th>...</th>\n",
       "      <td>...</td>\n",
       "      <td>...</td>\n",
       "      <td>...</td>\n",
       "      <td>...</td>\n",
       "      <td>...</td>\n",
       "      <td>...</td>\n",
       "      <td>...</td>\n",
       "      <td>...</td>\n",
       "      <td>...</td>\n",
       "      <td>...</td>\n",
       "      <td>...</td>\n",
       "    </tr>\n",
       "    <tr>\n",
       "      <th>286495</th>\n",
       "      <td>100001</td>\n",
       "      <td>Home</td>\n",
       "      <td>free</td>\n",
       "      <td>53</td>\n",
       "      <td>1538497786000</td>\n",
       "      <td>19</td>\n",
       "      <td>Macintosh</td>\n",
       "      <td>NaN</td>\n",
       "      <td>Logged In</td>\n",
       "      <td>0</td>\n",
       "      <td>1</td>\n",
       "    </tr>\n",
       "    <tr>\n",
       "      <th>286496</th>\n",
       "      <td>100001</td>\n",
       "      <td>NextSong</td>\n",
       "      <td>free</td>\n",
       "      <td>53</td>\n",
       "      <td>1538498032000</td>\n",
       "      <td>20</td>\n",
       "      <td>Macintosh</td>\n",
       "      <td>655.77751</td>\n",
       "      <td>Logged In</td>\n",
       "      <td>0</td>\n",
       "      <td>1</td>\n",
       "    </tr>\n",
       "    <tr>\n",
       "      <th>286497</th>\n",
       "      <td>100001</td>\n",
       "      <td>Roll Advert</td>\n",
       "      <td>free</td>\n",
       "      <td>53</td>\n",
       "      <td>1538498073000</td>\n",
       "      <td>21</td>\n",
       "      <td>Macintosh</td>\n",
       "      <td>NaN</td>\n",
       "      <td>Logged In</td>\n",
       "      <td>0</td>\n",
       "      <td>1</td>\n",
       "    </tr>\n",
       "    <tr>\n",
       "      <th>286498</th>\n",
       "      <td>100001</td>\n",
       "      <td>Cancel</td>\n",
       "      <td>free</td>\n",
       "      <td>53</td>\n",
       "      <td>1538498074000</td>\n",
       "      <td>22</td>\n",
       "      <td>Macintosh</td>\n",
       "      <td>NaN</td>\n",
       "      <td>Logged In</td>\n",
       "      <td>0</td>\n",
       "      <td>1</td>\n",
       "    </tr>\n",
       "    <tr>\n",
       "      <th>286499</th>\n",
       "      <td>100001</td>\n",
       "      <td>Cancellation Confirmation</td>\n",
       "      <td>free</td>\n",
       "      <td>53</td>\n",
       "      <td>1538498205000</td>\n",
       "      <td>23</td>\n",
       "      <td>Macintosh</td>\n",
       "      <td>NaN</td>\n",
       "      <td>Cancelled</td>\n",
       "      <td>1</td>\n",
       "      <td>1</td>\n",
       "    </tr>\n",
       "  </tbody>\n",
       "</table>\n",
       "<p>286500 rows × 11 columns</p>\n",
       "</div>"
      ],
      "text/plain": [
       "        userId                       page level  sessionId             ts  \\\n",
       "0       100010                   NextSong  free         31  1539003534000   \n",
       "1       100010                   NextSong  free         31  1539003736000   \n",
       "2       100010                   NextSong  free         31  1539003932000   \n",
       "3       100010                  Thumbs Up  free         31  1539003933000   \n",
       "4       100010                   NextSong  free         31  1539004195000   \n",
       "...        ...                        ...   ...        ...            ...   \n",
       "286495  100001                       Home  free         53  1538497786000   \n",
       "286496  100001                   NextSong  free         53  1538498032000   \n",
       "286497  100001                Roll Advert  free         53  1538498073000   \n",
       "286498  100001                     Cancel  free         53  1538498074000   \n",
       "286499  100001  Cancellation Confirmation  free         53  1538498205000   \n",
       "\n",
       "        itemInSession userSystem     length       auth  cancel_event  churn  \n",
       "0                   0     iPhone  202.97098  Logged In             0      0  \n",
       "1                   1     iPhone  196.54485  Logged In             0      0  \n",
       "2                   2     iPhone  263.13098  Logged In             0      0  \n",
       "3                   3     iPhone        NaN  Logged In             0      0  \n",
       "4                   4     iPhone  316.23791  Logged In             0      0  \n",
       "...               ...        ...        ...        ...           ...    ...  \n",
       "286495             19  Macintosh        NaN  Logged In             0      1  \n",
       "286496             20  Macintosh  655.77751  Logged In             0      1  \n",
       "286497             21  Macintosh        NaN  Logged In             0      1  \n",
       "286498             22  Macintosh        NaN  Logged In             0      1  \n",
       "286499             23  Macintosh        NaN  Cancelled             1      1  \n",
       "\n",
       "[286500 rows x 11 columns]"
      ]
     },
     "execution_count": 55,
     "metadata": {},
     "output_type": "execute_result"
    }
   ],
   "source": [
    "spark.sql(\"\"\"\n",
    "SELECT * FROM df_table\"\"\").toPandas()"
   ]
  },
  {
   "cell_type": "code",
   "execution_count": 56,
   "metadata": {},
   "outputs": [],
   "source": [
    "def avg_page_click_percentages(user_table):\n",
    "    \"\"\"\n",
    "    Calculates for the given user group the average of the percentage of each `page` within a user session.\n",
    "    Only such events are counted that are done in a 'Logged In' state.\n",
    "    \n",
    "    INPUTS:\n",
    "        user_table (string): name of a temp view that contains userIds, e.g. loyal_userIds or cancelled_userIds. This is the underlying user group.\n",
    "    OUTPUTS:\n",
    "        result (DataFrame): A pandas DataFrame that shows the average percentage of each page over all sessions of the given user group.\n",
    "    \"\"\"\n",
    "    # Click count for each page within each user session\n",
    "    pages_per_session = spark.sql(\"\"\"\n",
    "          SELECT userId, sessionId, page, COUNT(page) as cnt\n",
    "          FROM df_table\n",
    "          WHERE userId in (SELECT * FROM {user_table}) and auth = 'Logged In'\n",
    "          GROUP BY userId, sessionId, page\n",
    "          \"\"\".format(user_table=user_table))\n",
    "    pages_per_session.createOrReplaceTempView(\"pages_per_session\")\n",
    "    \n",
    "    # Calculate the percentage of each page in each session\n",
    "    tmp = spark.sql('''\n",
    "                  SELECT userId, sessionId, page, cnt / SUM(cnt) OVER (PARTITION BY userId, sessionId) as sess_perc\n",
    "                  FROM pages_per_session\n",
    "                  ''')\n",
    "    tmp.createOrReplaceTempView(\"tmp\")\n",
    "    \n",
    "    # Calculate average percentage page rate within a session.\n",
    "    tmp2 = spark.sql('''\n",
    "          SELECT *, sess_perc / (SELECT COUNT(DISTINCT userId, sessionId) FROM tmp) as sess_avg_perc\n",
    "          FROM tmp\n",
    "          ''')\n",
    "    tmp2.createOrReplaceTempView(\"tmp2\")\n",
    "    \n",
    "    # Finally aggregate by the pages and dispay the average session percentages.\n",
    "    pages_perc = spark.sql('''\n",
    "                  SELECT page, SUM(sess_avg_perc) as avg_percent\n",
    "                  FROM tmp2\n",
    "                  GROUP BY page\n",
    "                  ORDER BY avg_percent DESC\n",
    "                  ''')\n",
    "    return pages_perc.toPandas()"
   ]
  },
  {
   "cell_type": "code",
   "execution_count": 57,
   "metadata": {},
   "outputs": [],
   "source": [
    "# Get the distributions for both user groups\n",
    "loyal_avg_clk_perc_pd = avg_page_click_percentages('loyal_userIds')\n",
    "cancelled_avg_clk_perc_pd = avg_page_click_percentages('cancelled_userIds')"
   ]
  },
  {
   "cell_type": "code",
   "execution_count": 58,
   "metadata": {},
   "outputs": [],
   "source": [
    "avg_clk_perc_pd = merge_and_melt_dfs(loyal_avg_clk_perc_pd,\n",
    "                                cancelled_avg_clk_perc_pd,\n",
    "                                on='page')"
   ]
  },
  {
   "cell_type": "code",
   "execution_count": 59,
   "metadata": {},
   "outputs": [
    {
     "data": {
      "image/png": "[encoded data removed]",
      "text/plain": [
       "<Figure size 1440x360 with 1 Axes>"
      ]
     },
     "metadata": {
      "needs_background": "light"
     },
     "output_type": "display_data"
    }
   ],
   "source": [
    "fig = plt.figure(figsize=(20,5))\n",
    "plt.grid()\n",
    "sns.barplot(y='Value', x='Page', hue='User Category', data = avg_clk_perc_pd)\n",
    "plt.xticks(\n",
    "    rotation=45, \n",
    "    horizontalalignment='right' \n",
    ")\n",
    "plt.show()"
   ]
  },
  {
   "cell_type": "markdown",
   "metadata": {},
   "source": [
    "The distribution looks similar, however, loyal users tend to click `NextSong` more often, whereby cancelled users tend to click on `Home` and `Roll Advert` more often."
   ]
  },
  {
   "cell_type": "markdown",
   "metadata": {},
   "source": [
    "# Feature Engineering\n",
    "Once you've familiarized yourself with the data, build out the features you find promising to train your model on. To work with the full dataset, you can follow the following steps.\n",
    "- Write a script to extract the necessary features from the smaller subset of data\n",
    "- Ensure that your script is scalable, using the best practices discussed in Lesson 3\n",
    "- Try your script on the full data set, debugging your script if necessary\n",
    "\n",
    "If you are working in the classroom workspace, you can just extract features based on the small subset of data contained here. Be sure to transfer over this work to the larger dataset when you work on your Spark cluster."
   ]
  },
  {
   "cell_type": "markdown",
   "metadata": {},
   "source": [
    "Target for the feature extraction is to create a dataframe with one row for each user. This row contains aggregated features."
   ]
  },
  {
   "cell_type": "code",
   "execution_count": 60,
   "metadata": {},
   "outputs": [],
   "source": [
    "# DataFrame for extracted features - to be filled up below\n",
    "features_df = spark.sql('''\n",
    "                        SELECT userId, MAX(churn) as churn\n",
    "                        FROM df_table\n",
    "                        GROUP BY userId\n",
    "                        ''')\n",
    "features_df.createOrReplaceTempView(\"features_df\")"
   ]
  },
  {
   "cell_type": "code",
   "execution_count": 61,
   "metadata": {},
   "outputs": [],
   "source": [
    "def add_feature(sub_query, new_feature_name, new_temp_view='features_df'):\n",
    "    \"\"\"\n",
    "    Used to add a new feature column to table 'features_df'. This\n",
    "    is achieved by injecting the passed sql-subquery and joining\n",
    "    the results on userId with the existing featues_df table.\n",
    "    \n",
    "    INPUT:\n",
    "        - sub_query (string): SQL query that should contain one row of additional features for each userId.\n",
    "        - new_feature_name (string): name of the new feature contained in 'sub_query'\n",
    "        - new_temp_view (string): Name of the new createOrReplaceTempView resulting from the joining \n",
    "    OUTPUT:\n",
    "        result (DataFrame): Spark DataFrame with the resulting table.\n",
    "    \"\"\"\n",
    "    tmp = spark.sql(\"\"\"\n",
    "                    SELECT f.*, new.{new_feature_name}\n",
    "                    FROM features_df as f\n",
    "                    JOIN ({sub_query}) as new\n",
    "                    on new.userId = f.userId\n",
    "                    \"\"\".format(sub_query = sub_query,\n",
    "                               new_feature_name = new_feature_name))   \n",
    "    tmp.createOrReplaceTempView(new_temp_view)\n",
    "    return tmp"
   ]
  },
  {
   "cell_type": "code",
   "execution_count": 62,
   "metadata": {},
   "outputs": [],
   "source": [
    "# Add the feature for average sessions per day\n",
    "avg_sess_per_day = \"\"\"\n",
    "                   SELECT userId, COUNT(DISTINCT sessionId) / (to_days(MAX(ts) - MIN(ts))+1) as avg_sess_p_day\n",
    "                   FROM df_table\n",
    "                   GROUP BY userId\n",
    "                   \"\"\"\n",
    "features_df = add_feature(avg_sess_per_day, 'avg_sess_p_day')"
   ]
  },
  {
   "cell_type": "code",
   "execution_count": 112,
   "metadata": {},
   "outputs": [],
   "source": [
    "# Average length\n",
    "avg_length = \"\"\"\n",
    "             SELECT userId, avg(length) as avg_length\n",
    "             FROM df_table\n",
    "             GROUP BY userId\n",
    "             \"\"\"\n",
    "features_df = add_feature(avg_length, 'avg_length')"
   ]
  },
  {
   "cell_type": "code",
   "execution_count": 116,
   "metadata": {},
   "outputs": [],
   "source": [
    "# Average items per session\n",
    "avg_items_p_sess = \"\"\"\n",
    "                      SELECT userId, AVG(itemInSession) as avg_items_p_sess\n",
    "                      FROM df_table\n",
    "                      GROUP BY userId\n",
    "                      \"\"\"\n",
    "features_df = add_feature(avg_items_p_sess, 'avg_items_p_sess')"
   ]
  },
  {
   "cell_type": "code",
   "execution_count": 173,
   "metadata": {},
   "outputs": [],
   "source": [
    "# Account age in days\n",
    "acc_age = \"\"\"\n",
    "          SELECT userId, to_days(MAX(ts) - MIN(ts)) as acc_age\n",
    "          FROM df_table\n",
    "          GROUP BY userId\n",
    "          \"\"\"\n",
    "features_df = add_feature(acc_age, 'acc_age')"
   ]
  },
  {
   "cell_type": "code",
   "execution_count": 196,
   "metadata": {},
   "outputs": [],
   "source": [
    "# Average session length in minutes\n",
    "\n",
    "# Create a helper table that holds all session lengths for each user in minutes\n",
    "tmp_sess_lens = \"\"\"\n",
    "        SELECT userId, to_minutes(MAX(ts)-MIN(ts)) as len\n",
    "        FROM df_table\n",
    "        GROUP BY userId, sessionId\n",
    "      \"\"\"\n",
    "tmp_sess_lens = spark.sql(tmp_sess_lens)\n",
    "tmp_sess_lens.createOrReplaceTempView(\"tmp_sess_lens\")\n",
    "\n",
    "# Compute the average over the session lengths of each user\n",
    "avg_sess_len = \"\"\"\n",
    "              SELECT userId, AVG(len) as avg_sess_len\n",
    "              FROM tmp_sess_lens\n",
    "              GROUP BY userId\n",
    "              \"\"\"\n",
    "features_df = add_feature(avg_sess_len, 'avg_sess_len')"
   ]
  },
  {
   "cell_type": "code",
   "execution_count": 197,
   "metadata": {},
   "outputs": [
    {
     "data": {
      "text/html": [
       "<div>\n",
       "<style scoped>\n",
       "    .dataframe tbody tr th:only-of-type {\n",
       "        vertical-align: middle;\n",
       "    }\n",
       "\n",
       "    .dataframe tbody tr th {\n",
       "        vertical-align: top;\n",
       "    }\n",
       "\n",
       "    .dataframe thead th {\n",
       "        text-align: right;\n",
       "    }\n",
       "</style>\n",
       "<table border=\"1\" class=\"dataframe\">\n",
       "  <thead>\n",
       "    <tr style=\"text-align: right;\">\n",
       "      <th></th>\n",
       "      <th>userId</th>\n",
       "      <th>churn</th>\n",
       "      <th>avg_sess_p_day</th>\n",
       "      <th>weightCol</th>\n",
       "      <th>avg_length</th>\n",
       "      <th>avg_items_p_sess</th>\n",
       "      <th>acc_age</th>\n",
       "      <th>avg_sess_len</th>\n",
       "    </tr>\n",
       "  </thead>\n",
       "  <tbody>\n",
       "    <tr>\n",
       "      <th>0</th>\n",
       "      <td>100010</td>\n",
       "      <td>0</td>\n",
       "      <td>0.155556</td>\n",
       "      <td>0.230088</td>\n",
       "      <td>243.421445</td>\n",
       "      <td>35.895013</td>\n",
       "      <td>44</td>\n",
       "      <td>154.142857</td>\n",
       "    </tr>\n",
       "    <tr>\n",
       "      <th>1</th>\n",
       "      <td>200002</td>\n",
       "      <td>0</td>\n",
       "      <td>0.130435</td>\n",
       "      <td>0.230088</td>\n",
       "      <td>242.916992</td>\n",
       "      <td>60.578059</td>\n",
       "      <td>45</td>\n",
       "      <td>265.833333</td>\n",
       "    </tr>\n",
       "    <tr>\n",
       "      <th>2</th>\n",
       "      <td>125</td>\n",
       "      <td>1</td>\n",
       "      <td>1.000000</td>\n",
       "      <td>0.769912</td>\n",
       "      <td>261.139138</td>\n",
       "      <td>5.000000</td>\n",
       "      <td>0</td>\n",
       "      <td>29.000000</td>\n",
       "    </tr>\n",
       "    <tr>\n",
       "      <th>3</th>\n",
       "      <td>124</td>\n",
       "      <td>0</td>\n",
       "      <td>0.483333</td>\n",
       "      <td>0.230088</td>\n",
       "      <td>248.176537</td>\n",
       "      <td>165.099275</td>\n",
       "      <td>59</td>\n",
       "      <td>379.931034</td>\n",
       "    </tr>\n",
       "    <tr>\n",
       "      <th>4</th>\n",
       "      <td>51</td>\n",
       "      <td>1</td>\n",
       "      <td>0.625000</td>\n",
       "      <td>0.769912</td>\n",
       "      <td>247.880551</td>\n",
       "      <td>200.603490</td>\n",
       "      <td>15</td>\n",
       "      <td>439.900000</td>\n",
       "    </tr>\n",
       "  </tbody>\n",
       "</table>\n",
       "</div>"
      ],
      "text/plain": [
       "   userId  churn  avg_sess_p_day  weightCol  avg_length  avg_items_p_sess  \\\n",
       "0  100010      0        0.155556   0.230088  243.421445         35.895013   \n",
       "1  200002      0        0.130435   0.230088  242.916992         60.578059   \n",
       "2     125      1        1.000000   0.769912  261.139138          5.000000   \n",
       "3     124      0        0.483333   0.230088  248.176537        165.099275   \n",
       "4      51      1        0.625000   0.769912  247.880551        200.603490   \n",
       "\n",
       "   acc_age  avg_sess_len  \n",
       "0       44    154.142857  \n",
       "1       45    265.833333  \n",
       "2        0     29.000000  \n",
       "3       59    379.931034  \n",
       "4       15    439.900000  "
      ]
     },
     "execution_count": 197,
     "metadata": {},
     "output_type": "execute_result"
    }
   ],
   "source": [
    "features_df.toPandas().head()"
   ]
  },
  {
   "cell_type": "code",
   "execution_count": 64,
   "metadata": {},
   "outputs": [],
   "source": [
    "# Mostly used system\n",
    "# Daytimes\n",
    "# Weektimes\n",
    "# Average percentage of each page click"
   ]
  },
  {
   "cell_type": "markdown",
   "metadata": {},
   "source": [
    "#### Handling imbalanced classes\n",
    "\n",
    "The `churn` is highly imbalanced over the provided samples. In order to get propper classification results, according measures need to be applied. Following choices exist:\n",
    "- Define a column `weightCol`, available after Spark 3.0.0\n",
    "- Up- or Down-sample the classes\n",
    "\n",
    "As at the time of writing no Docker image for Spark 3.0.0 was available, the approach of up- sampling is applied."
   ]
  },
  {
   "cell_type": "markdown",
   "metadata": {},
   "source": [
    "##### Up-sampling underrepresented classes\n",
    "\n",
    "In order to balance the classses, the positive (`churn` = 1) examples are all used, and the set of negative examples is down-sampled according to the ratio of negative to positive samples."
   ]
  },
  {
   "cell_type": "code",
   "execution_count": 201,
   "metadata": {},
   "outputs": [],
   "source": [
    "# Extract positive and negative samples\n",
    "churn_neg_samples = features_df.filter(features_df.churn == 0)\n",
    "churn_pos_samples = features_df.filter(features_df.churn == 1)\n",
    "\n",
    "# Compute counts of both sets\n",
    "churn_neg_cnt = churn_neg_samples.count()\n",
    "churn_pos_cnt = churn_pos_samples.count()"
   ]
  },
  {
   "cell_type": "code",
   "execution_count": 202,
   "metadata": {},
   "outputs": [],
   "source": [
    "# Ratio of positive examples\n",
    "pos_ratio = (float(churn_pos_cnt) / (churn_neg_cnt))"
   ]
  },
  {
   "cell_type": "code",
   "execution_count": 203,
   "metadata": {},
   "outputs": [],
   "source": [
    "# Perform the sub-sampling of negative examples\n",
    "sampled = churn_neg_samples.sample(False, pos_ratio)"
   ]
  },
  {
   "cell_type": "code",
   "execution_count": 204,
   "metadata": {},
   "outputs": [],
   "source": [
    "# Union sub-sampled negative examples with positive examples\n",
    "features_df_bal = sampled.union(churn_pos_samples)"
   ]
  },
  {
   "cell_type": "code",
   "execution_count": 205,
   "metadata": {},
   "outputs": [
    {
     "data": {
      "text/plain": [
       "52"
      ]
     },
     "execution_count": 205,
     "metadata": {},
     "output_type": "execute_result"
    }
   ],
   "source": [
    "# Verify the new number of negative examples\n",
    "features_df_bal.filter(features_df_bal.churn == 0).count()"
   ]
  },
  {
   "cell_type": "markdown",
   "metadata": {},
   "source": [
    "##### Weights for samples (AFTER SPARK 3.0.0)"
   ]
  },
  {
   "cell_type": "code",
   "execution_count": 70,
   "metadata": {},
   "outputs": [],
   "source": [
    "# Add class weights to compensate unbalanced classes\n",
    "weightCol =   \"\"\"\n",
    "              SELECT userId, CASE WHEN MAX(churn) = 1 \n",
    "                                  THEN\n",
    "                                    1 - (SELECT AVG(churn) FROM features_df)\n",
    "                                  ELSE\n",
    "                                    (SELECT AVG(churn) FROM features_df)\n",
    "                                  END as weightCol\n",
    "              FROM df_table\n",
    "              GROUP BY userId\n",
    "              \"\"\"\n",
    "features_df = add_feature(weightCol, 'weightCol')"
   ]
  },
  {
   "cell_type": "markdown",
   "metadata": {},
   "source": [
    "# Modeling\n",
    "Split the full dataset into train, test, and validation sets. Test out several of the machine learning methods you learned. Evaluate the accuracy of the various models, tuning parameters as necessary. Determine your winning model based on test accuracy and report results on the validation set. Since the churned users are a fairly small subset, I suggest using F1 score as the metric to optimize."
   ]
  },
  {
   "cell_type": "markdown",
   "metadata": {},
   "source": [
    "Target of the model is to label each user as churn or no_churn. Users that churned should be detected correctly. Others should be spared out.\n",
    "\n",
    "--> Label all churned users as 1 and try to predict this."
   ]
  },
  {
   "cell_type": "code",
   "execution_count": 206,
   "metadata": {},
   "outputs": [],
   "source": [
    "# Split data for training/test and validation\n",
    "train_test, validation = features_df_bal.randomSplit([0.9, 0.1], seed=42)"
   ]
  },
  {
   "cell_type": "code",
   "execution_count": 207,
   "metadata": {},
   "outputs": [
    {
     "name": "stdout",
     "output_type": "stream",
     "text": [
      "root\n",
      " |-- userId: string (nullable = true)\n",
      " |-- churn: long (nullable = true)\n",
      " |-- avg_sess_p_day: double (nullable = true)\n",
      " |-- weightCol: double (nullable = true)\n",
      " |-- avg_length: double (nullable = true)\n",
      " |-- avg_items_p_sess: double (nullable = true)\n",
      " |-- acc_age: integer (nullable = true)\n",
      " |-- avg_sess_len: double (nullable = true)\n",
      "\n"
     ]
    }
   ],
   "source": [
    "train_test.printSchema()"
   ]
  },
  {
   "cell_type": "code",
   "execution_count": 208,
   "metadata": {},
   "outputs": [],
   "source": [
    "from pyspark.ml.feature import VectorAssembler, MaxAbsScaler\n",
    "from pyspark.ml.classification import LinearSVC\n",
    "from pyspark.ml.tuning import CrossValidator, ParamGridBuilder\n",
    "from pyspark.ml import Pipeline\n",
    "from pyspark.ml.evaluation import BinaryClassificationEvaluator, MulticlassClassificationEvaluator\n",
    "\n",
    "# VectorAssembler\n",
    "vecAssembler = VectorAssembler(inputCols=[\"avg_sess_p_day\",\n",
    "                                          \"avg_length\",\n",
    "                                          \"avg_items_p_sess\",\n",
    "                                          \"acc_age\",\n",
    "                                          \"avg_sess_len\"],\n",
    "                               outputCol=\"features\")\n",
    "\n",
    "# Normalizer / Scaler\n",
    "maScaler = MaxAbsScaler(inputCol=\"features\",\n",
    "                        outputCol=\"features_scaled\")\n",
    "\n",
    "# Create the model\n",
    "svm = LinearSVC(featuresCol='features_scaled',\n",
    "                labelCol='churn', \n",
    "                predictionCol='prediction')\n",
    "\n",
    "# Fit the model"
   ]
  },
  {
   "cell_type": "code",
   "execution_count": 209,
   "metadata": {},
   "outputs": [],
   "source": [
    "# Define a pipeline\n",
    "pipe = Pipeline(stages=[vecAssembler,\n",
    "                        maScaler,\n",
    "                        svm])\n",
    "\n",
    "grid = ParamGridBuilder().addGrid(svm.regParam, [0]).build()\n",
    "\n",
    "# Use cross-validation\n",
    "cv = CrossValidator(estimator=pipe,\n",
    "                    evaluator=MulticlassClassificationEvaluator(labelCol='churn',\n",
    "                                                                #rawPredictionCol='Prediction',\n",
    "                                                                metricName='f1'),\n",
    "                    estimatorParamMaps=grid,\n",
    "                    numFolds=3,\n",
    "                    parallelism=4)"
   ]
  },
  {
   "cell_type": "code",
   "execution_count": 210,
   "metadata": {},
   "outputs": [],
   "source": [
    "cvModel = cv.fit(train_test)"
   ]
  },
  {
   "cell_type": "code",
   "execution_count": 211,
   "metadata": {},
   "outputs": [],
   "source": [
    "import pathlib\n",
    "model_path = str(pathlib.Path().absolute() / \"model\" / \"svm\")"
   ]
  },
  {
   "cell_type": "code",
   "execution_count": 212,
   "metadata": {},
   "outputs": [],
   "source": [
    "import tempfile\n",
    "cvModel.bestModel.write().overwrite().save(model_path)"
   ]
  },
  {
   "cell_type": "markdown",
   "metadata": {},
   "source": [
    "Unclear what this means - is it accurracy for each parameter combination of the grid? If yes, 0.5 means it is just randomly right?"
   ]
  },
  {
   "cell_type": "code",
   "execution_count": 220,
   "metadata": {},
   "outputs": [],
   "source": [
    "results2 = cvModel.transform(train_test)"
   ]
  },
  {
   "cell_type": "code",
   "execution_count": 221,
   "metadata": {},
   "outputs": [
    {
     "name": "stdout",
     "output_type": "stream",
     "text": [
      "root\n",
      " |-- userId: string (nullable = true)\n",
      " |-- churn: long (nullable = true)\n",
      " |-- avg_sess_p_day: double (nullable = true)\n",
      " |-- weightCol: double (nullable = true)\n",
      " |-- avg_length: double (nullable = true)\n",
      " |-- avg_items_p_sess: double (nullable = true)\n",
      " |-- acc_age: integer (nullable = true)\n",
      " |-- avg_sess_len: double (nullable = true)\n",
      " |-- features: vector (nullable = true)\n",
      " |-- features_scaled: vector (nullable = true)\n",
      " |-- rawPrediction: vector (nullable = true)\n",
      " |-- prediction: double (nullable = false)\n",
      "\n"
     ]
    }
   ],
   "source": [
    "results2.printSchema()"
   ]
  },
  {
   "cell_type": "code",
   "execution_count": 222,
   "metadata": {},
   "outputs": [
    {
     "data": {
      "text/plain": [
       "0.49473684210526314"
      ]
     },
     "execution_count": 222,
     "metadata": {},
     "output_type": "execute_result"
    }
   ],
   "source": [
    "results2.filter((results2.churn == 1)).count()/results2.count()"
   ]
  },
  {
   "cell_type": "markdown",
   "metadata": {},
   "source": [
    "The classificator just always says 'no churn' and achieves an accuracy of 81% with that strategy."
   ]
  },
  {
   "cell_type": "code",
   "execution_count": 223,
   "metadata": {
    "scrolled": true
   },
   "outputs": [
    {
     "data": {
      "text/plain": [
       "95"
      ]
     },
     "execution_count": 223,
     "metadata": {},
     "output_type": "execute_result"
    }
   ],
   "source": [
    "results2.count()"
   ]
  },
  {
   "cell_type": "code",
   "execution_count": 224,
   "metadata": {},
   "outputs": [
    {
     "data": {
      "text/plain": [
       "0.8736842105263158"
      ]
     },
     "execution_count": 224,
     "metadata": {},
     "output_type": "execute_result"
    }
   ],
   "source": [
    "cv.getEvaluator().evaluate(results2, {cv.getEvaluator().metricName: \"accuracy\"})"
   ]
  },
  {
   "cell_type": "code",
   "execution_count": 225,
   "metadata": {},
   "outputs": [
    {
     "data": {
      "text/plain": [
       "0.8736001494419279"
      ]
     },
     "execution_count": 225,
     "metadata": {},
     "output_type": "execute_result"
    }
   ],
   "source": [
    "cv.getEvaluator().evaluate(results2, {cv.getEvaluator().metricName: \"f1\"})"
   ]
  },
  {
   "cell_type": "markdown",
   "metadata": {},
   "source": [
    "Only 44% of all samples are labeled correctly"
   ]
  },
  {
   "cell_type": "code",
   "execution_count": 87,
   "metadata": {},
   "outputs": [],
   "source": [
    "from pyspark.ml.classification import NaiveBayes"
   ]
  },
  {
   "cell_type": "markdown",
   "metadata": {},
   "source": [
    "# Final Steps\n",
    "Clean up your code, adding comments and renaming variables to make the code easier to read and maintain. Refer to the Spark Project Overview page and Data Scientist Capstone Project Rubric to make sure you are including all components of the capstone project and meet all expectations. Remember, this includes thorough documentation in a README file in a Github repository, as well as a web app or blog post."
   ]
  },
  {
   "cell_type": "code",
   "execution_count": null,
   "metadata": {},
   "outputs": [],
   "source": []
  }
 ],
 "metadata": {
  "kernelspec": {
   "display_name": "Python 3",
   "language": "python",
   "name": "python3"
  },
  "language_info": {
   "codemirror_mode": {
    "name": "ipython",
    "version": 3
   },
   "file_extension": ".py",
   "mimetype": "text/x-python",
   "name": "python",
   "nbconvert_exporter": "python",
   "pygments_lexer": "ipython3",
   "version": "3.7.6"
  }
 },
 "nbformat": 4,
 "nbformat_minor": 2
}
