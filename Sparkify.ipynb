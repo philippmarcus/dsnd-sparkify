{
 "cells": [
  {
   "cell_type": "markdown",
   "metadata": {},
   "source": [
    "# Sparkify Project Workspace\n",
    "This workspace contains a tiny subset (128MB) of the full dataset available (12GB). Feel free to use this workspace to build your project, or to explore a smaller subset with Spark before deploying your cluster on the cloud. Instructions for setting up your Spark cluster is included in the last lesson of the Extracurricular Spark Course content.\n",
    "\n",
    "You can follow the steps below to guide your data analysis and model building portion of this project."
   ]
  },
  {
   "cell_type": "code",
   "execution_count": 1,
   "metadata": {},
   "outputs": [],
   "source": [
    "# import libraries\n",
    "#%autoreload\n",
    "\n",
    "import numpy as np\n",
    "import pandas as pd\n",
    "\n",
    "import pyspark as ps\n",
    "from pyspark.sql import SparkSession\n",
    "from pyspark.sql.functions import udf, regexp_extract\n",
    "from pyspark.sql.types import FloatType, IntegerType\n",
    "\n",
    "import seaborn as sns\n",
    "import matplotlib.pyplot as plt\n",
    "import datetime"
   ]
  },
  {
   "cell_type": "code",
   "execution_count": 2,
   "metadata": {},
   "outputs": [],
   "source": [
    "# create a Spark session\n",
    "spark = SparkSession\\\n",
    "        .builder\\\n",
    "        .appName(\"Sparkify\")\\\n",
    "        .getOrCreate()"
   ]
  },
  {
   "cell_type": "code",
   "execution_count": 3,
   "metadata": {},
   "outputs": [],
   "source": [
    "# load the data in spark\n",
    "df_s = spark.read.json(\"mini_sparkify_event_data.json\")"
   ]
  },
  {
   "cell_type": "code",
   "execution_count": 4,
   "metadata": {},
   "outputs": [],
   "source": [
    "df_s.createOrReplaceTempView(\"df_table\")"
   ]
  },
  {
   "cell_type": "code",
   "execution_count": 5,
   "metadata": {},
   "outputs": [
    {
     "name": "stdout",
     "output_type": "stream",
     "text": [
      "root\n",
      " |-- artist: string (nullable = true)\n",
      " |-- auth: string (nullable = true)\n",
      " |-- firstName: string (nullable = true)\n",
      " |-- gender: string (nullable = true)\n",
      " |-- itemInSession: long (nullable = true)\n",
      " |-- lastName: string (nullable = true)\n",
      " |-- length: double (nullable = true)\n",
      " |-- level: string (nullable = true)\n",
      " |-- location: string (nullable = true)\n",
      " |-- method: string (nullable = true)\n",
      " |-- page: string (nullable = true)\n",
      " |-- registration: long (nullable = true)\n",
      " |-- sessionId: long (nullable = true)\n",
      " |-- song: string (nullable = true)\n",
      " |-- status: long (nullable = true)\n",
      " |-- ts: long (nullable = true)\n",
      " |-- userAgent: string (nullable = true)\n",
      " |-- userId: string (nullable = true)\n",
      "\n"
     ]
    }
   ],
   "source": [
    "df_s.printSchema()"
   ]
  },
  {
   "cell_type": "code",
   "execution_count": 6,
   "metadata": {},
   "outputs": [
    {
     "data": {
      "text/plain": [
       "[Row(artist='Martha Tilston', auth='Logged In', firstName='Colin', gender='M', itemInSession=50, lastName='Freeman', length=277.89016, level='paid', location='Bakersfield, CA', method='PUT', page='NextSong', registration=1538173362000, sessionId=29, song='Rockpools', status=200, ts=1538352117000, userAgent='Mozilla/5.0 (Windows NT 6.1; WOW64; rv:31.0) Gecko/20100101 Firefox/31.0', userId='30')]"
      ]
     },
     "execution_count": 6,
     "metadata": {},
     "output_type": "execute_result"
    }
   ],
   "source": [
    "df_s.take(1)"
   ]
  },
  {
   "cell_type": "markdown",
   "metadata": {},
   "source": [
    "# Load and Clean Dataset\n",
    "In this workspace, the mini-dataset file is `mini_sparkify_event_data.json`. Load and clean the dataset, checking for invalid or missing data - for example, records without userids or sessionids. "
   ]
  },
  {
   "cell_type": "markdown",
   "metadata": {},
   "source": [
    "## Clean the column names and index\n",
    "\n",
    "The values in the csv are structured like key:value. The key has to be extracted and defined as the column name. The values have to be converted to the correct data type."
   ]
  },
  {
   "cell_type": "code",
   "execution_count": 7,
   "metadata": {},
   "outputs": [],
   "source": [
    "df = df_s.toPandas()"
   ]
  },
  {
   "cell_type": "code",
   "execution_count": 8,
   "metadata": {},
   "outputs": [
    {
     "data": {
      "text/html": [
       "<div>\n",
       "<style scoped>\n",
       "    .dataframe tbody tr th:only-of-type {\n",
       "        vertical-align: middle;\n",
       "    }\n",
       "\n",
       "    .dataframe tbody tr th {\n",
       "        vertical-align: top;\n",
       "    }\n",
       "\n",
       "    .dataframe thead th {\n",
       "        text-align: right;\n",
       "    }\n",
       "</style>\n",
       "<table border=\"1\" class=\"dataframe\">\n",
       "  <thead>\n",
       "    <tr style=\"text-align: right;\">\n",
       "      <th></th>\n",
       "      <th>artist</th>\n",
       "      <th>auth</th>\n",
       "      <th>firstName</th>\n",
       "      <th>gender</th>\n",
       "      <th>itemInSession</th>\n",
       "      <th>lastName</th>\n",
       "      <th>length</th>\n",
       "      <th>level</th>\n",
       "      <th>location</th>\n",
       "      <th>method</th>\n",
       "      <th>page</th>\n",
       "      <th>registration</th>\n",
       "      <th>sessionId</th>\n",
       "      <th>song</th>\n",
       "      <th>status</th>\n",
       "      <th>ts</th>\n",
       "      <th>userAgent</th>\n",
       "      <th>userId</th>\n",
       "    </tr>\n",
       "  </thead>\n",
       "  <tbody>\n",
       "    <tr>\n",
       "      <th>13572</th>\n",
       "      <td>War Of Ages</td>\n",
       "      <td>Logged In</td>\n",
       "      <td>Riley</td>\n",
       "      <td>F</td>\n",
       "      <td>29</td>\n",
       "      <td>Taylor</td>\n",
       "      <td>196.96281</td>\n",
       "      <td>free</td>\n",
       "      <td>Boston-Cambridge-Newton, MA-NH</td>\n",
       "      <td>PUT</td>\n",
       "      <td>NextSong</td>\n",
       "      <td>1.536404e+12</td>\n",
       "      <td>472</td>\n",
       "      <td>Absence of Fear</td>\n",
       "      <td>200</td>\n",
       "      <td>1538736039000</td>\n",
       "      <td>\"Mozilla/5.0 (iPad; CPU OS 7_1_2 like Mac OS X...</td>\n",
       "      <td>92</td>\n",
       "    </tr>\n",
       "    <tr>\n",
       "      <th>110561</th>\n",
       "      <td>SFDK</td>\n",
       "      <td>Logged In</td>\n",
       "      <td>Isobella</td>\n",
       "      <td>F</td>\n",
       "      <td>197</td>\n",
       "      <td>Wright</td>\n",
       "      <td>239.80363</td>\n",
       "      <td>paid</td>\n",
       "      <td>Atlanta-Sandy Springs-Roswell, GA</td>\n",
       "      <td>PUT</td>\n",
       "      <td>NextSong</td>\n",
       "      <td>1.536398e+12</td>\n",
       "      <td>1442</td>\n",
       "      <td>El umbral (con All Day Green)</td>\n",
       "      <td>200</td>\n",
       "      <td>1541077296000</td>\n",
       "      <td>\"Mozilla/5.0 (Windows NT 6.3; WOW64) AppleWebK...</td>\n",
       "      <td>45</td>\n",
       "    </tr>\n",
       "    <tr>\n",
       "      <th>183820</th>\n",
       "      <td>None</td>\n",
       "      <td>Logged In</td>\n",
       "      <td>Dillyn</td>\n",
       "      <td>F</td>\n",
       "      <td>86</td>\n",
       "      <td>Richardson</td>\n",
       "      <td>NaN</td>\n",
       "      <td>paid</td>\n",
       "      <td>Danville, VA</td>\n",
       "      <td>GET</td>\n",
       "      <td>Downgrade</td>\n",
       "      <td>1.537812e+12</td>\n",
       "      <td>2159</td>\n",
       "      <td>None</td>\n",
       "      <td>200</td>\n",
       "      <td>1542866503000</td>\n",
       "      <td>\"Mozilla/5.0 (Windows NT 6.1) AppleWebKit/537....</td>\n",
       "      <td>42</td>\n",
       "    </tr>\n",
       "    <tr>\n",
       "      <th>248207</th>\n",
       "      <td>Stardeath And White Dwarfs</td>\n",
       "      <td>Logged In</td>\n",
       "      <td>Zoey</td>\n",
       "      <td>F</td>\n",
       "      <td>93</td>\n",
       "      <td>Floyd</td>\n",
       "      <td>296.90730</td>\n",
       "      <td>free</td>\n",
       "      <td>Chicago-Naperville-Elgin, IL-IN-WI</td>\n",
       "      <td>PUT</td>\n",
       "      <td>NextSong</td>\n",
       "      <td>1.530333e+12</td>\n",
       "      <td>407</td>\n",
       "      <td>Time/Breathe [Reprise] (Album Version)</td>\n",
       "      <td>200</td>\n",
       "      <td>1543526560000</td>\n",
       "      <td>\"Mozilla/5.0 (Windows NT 6.1; WOW64) AppleWebK...</td>\n",
       "      <td>200003</td>\n",
       "    </tr>\n",
       "    <tr>\n",
       "      <th>102485</th>\n",
       "      <td>Creedence Clearwater Revival</td>\n",
       "      <td>Logged In</td>\n",
       "      <td>Lucero</td>\n",
       "      <td>F</td>\n",
       "      <td>57</td>\n",
       "      <td>Reed</td>\n",
       "      <td>160.02567</td>\n",
       "      <td>paid</td>\n",
       "      <td>Louisville/Jefferson County, KY-IN</td>\n",
       "      <td>PUT</td>\n",
       "      <td>NextSong</td>\n",
       "      <td>1.536642e+12</td>\n",
       "      <td>1434</td>\n",
       "      <td>Have You Ever Seen The Rain</td>\n",
       "      <td>200</td>\n",
       "      <td>1540927565000</td>\n",
       "      <td>\"Mozilla/5.0 (Windows NT 6.1; WOW64) AppleWebK...</td>\n",
       "      <td>140</td>\n",
       "    </tr>\n",
       "  </tbody>\n",
       "</table>\n",
       "</div>"
      ],
      "text/plain": [
       "                              artist       auth firstName gender  \\\n",
       "13572                    War Of Ages  Logged In     Riley      F   \n",
       "110561                          SFDK  Logged In  Isobella      F   \n",
       "183820                          None  Logged In    Dillyn      F   \n",
       "248207    Stardeath And White Dwarfs  Logged In      Zoey      F   \n",
       "102485  Creedence Clearwater Revival  Logged In    Lucero      F   \n",
       "\n",
       "        itemInSession    lastName     length level  \\\n",
       "13572              29      Taylor  196.96281  free   \n",
       "110561            197      Wright  239.80363  paid   \n",
       "183820             86  Richardson        NaN  paid   \n",
       "248207             93       Floyd  296.90730  free   \n",
       "102485             57        Reed  160.02567  paid   \n",
       "\n",
       "                                  location method       page  registration  \\\n",
       "13572       Boston-Cambridge-Newton, MA-NH    PUT   NextSong  1.536404e+12   \n",
       "110561   Atlanta-Sandy Springs-Roswell, GA    PUT   NextSong  1.536398e+12   \n",
       "183820                        Danville, VA    GET  Downgrade  1.537812e+12   \n",
       "248207  Chicago-Naperville-Elgin, IL-IN-WI    PUT   NextSong  1.530333e+12   \n",
       "102485  Louisville/Jefferson County, KY-IN    PUT   NextSong  1.536642e+12   \n",
       "\n",
       "        sessionId                                    song  status  \\\n",
       "13572         472                         Absence of Fear     200   \n",
       "110561       1442           El umbral (con All Day Green)     200   \n",
       "183820       2159                                    None     200   \n",
       "248207        407  Time/Breathe [Reprise] (Album Version)     200   \n",
       "102485       1434             Have You Ever Seen The Rain     200   \n",
       "\n",
       "                   ts                                          userAgent  \\\n",
       "13572   1538736039000  \"Mozilla/5.0 (iPad; CPU OS 7_1_2 like Mac OS X...   \n",
       "110561  1541077296000  \"Mozilla/5.0 (Windows NT 6.3; WOW64) AppleWebK...   \n",
       "183820  1542866503000  \"Mozilla/5.0 (Windows NT 6.1) AppleWebKit/537....   \n",
       "248207  1543526560000  \"Mozilla/5.0 (Windows NT 6.1; WOW64) AppleWebK...   \n",
       "102485  1540927565000  \"Mozilla/5.0 (Windows NT 6.1; WOW64) AppleWebK...   \n",
       "\n",
       "        userId  \n",
       "13572       92  \n",
       "110561      45  \n",
       "183820      42  \n",
       "248207  200003  \n",
       "102485     140  "
      ]
     },
     "execution_count": 8,
     "metadata": {},
     "output_type": "execute_result"
    }
   ],
   "source": [
    "df.sample(5)"
   ]
  },
  {
   "cell_type": "code",
   "execution_count": 9,
   "metadata": {},
   "outputs": [
    {
     "data": {
      "text/html": [
       "<div>\n",
       "<style scoped>\n",
       "    .dataframe tbody tr th:only-of-type {\n",
       "        vertical-align: middle;\n",
       "    }\n",
       "\n",
       "    .dataframe tbody tr th {\n",
       "        vertical-align: top;\n",
       "    }\n",
       "\n",
       "    .dataframe thead th {\n",
       "        text-align: right;\n",
       "    }\n",
       "</style>\n",
       "<table border=\"1\" class=\"dataframe\">\n",
       "  <thead>\n",
       "    <tr style=\"text-align: right;\">\n",
       "      <th></th>\n",
       "      <th>itemInSession</th>\n",
       "      <th>length</th>\n",
       "      <th>registration</th>\n",
       "      <th>sessionId</th>\n",
       "      <th>status</th>\n",
       "      <th>ts</th>\n",
       "    </tr>\n",
       "  </thead>\n",
       "  <tbody>\n",
       "    <tr>\n",
       "      <th>count</th>\n",
       "      <td>286500.000000</td>\n",
       "      <td>228108.000000</td>\n",
       "      <td>2.781540e+05</td>\n",
       "      <td>286500.000000</td>\n",
       "      <td>286500.000000</td>\n",
       "      <td>2.865000e+05</td>\n",
       "    </tr>\n",
       "    <tr>\n",
       "      <th>mean</th>\n",
       "      <td>114.414213</td>\n",
       "      <td>249.117182</td>\n",
       "      <td>1.535359e+12</td>\n",
       "      <td>1041.526555</td>\n",
       "      <td>210.054597</td>\n",
       "      <td>1.540957e+12</td>\n",
       "    </tr>\n",
       "    <tr>\n",
       "      <th>std</th>\n",
       "      <td>129.767262</td>\n",
       "      <td>99.235179</td>\n",
       "      <td>3.291322e+09</td>\n",
       "      <td>726.776263</td>\n",
       "      <td>31.505078</td>\n",
       "      <td>1.507544e+09</td>\n",
       "    </tr>\n",
       "    <tr>\n",
       "      <th>min</th>\n",
       "      <td>0.000000</td>\n",
       "      <td>0.783220</td>\n",
       "      <td>1.521381e+12</td>\n",
       "      <td>1.000000</td>\n",
       "      <td>200.000000</td>\n",
       "      <td>1.538352e+12</td>\n",
       "    </tr>\n",
       "    <tr>\n",
       "      <th>25%</th>\n",
       "      <td>27.000000</td>\n",
       "      <td>199.888530</td>\n",
       "      <td>1.533522e+12</td>\n",
       "      <td>336.000000</td>\n",
       "      <td>200.000000</td>\n",
       "      <td>1.539697e+12</td>\n",
       "    </tr>\n",
       "    <tr>\n",
       "      <th>50%</th>\n",
       "      <td>70.000000</td>\n",
       "      <td>234.500770</td>\n",
       "      <td>1.536664e+12</td>\n",
       "      <td>1013.000000</td>\n",
       "      <td>200.000000</td>\n",
       "      <td>1.540932e+12</td>\n",
       "    </tr>\n",
       "    <tr>\n",
       "      <th>75%</th>\n",
       "      <td>156.250000</td>\n",
       "      <td>277.158730</td>\n",
       "      <td>1.537672e+12</td>\n",
       "      <td>1675.000000</td>\n",
       "      <td>200.000000</td>\n",
       "      <td>1.542266e+12</td>\n",
       "    </tr>\n",
       "    <tr>\n",
       "      <th>max</th>\n",
       "      <td>1321.000000</td>\n",
       "      <td>3024.665670</td>\n",
       "      <td>1.543247e+12</td>\n",
       "      <td>2474.000000</td>\n",
       "      <td>404.000000</td>\n",
       "      <td>1.543799e+12</td>\n",
       "    </tr>\n",
       "  </tbody>\n",
       "</table>\n",
       "</div>"
      ],
      "text/plain": [
       "       itemInSession         length  registration      sessionId  \\\n",
       "count  286500.000000  228108.000000  2.781540e+05  286500.000000   \n",
       "mean      114.414213     249.117182  1.535359e+12    1041.526555   \n",
       "std       129.767262      99.235179  3.291322e+09     726.776263   \n",
       "min         0.000000       0.783220  1.521381e+12       1.000000   \n",
       "25%        27.000000     199.888530  1.533522e+12     336.000000   \n",
       "50%        70.000000     234.500770  1.536664e+12    1013.000000   \n",
       "75%       156.250000     277.158730  1.537672e+12    1675.000000   \n",
       "max      1321.000000    3024.665670  1.543247e+12    2474.000000   \n",
       "\n",
       "              status            ts  \n",
       "count  286500.000000  2.865000e+05  \n",
       "mean      210.054597  1.540957e+12  \n",
       "std        31.505078  1.507544e+09  \n",
       "min       200.000000  1.538352e+12  \n",
       "25%       200.000000  1.539697e+12  \n",
       "50%       200.000000  1.540932e+12  \n",
       "75%       200.000000  1.542266e+12  \n",
       "max       404.000000  1.543799e+12  "
      ]
     },
     "execution_count": 9,
     "metadata": {},
     "output_type": "execute_result"
    }
   ],
   "source": [
    "df.describe()"
   ]
  },
  {
   "cell_type": "code",
   "execution_count": 10,
   "metadata": {},
   "outputs": [
    {
     "name": "stdout",
     "output_type": "stream",
     "text": [
      "<class 'pandas.core.frame.DataFrame'>\n",
      "RangeIndex: 286500 entries, 0 to 286499\n",
      "Data columns (total 18 columns):\n",
      " #   Column         Non-Null Count   Dtype  \n",
      "---  ------         --------------   -----  \n",
      " 0   artist         228108 non-null  object \n",
      " 1   auth           286500 non-null  object \n",
      " 2   firstName      278154 non-null  object \n",
      " 3   gender         278154 non-null  object \n",
      " 4   itemInSession  286500 non-null  int64  \n",
      " 5   lastName       278154 non-null  object \n",
      " 6   length         228108 non-null  float64\n",
      " 7   level          286500 non-null  object \n",
      " 8   location       278154 non-null  object \n",
      " 9   method         286500 non-null  object \n",
      " 10  page           286500 non-null  object \n",
      " 11  registration   278154 non-null  float64\n",
      " 12  sessionId      286500 non-null  int64  \n",
      " 13  song           228108 non-null  object \n",
      " 14  status         286500 non-null  int64  \n",
      " 15  ts             286500 non-null  int64  \n",
      " 16  userAgent      278154 non-null  object \n",
      " 17  userId         286500 non-null  object \n",
      "dtypes: float64(2), int64(4), object(12)\n",
      "memory usage: 39.3+ MB\n"
     ]
    }
   ],
   "source": [
    "df.info()"
   ]
  },
  {
   "cell_type": "code",
   "execution_count": 11,
   "metadata": {},
   "outputs": [],
   "source": [
    "def get_unique_values(table_name, col_name):\n",
    "    \"\"\"\n",
    "    Computes a list of unique values of the given\n",
    "    table on the given column and returns a list.\n",
    "    INPUT:\n",
    "        table_name (str): name of the input table\n",
    "        col_name (str): name of the column to search unique values\n",
    "    OUTPUT:\n",
    "        list (str): all unique values found\n",
    "    \"\"\"\n",
    "    res = spark.sql(\"\"\"\n",
    "          SELECT DISTINCT {col_name}\n",
    "          FROM {table_name}\n",
    "          \"\"\".format(table_name=table_name,\n",
    "                     col_name=col_name)).toPandas().values.flatten().tolist()\n",
    "    return res"
   ]
  },
  {
   "cell_type": "code",
   "execution_count": 12,
   "metadata": {},
   "outputs": [
    {
     "name": "stdout",
     "output_type": "stream",
     "text": [
      "Column 'page' has the 22 following unique values:\n",
      " ['Cancel', 'Submit Downgrade', 'Thumbs Down', 'Home', 'Downgrade', 'Roll Advert', 'Logout', 'Save Settings', 'Cancellation Confirmation', 'About', 'Submit Registration', 'Settings', 'Login', 'Register', 'Add to Playlist', 'Add Friend', 'NextSong', 'Thumbs Up', 'Help', 'Upgrade', 'Error', 'Submit Upgrade']\n",
      "Column 'auth' has the 4 following unique values:\n",
      " ['Logged Out', 'Cancelled', 'Guest', 'Logged In']\n",
      "Column 'level' has the 2 following unique values:\n",
      " ['free', 'paid']\n",
      "Column 'status' has the 3 following unique values:\n",
      " [307, 404, 200]\n",
      "Column 'userAgent' has the 57 following unique values:\n",
      " ['\"Mozilla/5.0 (Macintosh; Intel Mac OS X 10_8_5) AppleWebKit/537.36 (KHTML, like Gecko) Chrome/36.0.1985.143 Safari/537.36\"', '\"Mozilla/5.0 (Windows NT 5.1) AppleWebKit/537.36 (KHTML, like Gecko) Chrome/36.0.1985.143 Safari/537.36\"', 'Mozilla/5.0 (X11; Ubuntu; Linux i686; rv:31.0) Gecko/20100101 Firefox/31.0', '\"Mozilla/5.0 (Macintosh; Intel Mac OS X 10_9_4) AppleWebKit/537.36 (KHTML, like Gecko) Chrome/36.0.1985.125 Safari/537.36\"', '\"Mozilla/5.0 (Macintosh; Intel Mac OS X 10_9_4) AppleWebKit/537.36 (KHTML, like Gecko) Chrome/35.0.1916.153 Safari/537.36\"', 'Mozilla/5.0 (Macintosh; Intel Mac OS X 10.7; rv:31.0) Gecko/20100101 Firefox/31.0', 'Mozilla/5.0 (Windows NT 6.1; WOW64; rv:30.0) Gecko/20100101 Firefox/30.0', 'Mozilla/5.0 (Windows NT 6.3; WOW64; rv:31.0) Gecko/20100101 Firefox/31.0', 'Mozilla/5.0 (compatible; MSIE 9.0; Windows NT 6.1; WOW64; Trident/5.0)', '\"Mozilla/5.0 (Windows NT 6.3; WOW64) AppleWebKit/537.36 (KHTML, like Gecko) Chrome/36.0.1985.143 Safari/537.36\"', 'Mozilla/5.0 (Macintosh; Intel Mac OS X 10.9; rv:31.0) Gecko/20100101 Firefox/31.0', '\"Mozilla/5.0 (Windows NT 5.1) AppleWebKit/537.36 (KHTML, like Gecko) Chrome/36.0.1985.125 Safari/537.36\"', None, '\"Mozilla/5.0 (iPhone; CPU iPhone OS 7_1_1 like Mac OS X) AppleWebKit/537.51.2 (KHTML, like Gecko) Version/7.0 Mobile/11D201 Safari/9537.53\"', '\"Mozilla/5.0 (Windows NT 6.1; WOW64) AppleWebKit/537.36 (KHTML, like Gecko) Chrome/36.0.1985.125 Safari/537.36\"', 'Mozilla/5.0 (Windows NT 6.1; WOW64; rv:31.0) Gecko/20100101 Firefox/31.0', 'Mozilla/5.0 (compatible; MSIE 9.0; Windows NT 6.1; Trident/5.0)', 'Mozilla/5.0 (compatible; MSIE 10.0; Windows NT 6.1; WOW64; Trident/6.0)', '\"Mozilla/5.0 (Macintosh; Intel Mac OS X 10_8_5) AppleWebKit/537.36 (KHTML, like Gecko) Chrome/37.0.2062.94 Safari/537.36\"', '\"Mozilla/5.0 (Macintosh; Intel Mac OS X 10_9_2) AppleWebKit/537.75.14 (KHTML, like Gecko) Version/7.0.3 Safari/537.75.14\"', '\"Mozilla/5.0 (Windows NT 6.1; WOW64) AppleWebKit/537.36 (KHTML, like Gecko) Chrome/37.0.2062.103 Safari/537.36\"', '\"Mozilla/5.0 (Windows NT 6.2; WOW64) AppleWebKit/537.36 (KHTML, like Gecko) Chrome/36.0.1985.125 Safari/537.36\"', '\"Mozilla/5.0 (iPad; CPU OS 7_1_2 like Mac OS X) AppleWebKit/537.51.2 (KHTML, like Gecko) Version/7.0 Mobile/11D257 Safari/9537.53\"', '\"Mozilla/5.0 (Macintosh; Intel Mac OS X 10_6_8) AppleWebKit/537.36 (KHTML, like Gecko) Chrome/36.0.1985.143 Safari/537.36\"', 'Mozilla/5.0 (Windows NT 6.0; rv:31.0) Gecko/20100101 Firefox/31.0', '\"Mozilla/5.0 (Macintosh; Intel Mac OS X 10_9_4) AppleWebKit/537.36 (KHTML, like Gecko) Chrome/36.0.1985.143 Safari/537.36\"', '\"Mozilla/5.0 (Macintosh; Intel Mac OS X 10_7_5) AppleWebKit/537.36 (KHTML, like Gecko) Chrome/36.0.1985.125 Safari/537.36\"', '\"Mozilla/5.0 (Windows NT 6.1) AppleWebKit/537.36 (KHTML, like Gecko) Chrome/36.0.1985.125 Safari/537.36\"', '\"Mozilla/5.0 (Windows NT 6.2; WOW64) AppleWebKit/537.36 (KHTML, like Gecko) Chrome/36.0.1985.143 Safari/537.36\"', 'Mozilla/5.0 (Macintosh; Intel Mac OS X 10.6; rv:31.0) Gecko/20100101 Firefox/31.0', '\"Mozilla/5.0 (Macintosh; Intel Mac OS X 10_9_3) AppleWebKit/537.76.4 (KHTML, like Gecko) Version/7.0.4 Safari/537.76.4\"', 'Mozilla/5.0 (X11; Linux x86_64; rv:31.0) Gecko/20100101 Firefox/31.0', '\"Mozilla/5.0 (Macintosh; Intel Mac OS X 10_9_4) AppleWebKit/537.78.2 (KHTML, like Gecko) Version/7.0.6 Safari/537.78.2\"', '\"Mozilla/5.0 (Macintosh; Intel Mac OS X 10_7_5) AppleWebKit/537.77.4 (KHTML, like Gecko) Version/6.1.5 Safari/537.77.4\"', '\"Mozilla/5.0 (Macintosh; Intel Mac OS X 10_10) AppleWebKit/600.1.8 (KHTML, like Gecko) Version/8.0 Safari/600.1.8\"', '\"Mozilla/5.0 (Windows NT 6.1; WOW64) AppleWebKit/537.36 (KHTML, like Gecko) Chrome/35.0.1916.153 Safari/537.36\"', '\"Mozilla/5.0 (X11; Linux x86_64) AppleWebKit/537.36 (KHTML, like Gecko) Chrome/36.0.1985.143 Safari/537.36\"', '\"Mozilla/5.0 (Windows NT 6.1) AppleWebKit/537.36 (KHTML, like Gecko) Chrome/36.0.1985.143 Safari/537.36\"', 'Mozilla/5.0 (X11; Ubuntu; Linux x86_64; rv:31.0) Gecko/20100101 Firefox/31.0', '\"Mozilla/5.0 (iPad; CPU OS 7_1_1 like Mac OS X) AppleWebKit/537.51.2 (KHTML, like Gecko) Version/7.0 Mobile/11D201 Safari/9537.53\"', '\"Mozilla/5.0 (Macintosh; Intel Mac OS X 10_10) AppleWebKit/600.1.3 (KHTML, like Gecko) Version/8.0 Safari/600.1.3\"', 'Mozilla/5.0 (Windows NT 6.2; WOW64; rv:31.0) Gecko/20100101 Firefox/31.0', '\"Mozilla/5.0 (Macintosh; Intel Mac OS X 10_9_4) AppleWebKit/537.77.4 (KHTML, like Gecko) Version/7.0.5 Safari/537.77.4\"', '\"Mozilla/5.0 (Windows NT 6.3; WOW64) AppleWebKit/537.36 (KHTML, like Gecko) Chrome/36.0.1985.125 Safari/537.36\"', 'Mozilla/5.0 (Windows NT 6.1; WOW64; rv:24.0) Gecko/20100101 Firefox/24.0', 'Mozilla/5.0 (Windows NT 6.1; WOW64; rv:32.0) Gecko/20100101 Firefox/32.0', '\"Mozilla/5.0 (Macintosh; Intel Mac OS X 10_9_2) AppleWebKit/537.74.9 (KHTML, like Gecko) Version/7.0.2 Safari/537.74.9\"', '\"Mozilla/5.0 (iPhone; CPU iPhone OS 7_1_2 like Mac OS X) AppleWebKit/537.51.2 (KHTML, like Gecko) Version/7.0 Mobile/11D257 Safari/9537.53\"', '\"Mozilla/5.0 (X11; Linux x86_64) AppleWebKit/537.36 (KHTML, like Gecko) Chrome/36.0.1985.125 Safari/537.36\"', '\"Mozilla/5.0 (Macintosh; Intel Mac OS X 10_9_2) AppleWebKit/537.36 (KHTML, like Gecko) Chrome/36.0.1985.125 Safari/537.36\"', '\"Mozilla/5.0 (Windows NT 6.1; WOW64) AppleWebKit/537.36 (KHTML, like Gecko) Chrome/37.0.2062.94 Safari/537.36\"', '\"Mozilla/5.0 (Macintosh; Intel Mac OS X 10_9_4) AppleWebKit/537.36 (KHTML, like Gecko) Chrome/37.0.2062.94 Safari/537.36\"', '\"Mozilla/5.0 (iPhone; CPU iPhone OS 7_1 like Mac OS X) AppleWebKit/537.51.2 (KHTML, like Gecko) Version/7.0 Mobile/11D167 Safari/9537.53\"', '\"Mozilla/5.0 (Windows NT 6.1; WOW64) AppleWebKit/537.36 (KHTML, like Gecko) Chrome/36.0.1985.143 Safari/537.36\"', 'Mozilla/5.0 (Macintosh; Intel Mac OS X 10.8; rv:31.0) Gecko/20100101 Firefox/31.0', 'Mozilla/5.0 (Windows NT 6.1; WOW64; Trident/7.0; rv:11.0) like Gecko', 'Mozilla/5.0 (Windows NT 6.1; rv:31.0) Gecko/20100101 Firefox/31.0']\n",
      "Column 'gender' has the 3 following unique values:\n",
      " ['F', None, 'M']\n"
     ]
    }
   ],
   "source": [
    "# Print unique values of interesting columns\n",
    "unique_query_cols = ['page', 'auth', 'level', 'status', 'userAgent', 'gender']\n",
    "for col in unique_query_cols:\n",
    "    res = get_unique_values('df_table', col)\n",
    "    print(\"Column '{}' has the {} following unique values:\\n\".format(col, len(res)), res)"
   ]
  },
  {
   "cell_type": "markdown",
   "metadata": {},
   "source": [
    "#### Clean the userAgent column\n",
    "\n",
    "This column contains a lot details that are most likely not relevant. However, the device type / OS type could be relevant, thus we extract it."
   ]
  },
  {
   "cell_type": "code",
   "execution_count": 13,
   "metadata": {},
   "outputs": [],
   "source": [
    "\"\"\"\n",
    "Extract the user system from the userAgent column. Raw regexp that is applied:\n",
    "\n",
    "Note: External braces need to be escaped with three backslashes for the sql query.\n",
    "\"\"\"\n",
    "userSystem = spark.sql('''\n",
    "          SELECT *, regexp_extract(userAgent,\n",
    "                                \\\"\\\\\\(([a-zA-Z 0-9.]+)\\\", 1)\n",
    "                                as userSystem\n",
    "          FROM df_table\n",
    "          ''')\n",
    "userSystem.createOrReplaceTempView(\"df_table\")"
   ]
  },
  {
   "cell_type": "markdown",
   "metadata": {},
   "source": [
    "#### Remove empty user names\n",
    "\n",
    "Login events have no assigned user name."
   ]
  },
  {
   "cell_type": "code",
   "execution_count": 14,
   "metadata": {},
   "outputs": [],
   "source": [
    "df_table = spark.sql(\"\"\"\n",
    "                      SELECT *\n",
    "                      FROM df_table\n",
    "                      WHERE userId <> ''\n",
    "                      \"\"\")\n",
    "df_table.createOrReplaceTempView(\"df_table\")"
   ]
  },
  {
   "cell_type": "markdown",
   "metadata": {},
   "source": [
    "## Delete unnecessary columns\n",
    "\n",
    "The columns related to the name of the user, name of the listened song and the HTTP method (get/put) are deleted. The assumption is that this information does not affect the decision of a user to cancel its subscription."
   ]
  },
  {
   "cell_type": "code",
   "execution_count": 15,
   "metadata": {},
   "outputs": [],
   "source": [
    "df_s = spark.sql('''\n",
    "                 SELECT userId, page, level, sessionId, ts, gender, itemInSession, userSystem, length, auth\n",
    "                 FROM df_table\n",
    "                 ''')\n",
    "df_s.createOrReplaceTempView(\"df_table\")"
   ]
  },
  {
   "cell_type": "code",
   "execution_count": 16,
   "metadata": {},
   "outputs": [],
   "source": [
    "df = df_s.toPandas()"
   ]
  },
  {
   "cell_type": "code",
   "execution_count": 17,
   "metadata": {},
   "outputs": [
    {
     "data": {
      "text/plain": [
       "userId           False\n",
       "page             False\n",
       "level            False\n",
       "sessionId        False\n",
       "ts               False\n",
       "gender           False\n",
       "itemInSession    False\n",
       "userSystem       False\n",
       "length            True\n",
       "auth             False\n",
       "dtype: bool"
      ]
     },
     "execution_count": 17,
     "metadata": {},
     "output_type": "execute_result"
    }
   ],
   "source": [
    "# Convirm that there are no missing values\n",
    "df.isna().any()"
   ]
  },
  {
   "cell_type": "code",
   "execution_count": 18,
   "metadata": {},
   "outputs": [
    {
     "data": {
      "text/html": [
       "<div>\n",
       "<style scoped>\n",
       "    .dataframe tbody tr th:only-of-type {\n",
       "        vertical-align: middle;\n",
       "    }\n",
       "\n",
       "    .dataframe tbody tr th {\n",
       "        vertical-align: top;\n",
       "    }\n",
       "\n",
       "    .dataframe thead th {\n",
       "        text-align: right;\n",
       "    }\n",
       "</style>\n",
       "<table border=\"1\" class=\"dataframe\">\n",
       "  <thead>\n",
       "    <tr style=\"text-align: right;\">\n",
       "      <th></th>\n",
       "      <th>userId</th>\n",
       "      <th>page</th>\n",
       "      <th>level</th>\n",
       "      <th>sessionId</th>\n",
       "      <th>ts</th>\n",
       "      <th>gender</th>\n",
       "      <th>itemInSession</th>\n",
       "      <th>userSystem</th>\n",
       "      <th>length</th>\n",
       "      <th>auth</th>\n",
       "    </tr>\n",
       "  </thead>\n",
       "  <tbody>\n",
       "    <tr>\n",
       "      <th>0</th>\n",
       "      <td>30</td>\n",
       "      <td>NextSong</td>\n",
       "      <td>paid</td>\n",
       "      <td>29</td>\n",
       "      <td>1538352117000</td>\n",
       "      <td>M</td>\n",
       "      <td>50</td>\n",
       "      <td>Windows NT 6.1</td>\n",
       "      <td>277.89016</td>\n",
       "      <td>Logged In</td>\n",
       "    </tr>\n",
       "    <tr>\n",
       "      <th>1</th>\n",
       "      <td>9</td>\n",
       "      <td>NextSong</td>\n",
       "      <td>free</td>\n",
       "      <td>8</td>\n",
       "      <td>1538352180000</td>\n",
       "      <td>M</td>\n",
       "      <td>79</td>\n",
       "      <td>Windows NT 6.1</td>\n",
       "      <td>236.09424</td>\n",
       "      <td>Logged In</td>\n",
       "    </tr>\n",
       "    <tr>\n",
       "      <th>2</th>\n",
       "      <td>30</td>\n",
       "      <td>NextSong</td>\n",
       "      <td>paid</td>\n",
       "      <td>29</td>\n",
       "      <td>1538352394000</td>\n",
       "      <td>M</td>\n",
       "      <td>51</td>\n",
       "      <td>Windows NT 6.1</td>\n",
       "      <td>282.82730</td>\n",
       "      <td>Logged In</td>\n",
       "    </tr>\n",
       "    <tr>\n",
       "      <th>3</th>\n",
       "      <td>9</td>\n",
       "      <td>NextSong</td>\n",
       "      <td>free</td>\n",
       "      <td>8</td>\n",
       "      <td>1538352416000</td>\n",
       "      <td>M</td>\n",
       "      <td>80</td>\n",
       "      <td>Windows NT 6.1</td>\n",
       "      <td>262.71302</td>\n",
       "      <td>Logged In</td>\n",
       "    </tr>\n",
       "    <tr>\n",
       "      <th>4</th>\n",
       "      <td>30</td>\n",
       "      <td>NextSong</td>\n",
       "      <td>paid</td>\n",
       "      <td>29</td>\n",
       "      <td>1538352676000</td>\n",
       "      <td>M</td>\n",
       "      <td>52</td>\n",
       "      <td>Windows NT 6.1</td>\n",
       "      <td>223.60771</td>\n",
       "      <td>Logged In</td>\n",
       "    </tr>\n",
       "  </tbody>\n",
       "</table>\n",
       "</div>"
      ],
      "text/plain": [
       "  userId      page level  sessionId             ts gender  itemInSession  \\\n",
       "0     30  NextSong  paid         29  1538352117000      M             50   \n",
       "1      9  NextSong  free          8  1538352180000      M             79   \n",
       "2     30  NextSong  paid         29  1538352394000      M             51   \n",
       "3      9  NextSong  free          8  1538352416000      M             80   \n",
       "4     30  NextSong  paid         29  1538352676000      M             52   \n",
       "\n",
       "       userSystem     length       auth  \n",
       "0  Windows NT 6.1  277.89016  Logged In  \n",
       "1  Windows NT 6.1  236.09424  Logged In  \n",
       "2  Windows NT 6.1  282.82730  Logged In  \n",
       "3  Windows NT 6.1  262.71302  Logged In  \n",
       "4  Windows NT 6.1  223.60771  Logged In  "
      ]
     },
     "execution_count": 18,
     "metadata": {},
     "output_type": "execute_result"
    }
   ],
   "source": [
    "df.head()"
   ]
  },
  {
   "cell_type": "markdown",
   "metadata": {},
   "source": [
    "# Exploratory Data Analysis\n",
    "\n",
    "In the following, a small subset of the data is loaded and basic manipulations are done within Spark. Various statistics are evaluated on the provided data in order to derive the right features."
   ]
  },
  {
   "cell_type": "markdown",
   "metadata": {},
   "source": [
    "### Define Churn\n",
    "\n",
    "Once you've done some preliminary analysis, create a column `Churn` to use as the label for your model. I suggest using the `Cancellation Confirmation` events to define your churn, which happen for both paid and free users. As a bonus task, you can also look into the `Downgrade` events."
   ]
  },
  {
   "cell_type": "code",
   "execution_count": 19,
   "metadata": {},
   "outputs": [],
   "source": [
    "\"\"\"\n",
    "Define a column `churn` that is 0 before a `Cancellation Confirmation` and 1 afterwards.\n",
    "\n",
    "Calculation logic:\n",
    "- binary encoding of the events\n",
    "- cumulative sum over the binary encoding\n",
    "\"\"\"\n",
    "# binary encoding of the 'Cancellation Confirmation' events in column churn\n",
    "df_s = spark.sql('''\n",
    "                  SELECT *, CASE WHEN page = 'Cancellation Confirmation' THEN 1 ELSE 0 END as cancel_event\n",
    "                  FROM df_table\n",
    "                  ''')\n",
    "df_s.createOrReplaceTempView('df_table')"
   ]
  },
  {
   "cell_type": "code",
   "execution_count": 20,
   "metadata": {},
   "outputs": [],
   "source": [
    "# cumulative sum over the churn column to detect phases\n",
    "df_s = spark.sql('''\n",
    "          SELECT *,\n",
    "          SUM(cancel_event) OVER (PARTITION BY userId) as churn\n",
    "          FROM df_table\n",
    "          ''')\n",
    "df_s.createOrReplaceTempView(\"df_table\")"
   ]
  },
  {
   "cell_type": "markdown",
   "metadata": {},
   "source": [
    "### Get userId of loyal and churned users\n",
    "\n",
    "Prepare two tables of `userId` separated by the fact whether this is a user that churned or a loyal user. This information is later needed to explore the daa based on the user group."
   ]
  },
  {
   "cell_type": "code",
   "execution_count": 21,
   "metadata": {},
   "outputs": [
    {
     "name": "stdout",
     "output_type": "stream",
     "text": [
      "Overall 52 users cancelled their subscription.\n"
     ]
    }
   ],
   "source": [
    "# Collect all userId of users that cancelled the subscription\n",
    "cancelled_userIds = spark.sql('''SELECT userId\n",
    "                                  FROM df_table\n",
    "                                  GROUP BY userId\n",
    "                                  HAVING MAX(churn) > 0\n",
    "                          ''')\n",
    "cancelled_userIds.createOrReplaceTempView(\"cancelled_userIds\")\n",
    "\n",
    "# print statistics\n",
    "print(\"Overall {} users cancelled their subscription.\".format(len(cancelled_userIds.collect())))"
   ]
  },
  {
   "cell_type": "code",
   "execution_count": 22,
   "metadata": {},
   "outputs": [
    {
     "name": "stdout",
     "output_type": "stream",
     "text": [
      "Overall 173 users did not cancel their subscription.\n"
     ]
    }
   ],
   "source": [
    "# Collect all userId of users that cancelled the subscription\n",
    "loyal_userIds = spark.sql('''SELECT userId\n",
    "                                  FROM df_table\n",
    "                                  GROUP BY userId\n",
    "                                  HAVING MAX(churn) = 0\n",
    "                          ''')\n",
    "loyal_userIds.createOrReplaceTempView(\"loyal_userIds\")\n",
    "\n",
    "# print statistics\n",
    "print(\"Overall {} users did not cancel their subscription.\".format(len(loyal_userIds.collect())))"
   ]
  },
  {
   "cell_type": "markdown",
   "metadata": {},
   "source": [
    "### Explore Data\n",
    "\n",
    "After churn has been defined above, somee exploratory data analysis is performed in order to observe the behaviour for users who stayed vs users who churned. The evaluation is based on building aggregates on these two groups of users in order to observe difference in their usage logs."
   ]
  },
  {
   "cell_type": "markdown",
   "metadata": {},
   "source": [
    "#### Gender of the user\n",
    "\n",
    "In the following it is evaluated whether the gender of a user shows correlation to the churn."
   ]
  },
  {
   "cell_type": "code",
   "execution_count": 23,
   "metadata": {},
   "outputs": [
    {
     "data": {
      "text/html": [
       "<div>\n",
       "<style scoped>\n",
       "    .dataframe tbody tr th:only-of-type {\n",
       "        vertical-align: middle;\n",
       "    }\n",
       "\n",
       "    .dataframe tbody tr th {\n",
       "        vertical-align: top;\n",
       "    }\n",
       "\n",
       "    .dataframe thead th {\n",
       "        text-align: right;\n",
       "    }\n",
       "</style>\n",
       "<table border=\"1\" class=\"dataframe\">\n",
       "  <thead>\n",
       "    <tr style=\"text-align: right;\">\n",
       "      <th></th>\n",
       "      <th>userId</th>\n",
       "      <th>page</th>\n",
       "      <th>level</th>\n",
       "      <th>sessionId</th>\n",
       "      <th>ts</th>\n",
       "      <th>gender</th>\n",
       "      <th>itemInSession</th>\n",
       "      <th>userSystem</th>\n",
       "      <th>length</th>\n",
       "      <th>auth</th>\n",
       "      <th>cancel_event</th>\n",
       "      <th>churn</th>\n",
       "    </tr>\n",
       "  </thead>\n",
       "  <tbody>\n",
       "    <tr>\n",
       "      <th>0</th>\n",
       "      <td>100010</td>\n",
       "      <td>NextSong</td>\n",
       "      <td>free</td>\n",
       "      <td>31</td>\n",
       "      <td>1539003534000</td>\n",
       "      <td>F</td>\n",
       "      <td>0</td>\n",
       "      <td>iPhone</td>\n",
       "      <td>202.97098</td>\n",
       "      <td>Logged In</td>\n",
       "      <td>0</td>\n",
       "      <td>0</td>\n",
       "    </tr>\n",
       "    <tr>\n",
       "      <th>1</th>\n",
       "      <td>100010</td>\n",
       "      <td>NextSong</td>\n",
       "      <td>free</td>\n",
       "      <td>31</td>\n",
       "      <td>1539003736000</td>\n",
       "      <td>F</td>\n",
       "      <td>1</td>\n",
       "      <td>iPhone</td>\n",
       "      <td>196.54485</td>\n",
       "      <td>Logged In</td>\n",
       "      <td>0</td>\n",
       "      <td>0</td>\n",
       "    </tr>\n",
       "    <tr>\n",
       "      <th>2</th>\n",
       "      <td>100010</td>\n",
       "      <td>NextSong</td>\n",
       "      <td>free</td>\n",
       "      <td>31</td>\n",
       "      <td>1539003932000</td>\n",
       "      <td>F</td>\n",
       "      <td>2</td>\n",
       "      <td>iPhone</td>\n",
       "      <td>263.13098</td>\n",
       "      <td>Logged In</td>\n",
       "      <td>0</td>\n",
       "      <td>0</td>\n",
       "    </tr>\n",
       "    <tr>\n",
       "      <th>3</th>\n",
       "      <td>100010</td>\n",
       "      <td>Thumbs Up</td>\n",
       "      <td>free</td>\n",
       "      <td>31</td>\n",
       "      <td>1539003933000</td>\n",
       "      <td>F</td>\n",
       "      <td>3</td>\n",
       "      <td>iPhone</td>\n",
       "      <td>NaN</td>\n",
       "      <td>Logged In</td>\n",
       "      <td>0</td>\n",
       "      <td>0</td>\n",
       "    </tr>\n",
       "    <tr>\n",
       "      <th>4</th>\n",
       "      <td>100010</td>\n",
       "      <td>NextSong</td>\n",
       "      <td>free</td>\n",
       "      <td>31</td>\n",
       "      <td>1539004195000</td>\n",
       "      <td>F</td>\n",
       "      <td>4</td>\n",
       "      <td>iPhone</td>\n",
       "      <td>316.23791</td>\n",
       "      <td>Logged In</td>\n",
       "      <td>0</td>\n",
       "      <td>0</td>\n",
       "    </tr>\n",
       "  </tbody>\n",
       "</table>\n",
       "</div>"
      ],
      "text/plain": [
       "   userId       page level  sessionId             ts gender  itemInSession  \\\n",
       "0  100010   NextSong  free         31  1539003534000      F              0   \n",
       "1  100010   NextSong  free         31  1539003736000      F              1   \n",
       "2  100010   NextSong  free         31  1539003932000      F              2   \n",
       "3  100010  Thumbs Up  free         31  1539003933000      F              3   \n",
       "4  100010   NextSong  free         31  1539004195000      F              4   \n",
       "\n",
       "  userSystem     length       auth  cancel_event  churn  \n",
       "0     iPhone  202.97098  Logged In             0      0  \n",
       "1     iPhone  196.54485  Logged In             0      0  \n",
       "2     iPhone  263.13098  Logged In             0      0  \n",
       "3     iPhone        NaN  Logged In             0      0  \n",
       "4     iPhone  316.23791  Logged In             0      0  "
      ]
     },
     "execution_count": 23,
     "metadata": {},
     "output_type": "execute_result"
    }
   ],
   "source": [
    "df_s.toPandas().head(5)"
   ]
  },
  {
   "cell_type": "code",
   "execution_count": 24,
   "metadata": {},
   "outputs": [
    {
     "data": {
      "text/plain": [
       "<matplotlib.axes._subplots.AxesSubplot at 0x7f0289076c90>"
      ]
     },
     "execution_count": 24,
     "metadata": {},
     "output_type": "execute_result"
    },
    {
     "data": {
      "image/png": "[encoded data removed]",
      "text/plain": [
       "<Figure size 432x288 with 1 Axes>"
      ]
     },
     "metadata": {
      "needs_background": "light"
     },
     "output_type": "display_data"
    }
   ],
   "source": [
    "gender_df = spark.sql(\"\"\"\n",
    "          SELECT churn, gender, COUNT(gender) as cnt\n",
    "          FROM (SELECT churn, userId, gender FROM df_table GROUP BY churn, userId, gender)\n",
    "          GROUP BY churn, gender\n",
    "          \"\"\").toPandas()\n",
    "sns.barplot(data=gender_df, x='churn', y='cnt', hue='gender')"
   ]
  },
  {
   "cell_type": "markdown",
   "metadata": {},
   "source": [
    "Even if it seems that the ratio of men is slightly higher among the users that churned, this could be caused by the small number of samples that actually churned."
   ]
  },
  {
   "cell_type": "markdown",
   "metadata": {},
   "source": [
    "#### Average length\n",
    "\n",
    "The `length` event is filled out for `NextSong` and indicates the length of the played song. The listening behaviour could carry information about whether a user might `churn` or not."
   ]
  },
  {
   "cell_type": "code",
   "execution_count": 25,
   "metadata": {},
   "outputs": [],
   "source": [
    "# Extract the average length for both groups\n",
    "lengths_pd = spark.sql('''\n",
    "          SELECT userId, churn, avg(length)\n",
    "          FROM df_table\n",
    "          GROUP BY userId, churn\n",
    "          ''').toPandas()"
   ]
  },
  {
   "cell_type": "code",
   "execution_count": 26,
   "metadata": {},
   "outputs": [
    {
     "data": {
      "image/png": "[encoded data removed]",
      "text/plain": [
       "<Figure size 432x216 with 2 Axes>"
      ]
     },
     "metadata": {
      "needs_background": "light"
     },
     "output_type": "display_data"
    }
   ],
   "source": [
    "# visualize the distribution of length between two groups of users\n",
    "g = sns.FacetGrid(lengths_pd, col=\"churn\", sharey=False)\n",
    "g.map(plt.hist, \"avg(length)\");"
   ]
  },
  {
   "cell_type": "markdown",
   "metadata": {},
   "source": [
    "Both distributions follow a different shape. Thus this feature will be included into the feature extraction process."
   ]
  },
  {
   "cell_type": "markdown",
   "metadata": {},
   "source": [
    "#### Items per session\n",
    "\n",
    "The items per session can carry information about how intensively a user interacts with the portal and also about the session length. This could also contribute to explain the `churn`."
   ]
  },
  {
   "cell_type": "code",
   "execution_count": 27,
   "metadata": {},
   "outputs": [],
   "source": [
    "# For each user for each session, extract the average number of items to Pandas\n",
    "items_per_sess_pd = spark.sql('''\n",
    "          SELECT churn, userId, AVG(itemInSession) as avg\n",
    "          FROM df_table\n",
    "          GROUP BY churn, userId\n",
    "          ''').toPandas()"
   ]
  },
  {
   "cell_type": "code",
   "execution_count": 28,
   "metadata": {},
   "outputs": [
    {
     "data": {
      "image/png": "[encoded data removed]",
      "text/plain": [
       "<Figure size 432x216 with 2 Axes>"
      ]
     },
     "metadata": {
      "needs_background": "light"
     },
     "output_type": "display_data"
    }
   ],
   "source": [
    "# visualize the distribution of length between two groups of users\n",
    "g = sns.FacetGrid(items_per_sess_pd, col=\"churn\", sharey=False)\n",
    "g.map(plt.hist, \"avg\");"
   ]
  },
  {
   "cell_type": "markdown",
   "metadata": {},
   "source": [
    "The distribution of average events is more skewed for users that churned, indicating that this feature also carries information about a potential `churn`."
   ]
  },
  {
   "cell_type": "markdown",
   "metadata": {},
   "source": [
    "#### Average sessions per day\n",
    "\n",
    "The average sessions per day is counted by dividing the overall session count of a given user by the number of days from the first event observed until the last event observed."
   ]
  },
  {
   "cell_type": "code",
   "execution_count": 29,
   "metadata": {},
   "outputs": [
    {
     "data": {
      "text/plain": [
       "<function __main__.<lambda>(x)>"
      ]
     },
     "execution_count": 29,
     "metadata": {},
     "output_type": "execute_result"
    }
   ],
   "source": [
    "to_days = udf(lambda x: datetime.timedelta(milliseconds=x).days, IntegerType())\n",
    "spark.udf.register(\"to_days\", to_days)"
   ]
  },
  {
   "cell_type": "code",
   "execution_count": 30,
   "metadata": {},
   "outputs": [],
   "source": [
    "# Add the feature for average sessions per day\n",
    "avg_sess_per_day = \"\"\"\n",
    "                   SELECT churn, userId, COUNT(DISTINCT sessionId) / (to_days(MAX(ts) - MIN(ts))+1) as avg_sess_p_day\n",
    "                   FROM df_table\n",
    "                   GROUP BY churn, userId\n",
    "                   \"\"\"\n",
    "avg_sess_p_day_pd = spark.sql(avg_sess_per_day).toPandas()"
   ]
  },
  {
   "cell_type": "code",
   "execution_count": 31,
   "metadata": {},
   "outputs": [
    {
     "data": {
      "text/plain": [
       "<seaborn.axisgrid.FacetGrid at 0x7f0284fda190>"
      ]
     },
     "execution_count": 31,
     "metadata": {},
     "output_type": "execute_result"
    },
    {
     "data": {
      "image/png": "[encoded data removed]",
      "text/plain": [
       "<Figure size 432x216 with 2 Axes>"
      ]
     },
     "metadata": {
      "needs_background": "light"
     },
     "output_type": "display_data"
    }
   ],
   "source": [
    "import numpy as np\n",
    "bins = np.arange(0, 6, 1)\n",
    "\n",
    "g = sns.FacetGrid(data=avg_sess_p_day_pd, col=\"churn\", sharey=False)\n",
    "g.map(plt.hist, \"avg_sess_p_day\", bins=bins)"
   ]
  },
  {
   "cell_type": "markdown",
   "metadata": {},
   "source": [
    "The distribution for churned users tends to have a fatter tail. It can be assumed that this feature also contributes to the classification process."
   ]
  },
  {
   "cell_type": "markdown",
   "metadata": {},
   "source": [
    "#### Daytime of service usage\n",
    "\n",
    "The daytime when the service is used might tell something about the potential of a user to churn. For example, users that frequently use the service in the evening might have a different churn rate than users that rather tend to use the service in the office or during lunch."
   ]
  },
  {
   "cell_type": "code",
   "execution_count": 32,
   "metadata": {},
   "outputs": [
    {
     "data": {
      "text/plain": [
       "<function __main__.<lambda>(x)>"
      ]
     },
     "execution_count": 32,
     "metadata": {},
     "output_type": "execute_result"
    }
   ],
   "source": [
    "to_hour = udf(lambda x: float(datetime.datetime.fromtimestamp(x / 1000.0).hour), FloatType())\n",
    "spark.udf.register(\"to_hour\", to_hour)"
   ]
  },
  {
   "cell_type": "code",
   "execution_count": 33,
   "metadata": {},
   "outputs": [],
   "source": [
    "# Add a column 'hour' to the data based on the timestamp 'ts'\n",
    "hours_augmented = spark.sql('''\n",
    "                   SELECT *, to_hour(ts) as hour\n",
    "                   FROM df_table\n",
    "                   ''')\n",
    "hours_augmented.createOrReplaceTempView(\"df_table_hours\")"
   ]
  },
  {
   "cell_type": "code",
   "execution_count": 34,
   "metadata": {},
   "outputs": [],
   "source": [
    "def get_bucket_percentage(table, time_col, uid_table):\n",
    "    \"\"\"\n",
    "    Returns a Pandas DataFrame which shows for a given user group \n",
    "    the percentage of actions during time bucket in column 'col'. This function\n",
    "    is used to compute the data for loyal and churned users seperately.\n",
    "    INPUT:\n",
    "        table (str): name of a table view that contains the 'time_col' column and a 'userId' colummn\n",
    "        time_col (str): name of the time column, i.e. 'weekday' or 'hour'\n",
    "        userId_list (str): name of a table that contain a column userId only.\n",
    "    OUTPUT:\n",
    "        Pandas DataFrame which shows the total number of events per time bucket for the given user group\n",
    "    \"\"\"\n",
    "    res = spark.sql(\"\"\"\n",
    "                    SELECT {time_col}, COUNT({time_col}) / (SELECT COUNT(*) FROM {table} WHERE userId IN (SELECT * FROM {uid_table})) as count \n",
    "                    FROM {table}  \n",
    "                    WHERE userId IN (SELECT * FROM {uid_table})\n",
    "                    GROUP BY {time_col}\n",
    "                    ORDER BY count DESC \n",
    "                    \"\"\".format(uid_table=uid_table, time_col=time_col, table=table))\n",
    "    res_pd = res.toPandas()\n",
    "    return res_pd"
   ]
  },
  {
   "cell_type": "code",
   "execution_count": 35,
   "metadata": {},
   "outputs": [],
   "source": [
    "loyal_hours_pd = get_bucket_percentage('df_table_hours', 'hour', 'loyal_userIds')\n",
    "churn_hours_pd = get_bucket_percentage('df_table_hours', 'hour', 'cancelled_userIds')"
   ]
  },
  {
   "cell_type": "code",
   "execution_count": 36,
   "metadata": {},
   "outputs": [
    {
     "data": {
      "image/png": "[encoded data removed]",
      "text/plain": [
       "<Figure size 432x288 with 1 Axes>"
      ]
     },
     "metadata": {
      "needs_background": "light"
     },
     "output_type": "display_data"
    }
   ],
   "source": [
    "ax = sns.lineplot(x='hour', y='count', data=loyal_hours_pd, label='Loyal Users')\n",
    "ax = sns.lineplot(x='hour', y='count', data=churn_hours_pd, label='Cancelled Users')\n",
    "plt.show()"
   ]
  },
  {
   "cell_type": "markdown",
   "metadata": {},
   "source": [
    "The data shows that `loyal` users are more active during the morning hours and `cancelled` users tend to have a relatively higher activity during the afternoon."
   ]
  },
  {
   "cell_type": "markdown",
   "metadata": {},
   "source": [
    "#### Weekday of service usage\n",
    "\n",
    "The weekday might also play a role to distinguish users that churn from loyal users. For example, users that tend to use the service during workdays might have a different probability to churn than users that use the service during the weekend."
   ]
  },
  {
   "cell_type": "code",
   "execution_count": 37,
   "metadata": {},
   "outputs": [
    {
     "data": {
      "text/plain": [
       "<function __main__.<lambda>(x)>"
      ]
     },
     "execution_count": 37,
     "metadata": {},
     "output_type": "execute_result"
    }
   ],
   "source": [
    "to_day = udf(lambda x: float(datetime.datetime.fromtimestamp(x / 1000.0).weekday()), FloatType())\n",
    "spark.udf.register(\"to_day\", to_day)"
   ]
  },
  {
   "cell_type": "code",
   "execution_count": 38,
   "metadata": {},
   "outputs": [],
   "source": [
    "# Add a column 'weekday' to the data based on the timestamp 'ts'\n",
    "weekdays_augmented = spark.sql('''\n",
    "                   SELECT *, to_day(ts) as weekday\n",
    "                   FROM df_table\n",
    "                   ''')\n",
    "weekdays_augmented.createOrReplaceTempView(\"df_table_weekdays\")"
   ]
  },
  {
   "cell_type": "code",
   "execution_count": 39,
   "metadata": {},
   "outputs": [],
   "source": [
    "loyal_weekdays_pd = get_bucket_percentage('df_table_weekdays', 'weekday', 'loyal_userIds')\n",
    "churn_weekdays_pd = get_bucket_percentage('df_table_weekdays', 'weekday', 'cancelled_userIds')"
   ]
  },
  {
   "cell_type": "code",
   "execution_count": 40,
   "metadata": {},
   "outputs": [
    {
     "data": {
      "image/png": "[encoded data removed]",
      "text/plain": [
       "<Figure size 432x288 with 1 Axes>"
      ]
     },
     "metadata": {
      "needs_background": "light"
     },
     "output_type": "display_data"
    }
   ],
   "source": [
    "ax = sns.lineplot(x='weekday', y='count', data=loyal_weekdays_pd, label='Loyal Users')\n",
    "ax = sns.lineplot(x='weekday', y='count', data=churn_weekdays_pd, label='Cancelled Users')\n",
    "plt.show()"
   ]
  },
  {
   "cell_type": "markdown",
   "metadata": {},
   "source": [
    "The percentage of usage follows a very similar line, however, cancelled users tend to listen more on Thursday and Friday, while loyal users tend to listen more on Sunday."
   ]
  },
  {
   "cell_type": "markdown",
   "metadata": {},
   "source": [
    "#### User system distribution\n",
    "\n",
    "The type of user agent could play a role with regards to the churn rage, for example if the experience on a smartphone device is worse than on other devices. "
   ]
  },
  {
   "cell_type": "code",
   "execution_count": 41,
   "metadata": {},
   "outputs": [],
   "source": [
    "# Compute the most frequently used system for each user\n",
    "pref_user_system_tbl = spark.sql(\"\"\"\n",
    "                            SELECT churn, userId, MAX(userSystem) as pref_user_system\n",
    "                            FROM df_table\n",
    "                            GROUP BY churn, userId\n",
    "                            \"\"\")\n",
    "pref_user_system_tbl.createOrReplaceTempView(\"pref_user_system_tbl\")"
   ]
  },
  {
   "cell_type": "code",
   "execution_count": 42,
   "metadata": {},
   "outputs": [],
   "source": [
    "# For each useer group, for each system, count the number of users\n",
    "agg_user_system = spark.sql(\"\"\"\n",
    "                            SELECT churn, pref_user_system, \n",
    "                            COUNT(*) as cnt\n",
    "                            FROM pref_user_system_tbl\n",
    "                            GROUP BY churn, pref_user_system\n",
    "                            \"\"\")\n",
    "agg_user_system.createOrReplaceTempView(\"agg_user_system\")"
   ]
  },
  {
   "cell_type": "code",
   "execution_count": 43,
   "metadata": {},
   "outputs": [],
   "source": [
    "# Normalize the user count for each system by the overall number of users in that user group\n",
    "user_system_perc_pd = spark.sql(\"\"\"\n",
    "          SELECT churn, pref_user_system, cnt / SUM(cnt) OVER (PARTITION BY churn) as percentage\n",
    "          FROM agg_user_system\n",
    "          \"\"\").toPandas()"
   ]
  },
  {
   "cell_type": "code",
   "execution_count": 44,
   "metadata": {},
   "outputs": [
    {
     "data": {
      "image/png": "[encoded data removed]",
      "text/plain": [
       "<Figure size 1440x288 with 1 Axes>"
      ]
     },
     "metadata": {
      "needs_background": "light"
     },
     "output_type": "display_data"
    }
   ],
   "source": [
    "fig = plt.figure(figsize=(20,4))\n",
    "ax = sns.barplot(x=\"pref_user_system\", y=\"percentage\", hue=\"churn\", data=user_system_perc_pd)"
   ]
  },
  {
   "cell_type": "markdown",
   "metadata": {},
   "source": [
    "Loyal users tend to use the iPad, iPad, MacOS, Windows NT 6.1 and compatible more often than users that cancelled. Probably the user experience is better than the desktop app, or people prefer to listen to music en route."
   ]
  },
  {
   "cell_type": "markdown",
   "metadata": {},
   "source": [
    "#### Length of the trace\n",
    "\n",
    "The length of the trace helps to undertand the data. The idea is to compare the first and last timestamp of each user."
   ]
  },
  {
   "cell_type": "code",
   "execution_count": 45,
   "metadata": {},
   "outputs": [],
   "source": [
    "# Calculate the account lifetime in days\n",
    "lifetimes = spark.sql('''\n",
    "                      SELECT churn, userId, to_days(MAX(ts) - MIN(ts)) as lifetime\n",
    "                      FROM df_table\n",
    "                      GROUP BY churn, userId\n",
    "                      ''')\n",
    "lifetimes.createOrReplaceTempView(\"lifetime_table\")"
   ]
  },
  {
   "cell_type": "markdown",
   "metadata": {},
   "source": [
    "Plot the distribution of account ages (account lifetime):"
   ]
  },
  {
   "cell_type": "code",
   "execution_count": 46,
   "metadata": {},
   "outputs": [
    {
     "data": {
      "text/plain": [
       "<seaborn.axisgrid.FacetGrid at 0x7f0284f10b10>"
      ]
     },
     "execution_count": 46,
     "metadata": {},
     "output_type": "execute_result"
    },
    {
     "data": {
      "image/png": "[encoded data removed]",
      "text/plain": [
       "<Figure size 432x216 with 2 Axes>"
      ]
     },
     "metadata": {
      "needs_background": "light"
     },
     "output_type": "display_data"
    }
   ],
   "source": [
    "g = sns.FacetGrid(lifetimes.toPandas(), col='churn')\n",
    "g.map(plt.hist, 'lifetime', density=True)"
   ]
  },
  {
   "cell_type": "code",
   "execution_count": 47,
   "metadata": {},
   "outputs": [],
   "source": [
    "agg_lifetimes = spark.sql(\"\"\"\n",
    "          SELECT churn,\n",
    "                 AVG(lifetime) as avg,\n",
    "                 MIN(lifetime) as min,\n",
    "                 MAX(lifetime) as max\n",
    "          FROM lifetime_table\n",
    "          GROUP BY churn\n",
    "          \"\"\")\n",
    "agg_lifetimes.createOrReplaceTempView(\"agg_lifetimes\")"
   ]
  },
  {
   "cell_type": "code",
   "execution_count": 48,
   "metadata": {},
   "outputs": [
    {
     "data": {
      "text/html": [
       "<div>\n",
       "<style scoped>\n",
       "    .dataframe tbody tr th:only-of-type {\n",
       "        vertical-align: middle;\n",
       "    }\n",
       "\n",
       "    .dataframe tbody tr th {\n",
       "        vertical-align: top;\n",
       "    }\n",
       "\n",
       "    .dataframe thead th {\n",
       "        text-align: right;\n",
       "    }\n",
       "</style>\n",
       "<table border=\"1\" class=\"dataframe\">\n",
       "  <thead>\n",
       "    <tr style=\"text-align: right;\">\n",
       "      <th></th>\n",
       "      <th>churn</th>\n",
       "      <th>avg</th>\n",
       "      <th>min</th>\n",
       "      <th>max</th>\n",
       "    </tr>\n",
       "  </thead>\n",
       "  <tbody>\n",
       "    <tr>\n",
       "      <th>0</th>\n",
       "      <td>0</td>\n",
       "      <td>46.520231</td>\n",
       "      <td>0</td>\n",
       "      <td>60</td>\n",
       "    </tr>\n",
       "    <tr>\n",
       "      <th>1</th>\n",
       "      <td>1</td>\n",
       "      <td>23.134615</td>\n",
       "      <td>0</td>\n",
       "      <td>58</td>\n",
       "    </tr>\n",
       "  </tbody>\n",
       "</table>\n",
       "</div>"
      ],
      "text/plain": [
       "   churn        avg  min  max\n",
       "0      0  46.520231    0   60\n",
       "1      1  23.134615    0   58"
      ]
     },
     "execution_count": 48,
     "metadata": {},
     "output_type": "execute_result"
    }
   ],
   "source": [
    "agg_lifetimes.toPandas()"
   ]
  },
  {
   "cell_type": "markdown",
   "metadata": {},
   "source": [
    "It seems that users cancel uniform distributed over the lifetime of the account. However, when account reaches a certain age of e.g. 60 days, it might carry information whether the user will cancel the subscription."
   ]
  },
  {
   "cell_type": "markdown",
   "metadata": {},
   "source": [
    "#### Average session duration\n",
    "\n",
    "It can be assumed that the length of a session depends on the degree of satisfaction with the music service. This is evaluated by analyzing the quartiles of the session length of both user groups.\n",
    "\n",
    "Sessions have a unique `sessionId`. The strategy is to group by `userId` and then for each `userId`, we group by `sessionId`. Within each session group, the timedelta between the first and the last timestamp describes the session duration. This duration is converted to seconds by a `udf`."
   ]
  },
  {
   "cell_type": "code",
   "execution_count": 49,
   "metadata": {},
   "outputs": [
    {
     "data": {
      "text/plain": [
       "<function __main__.<lambda>(x)>"
      ]
     },
     "execution_count": 49,
     "metadata": {},
     "output_type": "execute_result"
    }
   ],
   "source": [
    "to_minutes = udf(lambda x: int(datetime.timedelta(milliseconds=x).seconds/60.), IntegerType())\n",
    "spark.udf.register(\"to_minutes\", to_minutes)"
   ]
  },
  {
   "cell_type": "markdown",
   "metadata": {},
   "source": [
    "First, the duration of each session is computed and stored in a temp view:"
   ]
  },
  {
   "cell_type": "code",
   "execution_count": 50,
   "metadata": {},
   "outputs": [],
   "source": [
    "session_lengths = spark.sql('''\n",
    "                              SELECT churn, userId, sessionId, to_minutes(MAX(ts)-MIN(ts)) as session_duration\n",
    "                              FROM df_table\n",
    "                              GROUP BY churn, userId, sessionId\n",
    "                              ORDER BY userId ASC, MIN(ts) ASC\n",
    "                              ''')\n",
    "session_lengths.createOrReplaceTempView(\"session_lengths\")"
   ]
  },
  {
   "cell_type": "markdown",
   "metadata": {},
   "source": [
    "Based on this DataFrame, the average session duration for each user group can be analyzed:"
   ]
  },
  {
   "cell_type": "code",
   "execution_count": 51,
   "metadata": {},
   "outputs": [
    {
     "data": {
      "text/plain": [
       "<seaborn.axisgrid.FacetGrid at 0x7f0283f41450>"
      ]
     },
     "execution_count": 51,
     "metadata": {},
     "output_type": "execute_result"
    },
    {
     "data": {
      "image/png": "[encoded data removed]",
      "text/plain": [
       "<Figure size 432x216 with 2 Axes>"
      ]
     },
     "metadata": {
      "needs_background": "light"
     },
     "output_type": "display_data"
    }
   ],
   "source": [
    "g = sns.FacetGrid(session_lengths.toPandas(), col='churn')\n",
    "g.map(plt.hist, 'session_duration', density=True)"
   ]
  },
  {
   "cell_type": "markdown",
   "metadata": {},
   "source": [
    "The distribution of session duration for churned users on the smaller test data has a stronger positive skew."
   ]
  },
  {
   "cell_type": "markdown",
   "metadata": {},
   "source": [
    "Based on this, the average, minimum and maximum session length for each user is calculated:"
   ]
  },
  {
   "cell_type": "code",
   "execution_count": 52,
   "metadata": {},
   "outputs": [],
   "source": [
    "agg_session_lengths = spark.sql(\"\"\"\n",
    "          SELECT churn, userId,\n",
    "                 AVG(session_duration) as avg,\n",
    "                 MIN(session_duration) as min,\n",
    "                 MAX(session_duration) as max\n",
    "          FROM session_lengths\n",
    "          GROUP BY churn, userId\n",
    "          \"\"\")\n",
    "agg_session_lengths.createOrReplaceTempView(\"agg_session_lengths\")"
   ]
  },
  {
   "cell_type": "markdown",
   "metadata": {},
   "source": [
    "The data is converted to Pandas and melted, in order to be able to create a seaborn plot:"
   ]
  },
  {
   "cell_type": "code",
   "execution_count": 53,
   "metadata": {},
   "outputs": [
    {
     "data": {
      "text/plain": [
       "<seaborn.axisgrid.FacetGrid at 0x7f02862a3390>"
      ]
     },
     "execution_count": 53,
     "metadata": {},
     "output_type": "execute_result"
    },
    {
     "data": {
      "image/png": "[encoded data removed]",
      "text/plain": [
       "<Figure size 648x432 with 6 Axes>"
      ]
     },
     "metadata": {
      "needs_background": "light"
     },
     "output_type": "display_data"
    }
   ],
   "source": [
    "agg_session_lengths_pd = agg_session_lengths.toPandas()\n",
    "agg_session_lengths_pd_melted = agg_session_lengths_pd.melt(id_vars=['churn', 'userId'])\n",
    "g = sns.FacetGrid(agg_session_lengths_pd_melted, col='variable', row='churn')\n",
    "g.map(plt.hist, 'value', density=True)"
   ]
  },
  {
   "cell_type": "markdown",
   "metadata": {},
   "source": [
    "The upper row shows the average, minimum and maximum session duration for loyal users. The lower row shows these values for churned users. "
   ]
  },
  {
   "cell_type": "markdown",
   "metadata": {},
   "source": [
    "The distribution of listening times shows that for 50% of the user base, the group of cancelled users tends to longer session durations. However, the 9-tile shows that loyal users seem to prefer longer listening sessions.\n",
    "\n",
    "The n-tile distribution of the session lengths for a given user could be a relevant feature to classify the user as `churn`."
   ]
  },
  {
   "cell_type": "markdown",
   "metadata": {},
   "source": [
    "#### Payment level\n",
    "\n",
    "Users change the payment plan over time. The up- or downgrade could give an indication about a likelihood of cancellation. For example, the downgrade to a free usage could be a first indication that the user might delete his account."
   ]
  },
  {
   "cell_type": "code",
   "execution_count": 54,
   "metadata": {},
   "outputs": [],
   "source": [
    "up_down_grades = spark.sql('''\n",
    "                  SELECT *, \n",
    "                      CASE WHEN page = 'Submit Upgrade' THEN 1 ELSE 0 END as upgrade_event,\n",
    "                      CASE WHEN page = 'Submit Downgrade' THEN 1 ELSE 0 END as downgrade_event\n",
    "                  FROM df_table\n",
    "                  ''')\n",
    "up_down_grades.createOrReplaceTempView('up_down_grades')"
   ]
  },
  {
   "cell_type": "code",
   "execution_count": 55,
   "metadata": {},
   "outputs": [],
   "source": [
    "# cumulative sum over the churn column to detect phases\n",
    "num_up_down_grades = spark.sql('''\n",
    "          SELECT *,\n",
    "              SUM(upgrade_event) OVER (PARTITION BY userId) as num_upgrades,\n",
    "              SUM(downgrade_event) OVER (PARTITION BY userId) as num_downgrades\n",
    "          FROM up_down_grades\n",
    "          ''')\n",
    "num_up_down_grades.createOrReplaceTempView(\"num_up_down_grades\")"
   ]
  },
  {
   "cell_type": "code",
   "execution_count": 56,
   "metadata": {},
   "outputs": [],
   "source": [
    "up_downgrades_pd = spark.sql(\"\"\"\n",
    "                      SELECT churn, userId, \n",
    "                              MAX(num_upgrades) as num_upgrades, \n",
    "                              MAX(num_downgrades) as num_downgrades\n",
    "                      FROM num_up_down_grades\n",
    "                      GROUP BY churn, userId\n",
    "                      \"\"\").toPandas()"
   ]
  },
  {
   "cell_type": "code",
   "execution_count": 57,
   "metadata": {},
   "outputs": [
    {
     "data": {
      "text/html": [
       "<div>\n",
       "<style scoped>\n",
       "    .dataframe tbody tr th:only-of-type {\n",
       "        vertical-align: middle;\n",
       "    }\n",
       "\n",
       "    .dataframe tbody tr th {\n",
       "        vertical-align: top;\n",
       "    }\n",
       "\n",
       "    .dataframe thead th {\n",
       "        text-align: right;\n",
       "    }\n",
       "</style>\n",
       "<table border=\"1\" class=\"dataframe\">\n",
       "  <thead>\n",
       "    <tr style=\"text-align: right;\">\n",
       "      <th></th>\n",
       "      <th>churn</th>\n",
       "      <th>userId</th>\n",
       "      <th>variable</th>\n",
       "      <th>value</th>\n",
       "    </tr>\n",
       "  </thead>\n",
       "  <tbody>\n",
       "    <tr>\n",
       "      <th>0</th>\n",
       "      <td>0</td>\n",
       "      <td>100010</td>\n",
       "      <td>num_upgrades</td>\n",
       "      <td>0</td>\n",
       "    </tr>\n",
       "    <tr>\n",
       "      <th>1</th>\n",
       "      <td>0</td>\n",
       "      <td>200002</td>\n",
       "      <td>num_upgrades</td>\n",
       "      <td>1</td>\n",
       "    </tr>\n",
       "    <tr>\n",
       "      <th>2</th>\n",
       "      <td>1</td>\n",
       "      <td>125</td>\n",
       "      <td>num_upgrades</td>\n",
       "      <td>0</td>\n",
       "    </tr>\n",
       "    <tr>\n",
       "      <th>3</th>\n",
       "      <td>0</td>\n",
       "      <td>124</td>\n",
       "      <td>num_upgrades</td>\n",
       "      <td>0</td>\n",
       "    </tr>\n",
       "    <tr>\n",
       "      <th>4</th>\n",
       "      <td>1</td>\n",
       "      <td>51</td>\n",
       "      <td>num_upgrades</td>\n",
       "      <td>0</td>\n",
       "    </tr>\n",
       "    <tr>\n",
       "      <th>...</th>\n",
       "      <td>...</td>\n",
       "      <td>...</td>\n",
       "      <td>...</td>\n",
       "      <td>...</td>\n",
       "    </tr>\n",
       "    <tr>\n",
       "      <th>445</th>\n",
       "      <td>0</td>\n",
       "      <td>45</td>\n",
       "      <td>num_downgrades</td>\n",
       "      <td>0</td>\n",
       "    </tr>\n",
       "    <tr>\n",
       "      <th>446</th>\n",
       "      <td>0</td>\n",
       "      <td>57</td>\n",
       "      <td>num_downgrades</td>\n",
       "      <td>0</td>\n",
       "    </tr>\n",
       "    <tr>\n",
       "      <th>447</th>\n",
       "      <td>1</td>\n",
       "      <td>200021</td>\n",
       "      <td>num_downgrades</td>\n",
       "      <td>0</td>\n",
       "    </tr>\n",
       "    <tr>\n",
       "      <th>448</th>\n",
       "      <td>0</td>\n",
       "      <td>119</td>\n",
       "      <td>num_downgrades</td>\n",
       "      <td>0</td>\n",
       "    </tr>\n",
       "    <tr>\n",
       "      <th>449</th>\n",
       "      <td>1</td>\n",
       "      <td>100001</td>\n",
       "      <td>num_downgrades</td>\n",
       "      <td>0</td>\n",
       "    </tr>\n",
       "  </tbody>\n",
       "</table>\n",
       "<p>450 rows × 4 columns</p>\n",
       "</div>"
      ],
      "text/plain": [
       "     churn  userId        variable  value\n",
       "0        0  100010    num_upgrades      0\n",
       "1        0  200002    num_upgrades      1\n",
       "2        1     125    num_upgrades      0\n",
       "3        0     124    num_upgrades      0\n",
       "4        1      51    num_upgrades      0\n",
       "..     ...     ...             ...    ...\n",
       "445      0      45  num_downgrades      0\n",
       "446      0      57  num_downgrades      0\n",
       "447      1  200021  num_downgrades      0\n",
       "448      0     119  num_downgrades      0\n",
       "449      1  100001  num_downgrades      0\n",
       "\n",
       "[450 rows x 4 columns]"
      ]
     },
     "execution_count": 57,
     "metadata": {},
     "output_type": "execute_result"
    }
   ],
   "source": [
    "up_downgrades_pd.melt(id_vars=['churn', 'userId'])"
   ]
  },
  {
   "cell_type": "code",
   "execution_count": 58,
   "metadata": {},
   "outputs": [
    {
     "data": {
      "text/plain": [
       "<seaborn.axisgrid.FacetGrid at 0x7f0286479b50>"
      ]
     },
     "execution_count": 58,
     "metadata": {},
     "output_type": "execute_result"
    },
    {
     "data": {
      "image/png": "[encoded data removed]",
      "text/plain": [
       "<Figure size 432x432 with 4 Axes>"
      ]
     },
     "metadata": {
      "needs_background": "light"
     },
     "output_type": "display_data"
    }
   ],
   "source": [
    "g = sns.FacetGrid(up_downgrades_pd.melt(id_vars=['churn', 'userId']), col='variable', row='churn')\n",
    "g.map(plt.hist, 'value', density=True)"
   ]
  },
  {
   "cell_type": "markdown",
   "metadata": {},
   "source": [
    "The left column compares the number of upgrades for both user groups. The up- and downgrade distribution looks similar for both groups"
   ]
  },
  {
   "cell_type": "code",
   "execution_count": 59,
   "metadata": {},
   "outputs": [],
   "source": [
    "cncl_payment_dist_pd = spark.sql(\"\"\"\n",
    "                                  SELECT churn, level, COUNT(level)\n",
    "                                  FROM df_table\n",
    "                                  WHERE page = 'Cancellation Confirmation'\n",
    "                                  GROUP BY churn, level\n",
    "                                  \"\"\").toPandas()"
   ]
  },
  {
   "cell_type": "code",
   "execution_count": 60,
   "metadata": {},
   "outputs": [
    {
     "data": {
      "text/html": [
       "<div>\n",
       "<style scoped>\n",
       "    .dataframe tbody tr th:only-of-type {\n",
       "        vertical-align: middle;\n",
       "    }\n",
       "\n",
       "    .dataframe tbody tr th {\n",
       "        vertical-align: top;\n",
       "    }\n",
       "\n",
       "    .dataframe thead th {\n",
       "        text-align: right;\n",
       "    }\n",
       "</style>\n",
       "<table border=\"1\" class=\"dataframe\">\n",
       "  <thead>\n",
       "    <tr style=\"text-align: right;\">\n",
       "      <th></th>\n",
       "      <th>churn</th>\n",
       "      <th>level</th>\n",
       "      <th>count(level)</th>\n",
       "    </tr>\n",
       "  </thead>\n",
       "  <tbody>\n",
       "    <tr>\n",
       "      <th>0</th>\n",
       "      <td>1</td>\n",
       "      <td>paid</td>\n",
       "      <td>31</td>\n",
       "    </tr>\n",
       "    <tr>\n",
       "      <th>1</th>\n",
       "      <td>1</td>\n",
       "      <td>free</td>\n",
       "      <td>21</td>\n",
       "    </tr>\n",
       "  </tbody>\n",
       "</table>\n",
       "</div>"
      ],
      "text/plain": [
       "   churn level  count(level)\n",
       "0      1  paid            31\n",
       "1      1  free            21"
      ]
     },
     "execution_count": 60,
     "metadata": {},
     "output_type": "execute_result"
    }
   ],
   "source": [
    "cncl_payment_dist_pd"
   ]
  },
  {
   "cell_type": "markdown",
   "metadata": {},
   "source": [
    "#### Average Click-count of pages per session\n",
    "\n",
    "It can be assumed that loyal users tend to have a different click pattern than users that cancelled. For that, for each page, the average click count over all sessions of a given user group is calculated."
   ]
  },
  {
   "cell_type": "code",
   "execution_count": 61,
   "metadata": {},
   "outputs": [
    {
     "data": {
      "text/plain": [
       "<function __main__.<lambda>(x)>"
      ]
     },
     "execution_count": 61,
     "metadata": {},
     "output_type": "execute_result"
    }
   ],
   "source": [
    "to_month = udf(lambda x: float(datetime.datetime.fromtimestamp(x / 1000.0).month), FloatType())\n",
    "spark.udf.register(\"to_month\", to_month)"
   ]
  },
  {
   "cell_type": "code",
   "execution_count": 62,
   "metadata": {},
   "outputs": [],
   "source": [
    "# Aggregate the count for each page in each session\n",
    "pages_per_session = spark.sql(\"\"\"\n",
    "                              SELECT churn, userId, sessionId, page, COUNT(page) as cnt, to_month(AVG(ts)) as month\n",
    "                              FROM df_table\n",
    "                              GROUP BY churn, userId, sessionId, page\n",
    "                              \"\"\")\n",
    "pages_per_session.createOrReplaceTempView(\"pages_per_session\")"
   ]
  },
  {
   "cell_type": "code",
   "execution_count": 63,
   "metadata": {},
   "outputs": [
    {
     "data": {
      "text/html": [
       "<div>\n",
       "<style scoped>\n",
       "    .dataframe tbody tr th:only-of-type {\n",
       "        vertical-align: middle;\n",
       "    }\n",
       "\n",
       "    .dataframe tbody tr th {\n",
       "        vertical-align: top;\n",
       "    }\n",
       "\n",
       "    .dataframe thead th {\n",
       "        text-align: right;\n",
       "    }\n",
       "</style>\n",
       "<table border=\"1\" class=\"dataframe\">\n",
       "  <thead>\n",
       "    <tr style=\"text-align: right;\">\n",
       "      <th></th>\n",
       "      <th>churn</th>\n",
       "      <th>userId</th>\n",
       "      <th>sessionId</th>\n",
       "      <th>page</th>\n",
       "      <th>cnt</th>\n",
       "      <th>month</th>\n",
       "    </tr>\n",
       "  </thead>\n",
       "  <tbody>\n",
       "    <tr>\n",
       "      <th>0</th>\n",
       "      <td>0</td>\n",
       "      <td>100010</td>\n",
       "      <td>31</td>\n",
       "      <td>NextSong</td>\n",
       "      <td>31</td>\n",
       "      <td>10.0</td>\n",
       "    </tr>\n",
       "    <tr>\n",
       "      <th>1</th>\n",
       "      <td>0</td>\n",
       "      <td>100010</td>\n",
       "      <td>31</td>\n",
       "      <td>Thumbs Up</td>\n",
       "      <td>2</td>\n",
       "      <td>10.0</td>\n",
       "    </tr>\n",
       "    <tr>\n",
       "      <th>2</th>\n",
       "      <td>0</td>\n",
       "      <td>100010</td>\n",
       "      <td>31</td>\n",
       "      <td>Roll Advert</td>\n",
       "      <td>7</td>\n",
       "      <td>10.0</td>\n",
       "    </tr>\n",
       "    <tr>\n",
       "      <th>3</th>\n",
       "      <td>0</td>\n",
       "      <td>100010</td>\n",
       "      <td>78</td>\n",
       "      <td>NextSong</td>\n",
       "      <td>7</td>\n",
       "      <td>10.0</td>\n",
       "    </tr>\n",
       "    <tr>\n",
       "      <th>4</th>\n",
       "      <td>0</td>\n",
       "      <td>100010</td>\n",
       "      <td>78</td>\n",
       "      <td>Home</td>\n",
       "      <td>1</td>\n",
       "      <td>10.0</td>\n",
       "    </tr>\n",
       "    <tr>\n",
       "      <th>...</th>\n",
       "      <td>...</td>\n",
       "      <td>...</td>\n",
       "      <td>...</td>\n",
       "      <td>...</td>\n",
       "      <td>...</td>\n",
       "      <td>...</td>\n",
       "    </tr>\n",
       "    <tr>\n",
       "      <th>20208</th>\n",
       "      <td>1</td>\n",
       "      <td>100001</td>\n",
       "      <td>53</td>\n",
       "      <td>Roll Advert</td>\n",
       "      <td>2</td>\n",
       "      <td>10.0</td>\n",
       "    </tr>\n",
       "    <tr>\n",
       "      <th>20209</th>\n",
       "      <td>1</td>\n",
       "      <td>100001</td>\n",
       "      <td>53</td>\n",
       "      <td>Help</td>\n",
       "      <td>1</td>\n",
       "      <td>10.0</td>\n",
       "    </tr>\n",
       "    <tr>\n",
       "      <th>20210</th>\n",
       "      <td>1</td>\n",
       "      <td>100001</td>\n",
       "      <td>53</td>\n",
       "      <td>Logout</td>\n",
       "      <td>1</td>\n",
       "      <td>10.0</td>\n",
       "    </tr>\n",
       "    <tr>\n",
       "      <th>20211</th>\n",
       "      <td>1</td>\n",
       "      <td>100001</td>\n",
       "      <td>53</td>\n",
       "      <td>Cancel</td>\n",
       "      <td>1</td>\n",
       "      <td>10.0</td>\n",
       "    </tr>\n",
       "    <tr>\n",
       "      <th>20212</th>\n",
       "      <td>1</td>\n",
       "      <td>100001</td>\n",
       "      <td>53</td>\n",
       "      <td>Cancellation Confirmation</td>\n",
       "      <td>1</td>\n",
       "      <td>10.0</td>\n",
       "    </tr>\n",
       "  </tbody>\n",
       "</table>\n",
       "<p>20213 rows × 6 columns</p>\n",
       "</div>"
      ],
      "text/plain": [
       "       churn  userId  sessionId                       page  cnt  month\n",
       "0          0  100010         31                   NextSong   31   10.0\n",
       "1          0  100010         31                  Thumbs Up    2   10.0\n",
       "2          0  100010         31                Roll Advert    7   10.0\n",
       "3          0  100010         78                   NextSong    7   10.0\n",
       "4          0  100010         78                       Home    1   10.0\n",
       "...      ...     ...        ...                        ...  ...    ...\n",
       "20208      1  100001         53                Roll Advert    2   10.0\n",
       "20209      1  100001         53                       Help    1   10.0\n",
       "20210      1  100001         53                     Logout    1   10.0\n",
       "20211      1  100001         53                     Cancel    1   10.0\n",
       "20212      1  100001         53  Cancellation Confirmation    1   10.0\n",
       "\n",
       "[20213 rows x 6 columns]"
      ]
     },
     "execution_count": 63,
     "metadata": {},
     "output_type": "execute_result"
    }
   ],
   "source": [
    "pages_per_session.toPandas()"
   ]
  },
  {
   "cell_type": "code",
   "execution_count": 64,
   "metadata": {},
   "outputs": [],
   "source": [
    "# Average page counts per user per month\n",
    "tmp = spark.sql(\"\"\"\n",
    "          SELECT churn, userId, page, month, AVG(cnt) as avg_cnt\n",
    "          FROM pages_per_session\n",
    "          GROUP BY churn, userId, page, month\n",
    "          \"\"\")\n",
    "tmp.createOrReplaceTempView(\"tmp\")"
   ]
  },
  {
   "cell_type": "code",
   "execution_count": 65,
   "metadata": {},
   "outputs": [],
   "source": [
    "# Average page counts per user over all months\n",
    "tmp2 = spark.sql(\"\"\"\n",
    "          SELECT churn, userId, page, AVG(avg_cnt) as avg_mhly_cnt\n",
    "          FROM tmp\n",
    "          WHERE page <> \"NextSong\"\n",
    "          GROUP BY churn, userId, page\n",
    "          \"\"\")\n",
    "tmp2.createOrReplaceTempView(\"tmp2\")"
   ]
  },
  {
   "cell_type": "code",
   "execution_count": 66,
   "metadata": {},
   "outputs": [
    {
     "data": {
      "text/html": [
       "<div>\n",
       "<style scoped>\n",
       "    .dataframe tbody tr th:only-of-type {\n",
       "        vertical-align: middle;\n",
       "    }\n",
       "\n",
       "    .dataframe tbody tr th {\n",
       "        vertical-align: top;\n",
       "    }\n",
       "\n",
       "    .dataframe thead th {\n",
       "        text-align: right;\n",
       "    }\n",
       "</style>\n",
       "<table border=\"1\" class=\"dataframe\">\n",
       "  <thead>\n",
       "    <tr style=\"text-align: right;\">\n",
       "      <th></th>\n",
       "      <th>churn</th>\n",
       "      <th>userId</th>\n",
       "      <th>page</th>\n",
       "      <th>avg_mhly_cnt</th>\n",
       "    </tr>\n",
       "  </thead>\n",
       "  <tbody>\n",
       "    <tr>\n",
       "      <th>0</th>\n",
       "      <td>0</td>\n",
       "      <td>96</td>\n",
       "      <td>Save Settings</td>\n",
       "      <td>1.000000</td>\n",
       "    </tr>\n",
       "    <tr>\n",
       "      <th>1</th>\n",
       "      <td>0</td>\n",
       "      <td>79</td>\n",
       "      <td>Upgrade</td>\n",
       "      <td>2.000000</td>\n",
       "    </tr>\n",
       "    <tr>\n",
       "      <th>2</th>\n",
       "      <td>0</td>\n",
       "      <td>300015</td>\n",
       "      <td>Submit Downgrade</td>\n",
       "      <td>1.000000</td>\n",
       "    </tr>\n",
       "    <tr>\n",
       "      <th>3</th>\n",
       "      <td>0</td>\n",
       "      <td>115</td>\n",
       "      <td>Error</td>\n",
       "      <td>1.500000</td>\n",
       "    </tr>\n",
       "    <tr>\n",
       "      <th>4</th>\n",
       "      <td>1</td>\n",
       "      <td>28</td>\n",
       "      <td>Downgrade</td>\n",
       "      <td>3.750000</td>\n",
       "    </tr>\n",
       "    <tr>\n",
       "      <th>...</th>\n",
       "      <td>...</td>\n",
       "      <td>...</td>\n",
       "      <td>...</td>\n",
       "      <td>...</td>\n",
       "    </tr>\n",
       "    <tr>\n",
       "      <th>2879</th>\n",
       "      <td>0</td>\n",
       "      <td>300008</td>\n",
       "      <td>Settings</td>\n",
       "      <td>1.000000</td>\n",
       "    </tr>\n",
       "    <tr>\n",
       "      <th>2880</th>\n",
       "      <td>1</td>\n",
       "      <td>100005</td>\n",
       "      <td>Home</td>\n",
       "      <td>3.000000</td>\n",
       "    </tr>\n",
       "    <tr>\n",
       "      <th>2881</th>\n",
       "      <td>0</td>\n",
       "      <td>62</td>\n",
       "      <td>Save Settings</td>\n",
       "      <td>2.000000</td>\n",
       "    </tr>\n",
       "    <tr>\n",
       "      <th>2882</th>\n",
       "      <td>0</td>\n",
       "      <td>200025</td>\n",
       "      <td>Roll Advert</td>\n",
       "      <td>5.291667</td>\n",
       "    </tr>\n",
       "    <tr>\n",
       "      <th>2883</th>\n",
       "      <td>1</td>\n",
       "      <td>100013</td>\n",
       "      <td>Cancel</td>\n",
       "      <td>1.000000</td>\n",
       "    </tr>\n",
       "  </tbody>\n",
       "</table>\n",
       "<p>2884 rows × 4 columns</p>\n",
       "</div>"
      ],
      "text/plain": [
       "      churn  userId              page  avg_mhly_cnt\n",
       "0         0      96     Save Settings      1.000000\n",
       "1         0      79           Upgrade      2.000000\n",
       "2         0  300015  Submit Downgrade      1.000000\n",
       "3         0     115             Error      1.500000\n",
       "4         1      28         Downgrade      3.750000\n",
       "...     ...     ...               ...           ...\n",
       "2879      0  300008          Settings      1.000000\n",
       "2880      1  100005              Home      3.000000\n",
       "2881      0      62     Save Settings      2.000000\n",
       "2882      0  200025       Roll Advert      5.291667\n",
       "2883      1  100013            Cancel      1.000000\n",
       "\n",
       "[2884 rows x 4 columns]"
      ]
     },
     "execution_count": 66,
     "metadata": {},
     "output_type": "execute_result"
    }
   ],
   "source": [
    "tmp2.toPandas()"
   ]
  },
  {
   "cell_type": "code",
   "execution_count": 67,
   "metadata": {},
   "outputs": [
    {
     "data": {
      "image/png": "[encoded data removed]",
      "text/plain": [
       "<Figure size 1440x288 with 1 Axes>"
      ]
     },
     "metadata": {
      "needs_background": "light"
     },
     "output_type": "display_data"
    }
   ],
   "source": [
    "fig = plt.figure(figsize=(20,4))\n",
    "ax = sns.barplot(x=\"page\", y=\"avg_mhly_cnt\", hue=\"churn\", data=tmp2.toPandas())\n",
    "plt.xticks(\n",
    "    rotation=45, \n",
    "    horizontalalignment='right' \n",
    ")\n",
    "plt.show()"
   ]
  },
  {
   "cell_type": "markdown",
   "metadata": {},
   "source": [
    "The average monthly click count for `NextSong` is not shown in this overview, as it is several times larger."
   ]
  },
  {
   "cell_type": "markdown",
   "metadata": {},
   "source": [
    "# Feature Engineering\n",
    "Once you've familiarized yourself with the data, build out the features you find promising to train your model on. To work with the full dataset, you can follow the following steps.\n",
    "- Write a script to extract the necessary features from the smaller subset of data\n",
    "- Ensure that your script is scalable, using the best practices discussed in Lesson 3\n",
    "- Try your script on the full data set, debugging your script if necessary\n",
    "\n",
    "If you are working in the classroom workspace, you can just extract features based on the small subset of data contained here. Be sure to transfer over this work to the larger dataset when you work on your Spark cluster.\n",
    "\n",
    "***TODO:***\n",
    "- If too many or unuseful features are included, the consequence will be.... high variance? overfittting?\n",
    "- If too less features are included, the consequence will be... high bias? underfitting but better performance on the test data?\n",
    "\n",
    "- Does it play a role if the categorical variables are double or integer?\n",
    "- "
   ]
  },
  {
   "cell_type": "markdown",
   "metadata": {},
   "source": [
    "Target for the feature extraction is to create a dataframe with one row for each user. This row contains aggregated features."
   ]
  },
  {
   "cell_type": "code",
   "execution_count": 165,
   "metadata": {},
   "outputs": [],
   "source": [
    "# DataFrame for extracted features - to be filled up below\n",
    "features_df = spark.sql('''\n",
    "                        SELECT userId, MAX(churn) as churn\n",
    "                        FROM df_table\n",
    "                        GROUP BY userId\n",
    "                        ''')\n",
    "features_df.createOrReplaceTempView(\"features_df\")"
   ]
  },
  {
   "cell_type": "code",
   "execution_count": 166,
   "metadata": {},
   "outputs": [],
   "source": [
    "def add_features(sub_query, feature_names, new_temp_view='features_df'):\n",
    "    \"\"\"\n",
    "    Used to add new features columns to table 'features_df'. This\n",
    "    is achieved by injecting the passed sql-subquery and joining\n",
    "    the results on userId with the existing featues_df table.\n",
    "    \n",
    "    INPUT:\n",
    "        - sub_query (string): SQL query that should contain one row of additional features for each userId.\n",
    "        - new_temp_view (string): Name of the new createOrReplaceTempView resulting from the joining \n",
    "    OUTPUT:\n",
    "        result (DataFrame): Spark DataFrame with the resulting table.\n",
    "    \"\"\"\n",
    "    \n",
    "    feature_names_sql = \"new.\" + ', new.'.join(feature_names)\n",
    "    tmp = spark.sql(\"\"\"\n",
    "                    SELECT f.*, {feature_names_sql}\n",
    "                    FROM features_df as f\n",
    "                    JOIN ({sub_query}) as new\n",
    "                    on new.userId = f.userId\n",
    "                    \"\"\".format(sub_query = sub_query,\n",
    "                               feature_names_sql=feature_names_sql))   \n",
    "    tmp.createOrReplaceTempView(new_temp_view)\n",
    "    return tmp"
   ]
  },
  {
   "cell_type": "code",
   "execution_count": 167,
   "metadata": {},
   "outputs": [
    {
     "name": "stdout",
     "output_type": "stream",
     "text": [
      "feature_names_sql new.avg_sess_p_day\n"
     ]
    }
   ],
   "source": [
    "# Add the feature for average sessions per day\n",
    "avg_sess_per_day = \"\"\"\n",
    "                   SELECT userId, COUNT(DISTINCT sessionId) / (to_days(MAX(ts) - MIN(ts))+1) as avg_sess_p_day\n",
    "                   FROM df_table\n",
    "                   GROUP BY userId\n",
    "                   \"\"\"\n",
    "features_df = add_features(avg_sess_per_day, ['avg_sess_p_day'])"
   ]
  },
  {
   "cell_type": "code",
   "execution_count": 168,
   "metadata": {},
   "outputs": [
    {
     "name": "stdout",
     "output_type": "stream",
     "text": [
      "feature_names_sql new.avg_length\n"
     ]
    }
   ],
   "source": [
    "# Average length\n",
    "avg_length = \"\"\"\n",
    "             SELECT userId, avg(length) as avg_length\n",
    "             FROM df_table\n",
    "             GROUP BY userId\n",
    "             \"\"\"\n",
    "features_df = add_features(avg_length, ['avg_length'])"
   ]
  },
  {
   "cell_type": "code",
   "execution_count": 169,
   "metadata": {},
   "outputs": [
    {
     "name": "stdout",
     "output_type": "stream",
     "text": [
      "feature_names_sql new.avg_items_p_sess\n"
     ]
    }
   ],
   "source": [
    "# Average items per session\n",
    "avg_items_p_sess = \"\"\"\n",
    "                      SELECT userId, AVG(itemInSession) as avg_items_p_sess\n",
    "                      FROM df_table\n",
    "                      GROUP BY userId\n",
    "                      \"\"\"\n",
    "features_df = add_features(avg_items_p_sess, ['avg_items_p_sess'])"
   ]
  },
  {
   "cell_type": "code",
   "execution_count": 170,
   "metadata": {},
   "outputs": [
    {
     "name": "stdout",
     "output_type": "stream",
     "text": [
      "feature_names_sql new.acc_age\n"
     ]
    }
   ],
   "source": [
    "# Account age in days\n",
    "acc_age = \"\"\"\n",
    "          SELECT userId, to_days(MAX(ts) - MIN(ts)) as acc_age\n",
    "          FROM df_table\n",
    "          GROUP BY userId\n",
    "          \"\"\"\n",
    "features_df = add_features(acc_age, ['acc_age'])"
   ]
  },
  {
   "cell_type": "code",
   "execution_count": 171,
   "metadata": {},
   "outputs": [
    {
     "name": "stdout",
     "output_type": "stream",
     "text": [
      "feature_names_sql new.avg_sess_len\n"
     ]
    }
   ],
   "source": [
    "# Average session length in minutes\n",
    "\n",
    "# Create a helper table that holds all session lengths for each user in minutes\n",
    "tmp_sess_lens = \"\"\"\n",
    "        SELECT userId, to_minutes(MAX(ts)-MIN(ts)) as len\n",
    "        FROM df_table\n",
    "        GROUP BY userId, sessionId\n",
    "      \"\"\"\n",
    "tmp_sess_lens = spark.sql(tmp_sess_lens)\n",
    "tmp_sess_lens.createOrReplaceTempView(\"tmp_sess_lens\")\n",
    "\n",
    "# Compute the average over the session lengths of each user\n",
    "avg_sess_len = \"\"\"\n",
    "              SELECT userId, AVG(len) as avg_sess_len\n",
    "              FROM tmp_sess_lens\n",
    "              GROUP BY userId\n",
    "              \"\"\"\n",
    "features_df = add_features(avg_sess_len, ['avg_sess_len'])"
   ]
  },
  {
   "cell_type": "code",
   "execution_count": 172,
   "metadata": {},
   "outputs": [
    {
     "name": "stdout",
     "output_type": "stream",
     "text": [
      "feature_names_sql new.gender\n"
     ]
    }
   ],
   "source": [
    "# Gender of the user - convert to dummy variable\n",
    "\n",
    "usr_gender = \"\"\"SELECT userId, \n",
    "                       CASE WHEN gender = 'F' THEN 1 ELSE 0 END as gender\n",
    "                FROM df_table\n",
    "             \"\"\"\n",
    "features_df = add_features(usr_gender, ['gender'])"
   ]
  },
  {
   "cell_type": "code",
   "execution_count": 175,
   "metadata": {},
   "outputs": [
    {
     "name": "stdout",
     "output_type": "stream",
     "text": [
      "feature_names_sql new.About, new.Add_Friend, new.Add_to_Playlist, new.Cancel, new.Downgrade, new.Error, new.Help, new.Home, new.Logout, new.NextSong, new.Roll_Advert, new.Save_Settings, new.Settings, new.Submit_Downgrade, new.Submit_Upgrade, new.Thumbs_Down, new.Thumbs_Up, new.Upgrade\n"
     ]
    }
   ],
   "source": [
    "# Aggregate the count for each page in each session\n",
    "pages_per_session = spark.sql(\"\"\"\n",
    "                              SELECT userId, sessionId, page, COUNT(page) as cnt, to_month(AVG(ts)) as month\n",
    "                              FROM df_table\n",
    "                              GROUP BY userId, sessionId, page\n",
    "                              \"\"\")\n",
    "pages_per_session.createOrReplaceTempView(\"pages_per_session\")\n",
    "\n",
    "# Average page counts per user per sessions per month\n",
    "tmp = spark.sql(\"\"\"\n",
    "          SELECT userId, page, month, AVG(cnt) as avg_cnt\n",
    "          FROM pages_per_session\n",
    "          GROUP BY userId, month, page\n",
    "          \"\"\")\n",
    "tmp.createOrReplaceTempView(\"tmp\")\n",
    "\n",
    "# Average page counts per user over all months\n",
    "tmp2 = spark.sql(\"\"\"\n",
    "          SELECT userId, page, AVG(avg_cnt) as avg_mhly_cnt\n",
    "          FROM tmp\n",
    "          GROUP BY userId, page\n",
    "          \"\"\")\n",
    "tmp2.createOrReplaceTempView(\"tmp2\")\n",
    "\n",
    "# Creaet a pivot, fill empty values with 0 and drop the column 'Cancellation Confirmation', as this is our label\n",
    "pages_pivot_df = tmp2.groupBy(\"userId\").pivot(\"page\").sum(\"avg_mhly_cnt\").fillna(0).drop(\"Cancellation Confirmation\")\n",
    "\n",
    "# Remove spaces from column names\n",
    "for col in pages_pivot_df.columns:\n",
    "    pages_pivot_df = pages_pivot_df.withColumnRenamed(col, col.replace(\" \", \"_\"))\n",
    "pages_pivot_df.createOrReplaceTempView(\"pages_pivot_df\")\n",
    "\n",
    "# Get column names for page pivot but leave out the userId\n",
    "columns = pages_pivot_df.columns[1:]\n",
    "\n",
    "# Finally add the features\n",
    "page_pivot = \"SELECT * FROM pages_pivot_df\"\n",
    "features_df = add_features(page_pivot, columns)"
   ]
  },
  {
   "cell_type": "code",
   "execution_count": 176,
   "metadata": {},
   "outputs": [
    {
     "data": {
      "text/html": [
       "<div>\n",
       "<style scoped>\n",
       "    .dataframe tbody tr th:only-of-type {\n",
       "        vertical-align: middle;\n",
       "    }\n",
       "\n",
       "    .dataframe tbody tr th {\n",
       "        vertical-align: top;\n",
       "    }\n",
       "\n",
       "    .dataframe thead th {\n",
       "        text-align: right;\n",
       "    }\n",
       "</style>\n",
       "<table border=\"1\" class=\"dataframe\">\n",
       "  <thead>\n",
       "    <tr style=\"text-align: right;\">\n",
       "      <th></th>\n",
       "      <th>userId</th>\n",
       "      <th>churn</th>\n",
       "      <th>avg_sess_p_day</th>\n",
       "      <th>avg_length</th>\n",
       "      <th>avg_items_p_sess</th>\n",
       "      <th>acc_age</th>\n",
       "      <th>avg_sess_len</th>\n",
       "      <th>gender</th>\n",
       "      <th>About</th>\n",
       "      <th>Add_Friend</th>\n",
       "      <th>...</th>\n",
       "      <th>Logout</th>\n",
       "      <th>NextSong</th>\n",
       "      <th>Roll_Advert</th>\n",
       "      <th>Save_Settings</th>\n",
       "      <th>Settings</th>\n",
       "      <th>Submit_Downgrade</th>\n",
       "      <th>Submit_Upgrade</th>\n",
       "      <th>Thumbs_Down</th>\n",
       "      <th>Thumbs_Up</th>\n",
       "      <th>Upgrade</th>\n",
       "    </tr>\n",
       "  </thead>\n",
       "  <tbody>\n",
       "    <tr>\n",
       "      <th>153647</th>\n",
       "      <td>200009</td>\n",
       "      <td>0</td>\n",
       "      <td>0.288462</td>\n",
       "      <td>250.882678</td>\n",
       "      <td>60.895659</td>\n",
       "      <td>51</td>\n",
       "      <td>266.733333</td>\n",
       "      <td>0</td>\n",
       "      <td>0.000000</td>\n",
       "      <td>2.466667</td>\n",
       "      <td>...</td>\n",
       "      <td>2.000000</td>\n",
       "      <td>61.555556</td>\n",
       "      <td>3.300000</td>\n",
       "      <td>1.000000</td>\n",
       "      <td>1.375000</td>\n",
       "      <td>1.0</td>\n",
       "      <td>1.0</td>\n",
       "      <td>2.500000</td>\n",
       "      <td>3.012500</td>\n",
       "      <td>1.0</td>\n",
       "    </tr>\n",
       "    <tr>\n",
       "      <th>177585</th>\n",
       "      <td>58</td>\n",
       "      <td>1</td>\n",
       "      <td>0.571429</td>\n",
       "      <td>248.899992</td>\n",
       "      <td>131.639369</td>\n",
       "      <td>20</td>\n",
       "      <td>581.250000</td>\n",
       "      <td>0</td>\n",
       "      <td>0.000000</td>\n",
       "      <td>2.375000</td>\n",
       "      <td>...</td>\n",
       "      <td>2.333333</td>\n",
       "      <td>141.166667</td>\n",
       "      <td>3.666667</td>\n",
       "      <td>1.000000</td>\n",
       "      <td>1.375000</td>\n",
       "      <td>0.0</td>\n",
       "      <td>1.0</td>\n",
       "      <td>2.222222</td>\n",
       "      <td>8.545455</td>\n",
       "      <td>2.0</td>\n",
       "    </tr>\n",
       "    <tr>\n",
       "      <th>142432</th>\n",
       "      <td>200008</td>\n",
       "      <td>0</td>\n",
       "      <td>0.258621</td>\n",
       "      <td>246.218551</td>\n",
       "      <td>126.529821</td>\n",
       "      <td>57</td>\n",
       "      <td>451.866667</td>\n",
       "      <td>1</td>\n",
       "      <td>1.300000</td>\n",
       "      <td>2.583333</td>\n",
       "      <td>...</td>\n",
       "      <td>2.333333</td>\n",
       "      <td>100.800000</td>\n",
       "      <td>2.000000</td>\n",
       "      <td>1.000000</td>\n",
       "      <td>2.000000</td>\n",
       "      <td>0.0</td>\n",
       "      <td>1.0</td>\n",
       "      <td>3.875000</td>\n",
       "      <td>4.200000</td>\n",
       "      <td>1.0</td>\n",
       "    </tr>\n",
       "    <tr>\n",
       "      <th>189120</th>\n",
       "      <td>200020</td>\n",
       "      <td>1</td>\n",
       "      <td>0.750000</td>\n",
       "      <td>248.040512</td>\n",
       "      <td>46.413218</td>\n",
       "      <td>47</td>\n",
       "      <td>129.694444</td>\n",
       "      <td>0</td>\n",
       "      <td>1.000000</td>\n",
       "      <td>1.750000</td>\n",
       "      <td>...</td>\n",
       "      <td>1.883333</td>\n",
       "      <td>30.287879</td>\n",
       "      <td>3.012821</td>\n",
       "      <td>1.000000</td>\n",
       "      <td>1.000000</td>\n",
       "      <td>1.0</td>\n",
       "      <td>1.0</td>\n",
       "      <td>1.714286</td>\n",
       "      <td>2.916667</td>\n",
       "      <td>1.0</td>\n",
       "    </tr>\n",
       "    <tr>\n",
       "      <th>94321</th>\n",
       "      <td>17</td>\n",
       "      <td>1</td>\n",
       "      <td>0.636364</td>\n",
       "      <td>243.239308</td>\n",
       "      <td>150.593466</td>\n",
       "      <td>10</td>\n",
       "      <td>395.000000</td>\n",
       "      <td>1</td>\n",
       "      <td>1.000000</td>\n",
       "      <td>2.400000</td>\n",
       "      <td>...</td>\n",
       "      <td>3.000000</td>\n",
       "      <td>132.428571</td>\n",
       "      <td>4.000000</td>\n",
       "      <td>0.000000</td>\n",
       "      <td>1.250000</td>\n",
       "      <td>0.0</td>\n",
       "      <td>1.0</td>\n",
       "      <td>3.250000</td>\n",
       "      <td>8.000000</td>\n",
       "      <td>2.0</td>\n",
       "    </tr>\n",
       "    <tr>\n",
       "      <th>108386</th>\n",
       "      <td>136</td>\n",
       "      <td>0</td>\n",
       "      <td>0.372881</td>\n",
       "      <td>248.866482</td>\n",
       "      <td>159.173354</td>\n",
       "      <td>58</td>\n",
       "      <td>368.772727</td>\n",
       "      <td>1</td>\n",
       "      <td>2.333333</td>\n",
       "      <td>5.750000</td>\n",
       "      <td>...</td>\n",
       "      <td>2.683333</td>\n",
       "      <td>117.098901</td>\n",
       "      <td>1.700000</td>\n",
       "      <td>1.000000</td>\n",
       "      <td>1.750000</td>\n",
       "      <td>0.0</td>\n",
       "      <td>1.0</td>\n",
       "      <td>1.642857</td>\n",
       "      <td>7.857143</td>\n",
       "      <td>1.0</td>\n",
       "    </tr>\n",
       "    <tr>\n",
       "      <th>127022</th>\n",
       "      <td>104</td>\n",
       "      <td>0</td>\n",
       "      <td>0.481481</td>\n",
       "      <td>248.003628</td>\n",
       "      <td>76.114916</td>\n",
       "      <td>53</td>\n",
       "      <td>280.576923</td>\n",
       "      <td>1</td>\n",
       "      <td>1.000000</td>\n",
       "      <td>2.250000</td>\n",
       "      <td>...</td>\n",
       "      <td>2.166667</td>\n",
       "      <td>70.637500</td>\n",
       "      <td>1.722222</td>\n",
       "      <td>1.000000</td>\n",
       "      <td>1.166667</td>\n",
       "      <td>0.0</td>\n",
       "      <td>1.0</td>\n",
       "      <td>1.385714</td>\n",
       "      <td>3.991071</td>\n",
       "      <td>1.0</td>\n",
       "    </tr>\n",
       "    <tr>\n",
       "      <th>142342</th>\n",
       "      <td>200008</td>\n",
       "      <td>0</td>\n",
       "      <td>0.258621</td>\n",
       "      <td>246.218551</td>\n",
       "      <td>126.529821</td>\n",
       "      <td>57</td>\n",
       "      <td>451.866667</td>\n",
       "      <td>1</td>\n",
       "      <td>1.300000</td>\n",
       "      <td>2.583333</td>\n",
       "      <td>...</td>\n",
       "      <td>2.333333</td>\n",
       "      <td>100.800000</td>\n",
       "      <td>2.000000</td>\n",
       "      <td>1.000000</td>\n",
       "      <td>2.000000</td>\n",
       "      <td>0.0</td>\n",
       "      <td>1.0</td>\n",
       "      <td>3.875000</td>\n",
       "      <td>4.200000</td>\n",
       "      <td>1.0</td>\n",
       "    </tr>\n",
       "    <tr>\n",
       "      <th>185447</th>\n",
       "      <td>100012</td>\n",
       "      <td>1</td>\n",
       "      <td>0.233333</td>\n",
       "      <td>242.654103</td>\n",
       "      <td>72.230000</td>\n",
       "      <td>29</td>\n",
       "      <td>271.000000</td>\n",
       "      <td>0</td>\n",
       "      <td>1.000000</td>\n",
       "      <td>1.000000</td>\n",
       "      <td>...</td>\n",
       "      <td>1.200000</td>\n",
       "      <td>70.400000</td>\n",
       "      <td>7.000000</td>\n",
       "      <td>0.000000</td>\n",
       "      <td>0.000000</td>\n",
       "      <td>1.0</td>\n",
       "      <td>1.0</td>\n",
       "      <td>2.166667</td>\n",
       "      <td>3.000000</td>\n",
       "      <td>1.0</td>\n",
       "    </tr>\n",
       "    <tr>\n",
       "      <th>15634</th>\n",
       "      <td>132</td>\n",
       "      <td>0</td>\n",
       "      <td>0.313725</td>\n",
       "      <td>250.580344</td>\n",
       "      <td>138.034722</td>\n",
       "      <td>50</td>\n",
       "      <td>408.437500</td>\n",
       "      <td>1</td>\n",
       "      <td>1.000000</td>\n",
       "      <td>3.125000</td>\n",
       "      <td>...</td>\n",
       "      <td>2.422222</td>\n",
       "      <td>111.466667</td>\n",
       "      <td>1.000000</td>\n",
       "      <td>1.333333</td>\n",
       "      <td>2.333333</td>\n",
       "      <td>0.0</td>\n",
       "      <td>1.0</td>\n",
       "      <td>1.750000</td>\n",
       "      <td>6.222222</td>\n",
       "      <td>1.0</td>\n",
       "    </tr>\n",
       "  </tbody>\n",
       "</table>\n",
       "<p>10 rows × 26 columns</p>\n",
       "</div>"
      ],
      "text/plain": [
       "        userId  churn  avg_sess_p_day  avg_length  avg_items_p_sess  acc_age  \\\n",
       "153647  200009      0        0.288462  250.882678         60.895659       51   \n",
       "177585      58      1        0.571429  248.899992        131.639369       20   \n",
       "142432  200008      0        0.258621  246.218551        126.529821       57   \n",
       "189120  200020      1        0.750000  248.040512         46.413218       47   \n",
       "94321       17      1        0.636364  243.239308        150.593466       10   \n",
       "108386     136      0        0.372881  248.866482        159.173354       58   \n",
       "127022     104      0        0.481481  248.003628         76.114916       53   \n",
       "142342  200008      0        0.258621  246.218551        126.529821       57   \n",
       "185447  100012      1        0.233333  242.654103         72.230000       29   \n",
       "15634      132      0        0.313725  250.580344        138.034722       50   \n",
       "\n",
       "        avg_sess_len  gender     About  Add_Friend  ...    Logout    NextSong  \\\n",
       "153647    266.733333       0  0.000000    2.466667  ...  2.000000   61.555556   \n",
       "177585    581.250000       0  0.000000    2.375000  ...  2.333333  141.166667   \n",
       "142432    451.866667       1  1.300000    2.583333  ...  2.333333  100.800000   \n",
       "189120    129.694444       0  1.000000    1.750000  ...  1.883333   30.287879   \n",
       "94321     395.000000       1  1.000000    2.400000  ...  3.000000  132.428571   \n",
       "108386    368.772727       1  2.333333    5.750000  ...  2.683333  117.098901   \n",
       "127022    280.576923       1  1.000000    2.250000  ...  2.166667   70.637500   \n",
       "142342    451.866667       1  1.300000    2.583333  ...  2.333333  100.800000   \n",
       "185447    271.000000       0  1.000000    1.000000  ...  1.200000   70.400000   \n",
       "15634     408.437500       1  1.000000    3.125000  ...  2.422222  111.466667   \n",
       "\n",
       "        Roll_Advert  Save_Settings  Settings  Submit_Downgrade  \\\n",
       "153647     3.300000       1.000000  1.375000               1.0   \n",
       "177585     3.666667       1.000000  1.375000               0.0   \n",
       "142432     2.000000       1.000000  2.000000               0.0   \n",
       "189120     3.012821       1.000000  1.000000               1.0   \n",
       "94321      4.000000       0.000000  1.250000               0.0   \n",
       "108386     1.700000       1.000000  1.750000               0.0   \n",
       "127022     1.722222       1.000000  1.166667               0.0   \n",
       "142342     2.000000       1.000000  2.000000               0.0   \n",
       "185447     7.000000       0.000000  0.000000               1.0   \n",
       "15634      1.000000       1.333333  2.333333               0.0   \n",
       "\n",
       "        Submit_Upgrade  Thumbs_Down  Thumbs_Up  Upgrade  \n",
       "153647             1.0     2.500000   3.012500      1.0  \n",
       "177585             1.0     2.222222   8.545455      2.0  \n",
       "142432             1.0     3.875000   4.200000      1.0  \n",
       "189120             1.0     1.714286   2.916667      1.0  \n",
       "94321              1.0     3.250000   8.000000      2.0  \n",
       "108386             1.0     1.642857   7.857143      1.0  \n",
       "127022             1.0     1.385714   3.991071      1.0  \n",
       "142342             1.0     3.875000   4.200000      1.0  \n",
       "185447             1.0     2.166667   3.000000      1.0  \n",
       "15634              1.0     1.750000   6.222222      1.0  \n",
       "\n",
       "[10 rows x 26 columns]"
      ]
     },
     "execution_count": 176,
     "metadata": {},
     "output_type": "execute_result"
    }
   ],
   "source": [
    "features_df.toPandas().sample(10)"
   ]
  },
  {
   "cell_type": "code",
   "execution_count": 177,
   "metadata": {},
   "outputs": [],
   "source": [
    "# Mode of the user system\n",
    "pref_user_system = \"\"\"\n",
    "                  SELECT userId, MAX(userSystem) as pref_user_system\n",
    "                  FROM df_table\n",
    "                  GROUP BY userId\n",
    "                  \"\"\"\n",
    "features_df = add_feature(pref_user_system, 'pref_user_system')\n",
    "\n",
    "# Fill null values\n",
    "features_df = features_df.fillna(\"unknown\", subset=['pref_user_system'])\n",
    "\n",
    "# Index the prefered user system (macos, iphone etc...)\n",
    "from pyspark.ml.feature import StringIndexer\n",
    "stringIndexer = StringIndexer(inputCol=\"pref_user_system\", \n",
    "                              outputCol=\"pref_user_system_ind\",\n",
    "                              stringOrderType=\"frequencyDesc\")\n",
    "\n",
    "features_df = stringIndexer.fit(features_df).transform(features_df)\n",
    "\n",
    "# Apply one-hot-encoding for the user system\n",
    "from pyspark.ml.feature import OneHotEncoder\n",
    "ohe = OneHotEncoder(inputCol=\"pref_user_system_ind\",\n",
    "                    outputCol=\"pref_user_system_ohe\", \n",
    "                    dropLast=True)\n",
    "\n",
    "features_df = ohe.transform(features_df)#.transform(features_df)"
   ]
  },
  {
   "cell_type": "markdown",
   "metadata": {},
   "source": [
    "In a previous experimental run where `pref_user_system` was transformed to doubles via `StringIndexer`, the Linear Regression Model and the Random Forest Model both showed much less metric values, all between 74-78%. Thus, additionally, one-hot-encoding is applied for encoded string values.\n",
    "\n",
    "*** UNCLEAR: Why does the OHE not need to be trained? Does that mean the vector lengths depends on every call?***"
   ]
  },
  {
   "cell_type": "code",
   "execution_count": null,
   "metadata": {},
   "outputs": [],
   "source": [
    "features_df.toPandas().head()"
   ]
  },
  {
   "cell_type": "code",
   "execution_count": null,
   "metadata": {},
   "outputs": [],
   "source": [
    "# Mostly used system\n",
    "# Daytimes\n",
    "# Weektimes\n",
    "# Average percentage of each page click"
   ]
  },
  {
   "cell_type": "markdown",
   "metadata": {},
   "source": [
    "#### Handling imbalanced classes\n",
    "\n",
    "The `churn` is highly imbalanced over the provided samples, as the number of loyal users is more than 3 times higher than the number of cancelling users:"
   ]
  },
  {
   "cell_type": "code",
   "execution_count": null,
   "metadata": {},
   "outputs": [],
   "source": [
    "spark.sql(\"SELECT churn, COUNT(*) as count FROM features_df GROUP BY churn\").toPandas().plot.bar(x='churn')"
   ]
  },
  {
   "cell_type": "markdown",
   "metadata": {},
   "source": [
    "In order to avoid a bias in the classifier, according measures need to be applied. Following choices are considered:\n",
    "- Define a column `weightCol`, available after Spark 3.0.0\n",
    "- Up- or Down-sample the classes\n",
    "\n",
    "As at the time of writing no Docker image for Spark 3.0.0 was available, the approach of up- sampling is applied."
   ]
  },
  {
   "cell_type": "markdown",
   "metadata": {},
   "source": [
    "##### Up-sampling underrepresented classes\n",
    "\n",
    "In order to balance the classses, the positive (`churn` = 1) examples are all used, and the set of negative examples is down-sampled according to the ratio of negative to positive samples."
   ]
  },
  {
   "cell_type": "code",
   "execution_count": null,
   "metadata": {},
   "outputs": [],
   "source": [
    "# Extract positive and negative samples\n",
    "churn_neg_samples = features_df.filter(features_df.churn == 0)\n",
    "churn_pos_samples = features_df.filter(features_df.churn == 1)\n",
    "\n",
    "# Compute counts of both sets\n",
    "churn_neg_cnt = churn_neg_samples.count()\n",
    "churn_pos_cnt = churn_pos_samples.count()"
   ]
  },
  {
   "cell_type": "code",
   "execution_count": null,
   "metadata": {},
   "outputs": [],
   "source": [
    "# Ratio of positive examples\n",
    "pos_ratio = (float(churn_pos_cnt) / (churn_neg_cnt))"
   ]
  },
  {
   "cell_type": "code",
   "execution_count": null,
   "metadata": {},
   "outputs": [],
   "source": [
    "# Perform the sub-sampling of negative examples\n",
    "sampled = churn_neg_samples.sample(False, pos_ratio)"
   ]
  },
  {
   "cell_type": "code",
   "execution_count": null,
   "metadata": {},
   "outputs": [],
   "source": [
    "# Union sub-sampled negative examples with positive examples\n",
    "features_df_bal = sampled.union(churn_pos_samples)"
   ]
  },
  {
   "cell_type": "code",
   "execution_count": null,
   "metadata": {},
   "outputs": [],
   "source": [
    "# Verify the new number of negative examples\n",
    "features_df_bal.filter(features_df_bal.churn == 0).count()"
   ]
  },
  {
   "cell_type": "markdown",
   "metadata": {},
   "source": [
    "##### Weights for samples (AFTER SPARK 3.0.0)"
   ]
  },
  {
   "cell_type": "code",
   "execution_count": null,
   "metadata": {},
   "outputs": [],
   "source": [
    "# Add class weights to compensate unbalanced classes\n",
    "weightCol =   \"\"\"\n",
    "              SELECT userId, CASE WHEN MAX(churn) = 1 \n",
    "                                  THEN\n",
    "                                    1 - (SELECT AVG(churn) FROM features_df)\n",
    "                                  ELSE\n",
    "                                    (SELECT AVG(churn) FROM features_df)\n",
    "                                  END as weightCol\n",
    "              FROM df_table\n",
    "              GROUP BY userId\n",
    "              \"\"\"\n",
    "features_df = add_feature(weightCol, 'weightCol')"
   ]
  },
  {
   "cell_type": "markdown",
   "metadata": {},
   "source": [
    "# Modeling\n",
    "\n",
    "Before the machine learning model can be selected and trained, the right performance measure for our Sparkify problem needs to be defined:\n",
    "- Precision: `TP / (TP + FP)` - describes the percentage, when a reported cancelling user really was a cancelling user.\n",
    "- Recall: `TP / (TP + FN)` - describes the percentage of cancelling users that were correctly detected.\n",
    "- F1: Harmonic mean between Precision and Recall. Favors such models that have a balanced ratio of Precision and Recall.\n",
    "\n",
    "In this project, the output of the classificator will be used to place discounts to users in order to avoid their cancellation. The right tradeoff between precision and recall decides between loosing revenue by granting unnecessary discounts or loosing revenue by not properly care for users that might cancel soon.\n",
    "\n",
    "In case the classifier is tuned to a high recall and low precision, Sparkify would make sure that most of the potentially cancelling users get a discount and probably keep them as users. However, the Sparkify company would waste money due to the low precision, as loyal users are classified as cancelling users more often.\n",
    "\n",
    "If the classifier is tuned to a low recall and high precision, the Sparkify streaming service could probably miss the timely discount for cancelling users, leading to higher cancellation rates. On the other side, the expenses for unnecessary discounts are reduced, as the detections of cancelling users are more precise.\n",
    "\n",
    "The final decision largely depends on the pricing model of the company. What discount is needed to convince a customer to stay loyal? What is the monthly revenue generated by a loyal users? These numbers need to be considered when defining the correct threshold. As these details are not clear, in the following, the models are trained to get a balanced recall and precision ratio, thus the `F1` score is used.\n",
    "\n",
    "First, the data set is split into two parts, a `train_test` set, that is used for 3-fold cross-validation, and a `validation` set. The following models are evaluated:\n",
    "\n",
    "- Linear Support Vector Machine\n",
    "- Naive Bayes\n",
    "- Logistic Regression\n",
    "- Random Forest\n",
    "\n",
    "The single models are tuned based on a parameter grid-search and optimized against their `f1` score. The models are evaluated according to the `f1` score and their `accuracy`. The winning model is finally applied to the `validation` set.\n",
    "\n",
    "For better readability, the code for each model is outsourced to the `src/ml_pipelines/` subfolder within this repository.\n",
    "\n",
    "Upfront, the data sets for training and validation are created:"
   ]
  },
  {
   "cell_type": "code",
   "execution_count": null,
   "metadata": {},
   "outputs": [],
   "source": [
    "# Split data for training/test and validation\n",
    "train_test, validation = features_df_bal.randomSplit([0.9, 0.1], seed=42)"
   ]
  },
  {
   "cell_type": "code",
   "execution_count": null,
   "metadata": {},
   "outputs": [],
   "source": [
    "train_test.printSchema()"
   ]
  },
  {
   "cell_type": "code",
   "execution_count": null,
   "metadata": {},
   "outputs": [],
   "source": [
    "# Check for balanced classes\n",
    "cncl_rate = train_test.filter((train_test.churn == 1)).count()/train_test.count()\n",
    "print(\"The train_test data set contains {}% users that cancelled their subscription.\".format(cncl_rate*100.))"
   ]
  },
  {
   "cell_type": "code",
   "execution_count": null,
   "metadata": {},
   "outputs": [],
   "source": [
    "# Define the features to be used in training\n",
    "\n",
    "feature_cols = [\"avg_sess_p_day\",\n",
    "               \"avg_length\",\n",
    "               \"avg_items_p_sess\",\n",
    "               \"acc_age\",\n",
    "               \"avg_sess_len\",\n",
    "               \"pref_user_system_ohe\",\n",
    "               \"gender_ohe\"] # pref_user_system_ind created by the pipeline"
   ]
  },
  {
   "cell_type": "markdown",
   "metadata": {},
   "source": [
    "## Linear Support Vector Machine (SVM)\n",
    "\n",
    "The used machine learning pipeline is stored in the file `src/ml_pipe_factory.py`. If basically does:\n",
    "\n",
    "- Feature scaling: TODO MinMaxScaler/Normalizer is good if there are no outliers. Standardizer is good if there are outliers. TODO: Which to use on which feature?\n",
    "\n",
    "### SVM Training"
   ]
  },
  {
   "cell_type": "code",
   "execution_count": null,
   "metadata": {},
   "outputs": [],
   "source": [
    "# Import various candidate models\n",
    "from src.ml_pipe_factory import build_svm_pipeline"
   ]
  },
  {
   "cell_type": "code",
   "execution_count": null,
   "metadata": {},
   "outputs": [],
   "source": [
    "# Split data for training/test and validation\n",
    "train_test, validation = features_df_bal.randomSplit([0.9, 0.1], seed=42)\n",
    "\n",
    "# Build the SVM pipeline\n",
    "svm_pipeline = build_svm_pipeline(inputCols = feature_cols)"
   ]
  },
  {
   "cell_type": "code",
   "execution_count": null,
   "metadata": {},
   "outputs": [],
   "source": [
    "# Execute the training\n",
    "svm_model = svm_pipeline.fit(train_test)"
   ]
  },
  {
   "cell_type": "code",
   "execution_count": null,
   "metadata": {},
   "outputs": [],
   "source": [
    "# Save the model\n",
    "import pathlib\n",
    "model_path = str(pathlib.Path().absolute() / \"model\" / \"svm\")\n",
    "svm_model.bestModel.write().overwrite().save(model_path)"
   ]
  },
  {
   "cell_type": "markdown",
   "metadata": {},
   "source": [
    "### SVM Evaluation"
   ]
  },
  {
   "cell_type": "markdown",
   "metadata": {},
   "source": [
    "The SVM model is evaluated in the following cells."
   ]
  },
  {
   "cell_type": "code",
   "execution_count": null,
   "metadata": {},
   "outputs": [],
   "source": [
    "%load_ext autoreload\n",
    "%autoreload 2\n",
    "\n",
    "from src.evaluator import evaluate_model\n",
    "from pyspark.ml import PipelineModel\n",
    "\n",
    "# Load the model\n",
    "svmModel = PipelineModel.load(model_path)"
   ]
  },
  {
   "cell_type": "code",
   "execution_count": null,
   "metadata": {},
   "outputs": [],
   "source": [
    "# Create predictions\n",
    "svm_results = svmModel.transform(train_test)"
   ]
  },
  {
   "cell_type": "code",
   "execution_count": null,
   "metadata": {},
   "outputs": [],
   "source": [
    "# Evaluate the predictions\n",
    "metrics_svm = evaluate_model(svm_results, \"SVM\")"
   ]
  },
  {
   "cell_type": "code",
   "execution_count": null,
   "metadata": {},
   "outputs": [],
   "source": [
    "metrics_svm"
   ]
  },
  {
   "cell_type": "markdown",
   "metadata": {},
   "source": [
    "## Naive Bayes Classifier (NB)\n",
    "\n",
    "### NB Training"
   ]
  },
  {
   "cell_type": "code",
   "execution_count": null,
   "metadata": {},
   "outputs": [],
   "source": [
    "# Import various candidate models\n",
    "from src.ml_pipe_factory import build_naivebayes_pipeline\n",
    "\n",
    "# Build the NB pipeline\n",
    "nb_pipeline = build_naivebayes_pipeline(inputCols = feature_cols)"
   ]
  },
  {
   "cell_type": "code",
   "execution_count": null,
   "metadata": {},
   "outputs": [],
   "source": [
    "# Execute the training\n",
    "nb = nb_pipeline.fit(train_test)"
   ]
  },
  {
   "cell_type": "code",
   "execution_count": null,
   "metadata": {},
   "outputs": [],
   "source": [
    "# Save the model\n",
    "import pathlib\n",
    "nb_path = str(pathlib.Path().absolute() / \"model\" / \"naivebayes\")\n",
    "nb.bestModel.write().overwrite().save(nb_path)"
   ]
  },
  {
   "cell_type": "markdown",
   "metadata": {},
   "source": [
    "### NB Evaluation"
   ]
  },
  {
   "cell_type": "code",
   "execution_count": null,
   "metadata": {},
   "outputs": [],
   "source": [
    "# Load the model\n",
    "nbModel = PipelineModel.load(nb_path)\n",
    "\n",
    "# Create predictions\n",
    "nb_results = nbModel.transform(train_test)\n",
    "\n",
    "# Evaluate the predictions\n",
    "metrics_nb = evaluate_model(nb_results, \"NaiveBayes\")\n",
    "metrics_nb"
   ]
  },
  {
   "cell_type": "markdown",
   "metadata": {},
   "source": [
    "## Logistic Regression (LR)\n",
    "\n",
    "### LR Training"
   ]
  },
  {
   "cell_type": "code",
   "execution_count": null,
   "metadata": {},
   "outputs": [],
   "source": [
    "# Import various candidate models\n",
    "from src.ml_pipe_factory import build_logreg_pipeline\n",
    "\n",
    "# Build the LR pipeline\n",
    "lr_pipeline = build_logreg_pipeline(inputCols = feature_cols)"
   ]
  },
  {
   "cell_type": "code",
   "execution_count": null,
   "metadata": {},
   "outputs": [],
   "source": [
    "# Execute the training\n",
    "lr = lr_pipeline.fit(train_test)"
   ]
  },
  {
   "cell_type": "code",
   "execution_count": null,
   "metadata": {},
   "outputs": [],
   "source": [
    "# Save the model\n",
    "import pathlib\n",
    "lr_path = str(pathlib.Path().absolute() / \"model\" / \"logreg\")\n",
    "lr.bestModel.write().overwrite().save(lr_path)"
   ]
  },
  {
   "cell_type": "markdown",
   "metadata": {},
   "source": [
    "### LR Evaluation"
   ]
  },
  {
   "cell_type": "code",
   "execution_count": null,
   "metadata": {},
   "outputs": [],
   "source": [
    "# Load the model\n",
    "lrModel = PipelineModel.load(lr_path)\n",
    "\n",
    "# Create predictions\n",
    "lr_results = lrModel.transform(train_test)\n",
    "\n",
    "# Evaluate the predictions\n",
    "metrics_lr = evaluate_model(lr_results, \"Logistic Regression\")\n",
    "metrics_lr"
   ]
  },
  {
   "cell_type": "markdown",
   "metadata": {},
   "source": [
    "## Random Forest (RF)\n",
    "\n",
    "### RF Training"
   ]
  },
  {
   "cell_type": "code",
   "execution_count": null,
   "metadata": {},
   "outputs": [],
   "source": [
    "# Import various candidate models\n",
    "from src.ml_pipe_factory import build_randomforest_pipeline\n",
    "\n",
    "# Build the RF pipeline\n",
    "rf_pipeline = build_randomforest_pipeline(inputCols = feature_cols)"
   ]
  },
  {
   "cell_type": "code",
   "execution_count": null,
   "metadata": {},
   "outputs": [],
   "source": [
    "# Execute the training\n",
    "rf = rf_pipeline.fit(train_test)"
   ]
  },
  {
   "cell_type": "code",
   "execution_count": null,
   "metadata": {},
   "outputs": [],
   "source": [
    "# Save the model\n",
    "import pathlib\n",
    "rf_path = str(pathlib.Path().absolute() / \"model\" / \"rndmforest\")\n",
    "rf.bestModel.write().overwrite().save(rf_path)"
   ]
  },
  {
   "cell_type": "markdown",
   "metadata": {},
   "source": [
    "### RF Evaluation"
   ]
  },
  {
   "cell_type": "code",
   "execution_count": null,
   "metadata": {},
   "outputs": [],
   "source": [
    "rfModel[2].featureImportances()"
   ]
  },
  {
   "cell_type": "code",
   "execution_count": null,
   "metadata": {},
   "outputs": [],
   "source": [
    "# Load the model\n",
    "rfModel = PipelineModel.load(rf_path)\n",
    "\n",
    "# Create predictions\n",
    "rf_results = rfModel.transform(train_test)\n",
    "\n",
    "# Evaluate the predictions\n",
    "metrics_rf = evaluate_model(rf_results, \"Random Forest\")\n",
    "metrics_rf"
   ]
  },
  {
   "cell_type": "markdown",
   "metadata": {},
   "source": [
    "## Evaluation Summary"
   ]
  },
  {
   "cell_type": "code",
   "execution_count": null,
   "metadata": {},
   "outputs": [],
   "source": [
    "metrics_df = pd.DataFrame.from_records([metrics_rf,\n",
    "                        metrics_lr,\n",
    "                        metrics_nb])"
   ]
  },
  {
   "cell_type": "code",
   "execution_count": null,
   "metadata": {},
   "outputs": [],
   "source": [
    "metrics_df_melted = metrics_df.melt(id_vars=\"model\")"
   ]
  },
  {
   "cell_type": "code",
   "execution_count": null,
   "metadata": {},
   "outputs": [],
   "source": [
    "metrics_df_melted.rename(columns={'model':\"Model\",\n",
    "                                  'variable':\"Metric\",\n",
    "                                  'value':\"Score\"},\n",
    "                        inplace=True)"
   ]
  },
  {
   "cell_type": "code",
   "execution_count": null,
   "metadata": {},
   "outputs": [],
   "source": [
    "fig = plt.figure(figsize=(8,3))\n",
    "ax = sns.barplot(x=\"Metric\", y=\"Score\", hue=\"Model\", data=metrics_df_melted)\n",
    "plt.grid(\"on\")"
   ]
  },
  {
   "cell_type": "markdown",
   "metadata": {},
   "source": [
    "Final descriptive text goes here..."
   ]
  },
  {
   "cell_type": "markdown",
   "metadata": {},
   "source": [
    "# Summary\n",
    "Clean up your code, adding comments and renaming variables to make the code easier to read and maintain. Refer to the Spark Project Overview page and Data Scientist Capstone Project Rubric to make sure you are including all components of the capstone project and meet all expectations. Remember, this includes thorough documentation in a README file in a Github repository, as well as a web app or blog post."
   ]
  }
 ],
 "metadata": {
  "kernelspec": {
   "display_name": "Python 3",
   "language": "python",
   "name": "python3"
  },
  "language_info": {
   "codemirror_mode": {
    "name": "ipython",
    "version": 3
   },
   "file_extension": ".py",
   "mimetype": "text/x-python",
   "name": "python",
   "nbconvert_exporter": "python",
   "pygments_lexer": "ipython3",
   "version": "3.7.6"
  }
 },
 "nbformat": 4,
 "nbformat_minor": 2
}
