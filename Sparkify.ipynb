{
 "cells": [
  {
   "cell_type": "markdown",
   "metadata": {},
   "source": [
    "# Sparkify Project Workspace\n",
    "\n",
    "Sparkify is a fictional music streaming service, comparable to Spotify. In this project, a user log of approx. 12 GB is given along with a tiny subset of 128 MB. The entries contain all events created by single users, e.g. by logging in, selecting the next song, or liking a song.\n",
    "\n",
    "Some users within this event log cancelled their subscription. The goal of this project is to predict for a given trace of user evens whether this user is likely to cancel his subscription and consequently stop to use Sparkify.\n",
    "\n",
    "In the following notebook, the data is loaded, cleaned, explored, features are extracted and machine learning models are builtt and evaluated. It is basically capabable to be deployed on an AWS EMR cluster."
   ]
  },
  {
   "cell_type": "markdown",
   "metadata": {},
   "source": [
    "Requirements to operate on AWS EMR:\n",
    "- Switch the kernel to 'PySpark' in the Jupyter notebook on AWS EMR\n",
    "- Install Hive in the AWS EMR environment to support Spark SQL queries\n",
    "- Open the security group of the master node for outbound HTTPS and outbound HTTP to download pip packages\n",
    "- Open the security group of the master node for SSH, ssh into it and install the following packages:\n",
    "    - `sudo env \"PATH=$PATH\" pip install pytz`\n",
    "    - also don`t forget to install the pyspark package\n",
    "    \n",
    "- Change the security group of the Notebook to allow outbound http traffic [here](https://docs.aws.amazon.com/emr/latest/ManagementGuide/emr-git-repo-open.html) and [here](https://stackoverflow.com/questions/62221521/configuring-emr-notebook-with-github)\n",
    "- Checkout from git with `!git pull origin master`\n",
    "\n",
    "\n",
    "- Create an external script and execute via step execution\n",
    "\n",
    "Todos:\n",
    "- calculate histograms and plot data in pyspark, not in pandas\n",
    "- M"
   ]
  },
  {
   "cell_type": "code",
   "execution_count": 1,
   "metadata": {},
   "outputs": [],
   "source": [
    "%matplotlib inline"
   ]
  },
  {
   "cell_type": "code",
   "execution_count": 2,
   "metadata": {},
   "outputs": [],
   "source": [
    "# import libraries\n",
    "#%autoreload\n",
    "\n",
    "import numpy as np\n",
    "import pandas as pd\n",
    "\n",
    "import pyspark as ps\n",
    "from pyspark.sql import SparkSession\n",
    "from pyspark.sql.functions import udf, regexp_extract\n",
    "from pyspark.sql.types import FloatType, IntegerType\n",
    "\n",
    "import seaborn as sns\n",
    "import matplotlib.pyplot as plt\n",
    "import datetime"
   ]
  },
  {
   "cell_type": "markdown",
   "metadata": {},
   "source": [
    "# Load and Clean Dataset\n",
    "In this workspace, the mini-dataset file is `mini_sparkify_event_data.json`. The data is loaded and cleaned. It is checked for missing or invalid data, for example, records without userids or sessionids."
   ]
  },
  {
   "cell_type": "markdown",
   "metadata": {},
   "source": [
    "## Load the Dataset\n",
    "\n",
    "In this example, the file is loaded from a local `.json` file."
   ]
  },
  {
   "cell_type": "code",
   "execution_count": 3,
   "metadata": {},
   "outputs": [],
   "source": [
    "# create a Spark session\n",
    "spark = SparkSession\\\n",
    "        .builder\\\n",
    "        .appName(\"Sparkify\")\\\n",
    "        .getOrCreate()"
   ]
  },
  {
   "cell_type": "code",
   "execution_count": 4,
   "metadata": {},
   "outputs": [],
   "source": [
    "# load the data in spark\n",
    "df_s = spark.read.json(\"mini_sparkify_event_data.json\")"
   ]
  },
  {
   "cell_type": "code",
   "execution_count": 5,
   "metadata": {},
   "outputs": [],
   "source": [
    "df_s.createOrReplaceTempView(\"df_table\")"
   ]
  },
  {
   "cell_type": "markdown",
   "metadata": {},
   "source": [
    "### Dataset Overview"
   ]
  },
  {
   "cell_type": "code",
   "execution_count": 6,
   "metadata": {},
   "outputs": [
    {
     "name": "stdout",
     "output_type": "stream",
     "text": [
      "root\n",
      " |-- artist: string (nullable = true)\n",
      " |-- auth: string (nullable = true)\n",
      " |-- firstName: string (nullable = true)\n",
      " |-- gender: string (nullable = true)\n",
      " |-- itemInSession: long (nullable = true)\n",
      " |-- lastName: string (nullable = true)\n",
      " |-- length: double (nullable = true)\n",
      " |-- level: string (nullable = true)\n",
      " |-- location: string (nullable = true)\n",
      " |-- method: string (nullable = true)\n",
      " |-- page: string (nullable = true)\n",
      " |-- registration: long (nullable = true)\n",
      " |-- sessionId: long (nullable = true)\n",
      " |-- song: string (nullable = true)\n",
      " |-- status: long (nullable = true)\n",
      " |-- ts: long (nullable = true)\n",
      " |-- userAgent: string (nullable = true)\n",
      " |-- userId: string (nullable = true)\n",
      "\n"
     ]
    }
   ],
   "source": [
    "df_s.printSchema()"
   ]
  },
  {
   "cell_type": "code",
   "execution_count": 7,
   "metadata": {},
   "outputs": [
    {
     "data": {
      "text/plain": [
       "[Row(artist='Martha Tilston', auth='Logged In', firstName='Colin', gender='M', itemInSession=50, lastName='Freeman', length=277.89016, level='paid', location='Bakersfield, CA', method='PUT', page='NextSong', registration=1538173362000, sessionId=29, song='Rockpools', status=200, ts=1538352117000, userAgent='Mozilla/5.0 (Windows NT 6.1; WOW64; rv:31.0) Gecko/20100101 Firefox/31.0', userId='30'),\n",
       " Row(artist='Five Iron Frenzy', auth='Logged In', firstName='Micah', gender='M', itemInSession=79, lastName='Long', length=236.09424, level='free', location='Boston-Cambridge-Newton, MA-NH', method='PUT', page='NextSong', registration=1538331630000, sessionId=8, song='Canada', status=200, ts=1538352180000, userAgent='\"Mozilla/5.0 (Windows NT 6.1; WOW64) AppleWebKit/537.36 (KHTML, like Gecko) Chrome/37.0.2062.103 Safari/537.36\"', userId='9'),\n",
       " Row(artist='Adam Lambert', auth='Logged In', firstName='Colin', gender='M', itemInSession=51, lastName='Freeman', length=282.8273, level='paid', location='Bakersfield, CA', method='PUT', page='NextSong', registration=1538173362000, sessionId=29, song='Time For Miracles', status=200, ts=1538352394000, userAgent='Mozilla/5.0 (Windows NT 6.1; WOW64; rv:31.0) Gecko/20100101 Firefox/31.0', userId='30'),\n",
       " Row(artist='Enigma', auth='Logged In', firstName='Micah', gender='M', itemInSession=80, lastName='Long', length=262.71302, level='free', location='Boston-Cambridge-Newton, MA-NH', method='PUT', page='NextSong', registration=1538331630000, sessionId=8, song='Knocking On Forbidden Doors', status=200, ts=1538352416000, userAgent='\"Mozilla/5.0 (Windows NT 6.1; WOW64) AppleWebKit/537.36 (KHTML, like Gecko) Chrome/37.0.2062.103 Safari/537.36\"', userId='9'),\n",
       " Row(artist='Daft Punk', auth='Logged In', firstName='Colin', gender='M', itemInSession=52, lastName='Freeman', length=223.60771, level='paid', location='Bakersfield, CA', method='PUT', page='NextSong', registration=1538173362000, sessionId=29, song='Harder Better Faster Stronger', status=200, ts=1538352676000, userAgent='Mozilla/5.0 (Windows NT 6.1; WOW64; rv:31.0) Gecko/20100101 Firefox/31.0', userId='30'),\n",
       " Row(artist='The All-American Rejects', auth='Logged In', firstName='Micah', gender='M', itemInSession=81, lastName='Long', length=208.29995, level='free', location='Boston-Cambridge-Newton, MA-NH', method='PUT', page='NextSong', registration=1538331630000, sessionId=8, song=\"Don't Leave Me\", status=200, ts=1538352678000, userAgent='\"Mozilla/5.0 (Windows NT 6.1; WOW64) AppleWebKit/537.36 (KHTML, like Gecko) Chrome/37.0.2062.103 Safari/537.36\"', userId='9'),\n",
       " Row(artist='The Velvet Underground / Nico', auth='Logged In', firstName='Micah', gender='M', itemInSession=82, lastName='Long', length=260.46649, level='free', location='Boston-Cambridge-Newton, MA-NH', method='PUT', page='NextSong', registration=1538331630000, sessionId=8, song='Run Run Run', status=200, ts=1538352886000, userAgent='\"Mozilla/5.0 (Windows NT 6.1; WOW64) AppleWebKit/537.36 (KHTML, like Gecko) Chrome/37.0.2062.103 Safari/537.36\"', userId='9'),\n",
       " Row(artist='Starflyer 59', auth='Logged In', firstName='Colin', gender='M', itemInSession=53, lastName='Freeman', length=185.44281, level='paid', location='Bakersfield, CA', method='PUT', page='NextSong', registration=1538173362000, sessionId=29, song='Passengers (Old Album Version)', status=200, ts=1538352899000, userAgent='Mozilla/5.0 (Windows NT 6.1; WOW64; rv:31.0) Gecko/20100101 Firefox/31.0', userId='30'),\n",
       " Row(artist=None, auth='Logged In', firstName='Colin', gender='M', itemInSession=54, lastName='Freeman', length=None, level='paid', location='Bakersfield, CA', method='PUT', page='Add to Playlist', registration=1538173362000, sessionId=29, song=None, status=200, ts=1538352905000, userAgent='Mozilla/5.0 (Windows NT 6.1; WOW64; rv:31.0) Gecko/20100101 Firefox/31.0', userId='30'),\n",
       " Row(artist='Frumpies', auth='Logged In', firstName='Colin', gender='M', itemInSession=55, lastName='Freeman', length=134.47791, level='paid', location='Bakersfield, CA', method='PUT', page='NextSong', registration=1538173362000, sessionId=29, song='Fuck Kitty', status=200, ts=1538353084000, userAgent='Mozilla/5.0 (Windows NT 6.1; WOW64; rv:31.0) Gecko/20100101 Firefox/31.0', userId='30')]"
      ]
     },
     "execution_count": 7,
     "metadata": {},
     "output_type": "execute_result"
    }
   ],
   "source": [
    "df_s.take(10)"
   ]
  },
  {
   "cell_type": "code",
   "execution_count": 8,
   "metadata": {
    "scrolled": true
   },
   "outputs": [
    {
     "data": {
      "text/plain": [
       "DataFrame[summary: string, artist: string, auth: string, firstName: string, gender: string, itemInSession: string, lastName: string, length: string, level: string, location: string, method: string, page: string, registration: string, sessionId: string, song: string, status: string, ts: string, userAgent: string, userId: string]"
      ]
     },
     "execution_count": 8,
     "metadata": {},
     "output_type": "execute_result"
    }
   ],
   "source": [
    "df_s.describe()"
   ]
  },
  {
   "cell_type": "code",
   "execution_count": 9,
   "metadata": {},
   "outputs": [],
   "source": [
    "def get_unique_values(table_name, col_name):\n",
    "    \"\"\"\n",
    "    Computes a list of unique values of the given\n",
    "    table on the given column and returns a list.\n",
    "    INPUT:\n",
    "        table_name (str): name of the input table\n",
    "        col_name (str): name of the column to search unique values\n",
    "    OUTPUT:\n",
    "        list (str): all unique values found\n",
    "    \"\"\"\n",
    "    res = spark.sql(\"\"\"\n",
    "          SELECT DISTINCT {col_name}\n",
    "          FROM {table_name}\n",
    "          \"\"\".format(table_name=table_name,\n",
    "                     col_name=col_name)).show()\n",
    "    return res"
   ]
  },
  {
   "cell_type": "code",
   "execution_count": 10,
   "metadata": {},
   "outputs": [
    {
     "name": "stdout",
     "output_type": "stream",
     "text": [
      "+--------------------+\n",
      "|                page|\n",
      "+--------------------+\n",
      "|              Cancel|\n",
      "|    Submit Downgrade|\n",
      "|         Thumbs Down|\n",
      "|                Home|\n",
      "|           Downgrade|\n",
      "|         Roll Advert|\n",
      "|              Logout|\n",
      "|       Save Settings|\n",
      "|Cancellation Conf...|\n",
      "|               About|\n",
      "| Submit Registration|\n",
      "|            Settings|\n",
      "|               Login|\n",
      "|            Register|\n",
      "|     Add to Playlist|\n",
      "|          Add Friend|\n",
      "|            NextSong|\n",
      "|           Thumbs Up|\n",
      "|                Help|\n",
      "|             Upgrade|\n",
      "+--------------------+\n",
      "only showing top 20 rows\n",
      "\n",
      "+----------+\n",
      "|      auth|\n",
      "+----------+\n",
      "|Logged Out|\n",
      "| Cancelled|\n",
      "|     Guest|\n",
      "| Logged In|\n",
      "+----------+\n",
      "\n",
      "+-----+\n",
      "|level|\n",
      "+-----+\n",
      "| free|\n",
      "| paid|\n",
      "+-----+\n",
      "\n",
      "+------+\n",
      "|gender|\n",
      "+------+\n",
      "|     F|\n",
      "|  null|\n",
      "|     M|\n",
      "+------+\n",
      "\n"
     ]
    }
   ],
   "source": [
    "# Print unique values of interesting columns\n",
    "unique_query_cols = ['page', 'auth', 'level', 'gender']\n",
    "for col in unique_query_cols:\n",
    "    res = get_unique_values('df_table', col)"
   ]
  },
  {
   "cell_type": "markdown",
   "metadata": {},
   "source": [
    "## Check for Missing and Invalid Data\n",
    "\n",
    "### Check for Missing Data\n",
    "\n",
    "First, columns with missing values are identified."
   ]
  },
  {
   "cell_type": "code",
   "execution_count": 11,
   "metadata": {},
   "outputs": [
    {
     "name": "stdout",
     "output_type": "stream",
     "text": [
      "+------+----+---------+------+-------------+--------+------+-----+--------+------+----+------------+---------+-----+------+---+---------+------+\n",
      "|artist|auth|firstName|gender|itemInSession|lastName|length|level|location|method|page|registration|sessionId| song|status| ts|userAgent|userId|\n",
      "+------+----+---------+------+-------------+--------+------+-----+--------+------+----+------------+---------+-----+------+---+---------+------+\n",
      "| 58392|   0|     8346|  8346|            0|    8346| 58392|    0|    8346|     0|   0|        8346|        0|58392|     0|  0|     8346|     0|\n",
      "+------+----+---------+------+-------------+--------+------+-----+--------+------+----+------------+---------+-----+------+---+---------+------+\n",
      "\n"
     ]
    }
   ],
   "source": [
    "from pyspark.sql.functions import isnan, when, count, col\n",
    "df_s.select([count(when(isnan(c) | col(c).isNull(), c)).alias(c) for c in df_s.columns]).show()"
   ]
  },
  {
   "cell_type": "markdown",
   "metadata": {},
   "source": [
    "The length value is only defined for `NextSong` events. It reasonable to keep the na value for other events."
   ]
  },
  {
   "cell_type": "markdown",
   "metadata": {},
   "source": [
    "## Clean the Data\n",
    "\n",
    "In the following section data, data columns are cleaned, invalid values are deleted and unnecessary columns are removed."
   ]
  },
  {
   "cell_type": "markdown",
   "metadata": {},
   "source": [
    "### Clean the userAgent column\n",
    "\n",
    "This column contains a lot details that are most likely not relevant. However, the device type / OS type could be relevant, thus we extract it."
   ]
  },
  {
   "cell_type": "code",
   "execution_count": 12,
   "metadata": {},
   "outputs": [],
   "source": [
    "# Extract the user system from column `userAgent`\n",
    "df_table = spark.sql('''\n",
    "  SELECT *, regexp_extract(userAgent,\n",
    "                        \\\"\\\\\\(([a-zA-Z 0-9.]+)\\\", 1)\n",
    "                        as userSystem\n",
    "  FROM df_table\n",
    "  ''')\n",
    "df_table.createOrReplaceTempView(\"df_table\")"
   ]
  },
  {
   "cell_type": "markdown",
   "metadata": {},
   "source": [
    "### Remove empty user names\n",
    "\n",
    "Login events have no assigned user name. Thus, all `page = Login` events are removed."
   ]
  },
  {
   "cell_type": "code",
   "execution_count": 13,
   "metadata": {},
   "outputs": [],
   "source": [
    "df_table = spark.sql(\"\"\"\n",
    "                      SELECT *\n",
    "                      FROM df_table\n",
    "                      WHERE userId <> ''\n",
    "                      \"\"\")\n",
    "df_table.createOrReplaceTempView(\"df_table\")"
   ]
  },
  {
   "cell_type": "markdown",
   "metadata": {},
   "source": [
    "### Delete unnecessary columns\n",
    "\n",
    "The columns related to the name of the user, name of the listened song and the HTTP method (get/put) are deleted. The assumption is that this information does not affect the decision of a user to cancel its subscription."
   ]
  },
  {
   "cell_type": "code",
   "execution_count": 14,
   "metadata": {},
   "outputs": [],
   "source": [
    "df_s = spark.sql('''\n",
    "                 SELECT userId, page, level, sessionId, ts, gender, itemInSession, userSystem, length, auth\n",
    "                 FROM df_table\n",
    "                 ''')\n",
    "df_s.createOrReplaceTempView(\"df_table\")"
   ]
  },
  {
   "cell_type": "markdown",
   "metadata": {},
   "source": [
    "# Exploratory Data Analysis\n",
    "\n",
    "In the following, a small subset of the data is loaded and basic manipulations are done within Spark. Various statistics are evaluated on the provided data in order to derive the right features."
   ]
  },
  {
   "cell_type": "markdown",
   "metadata": {},
   "source": [
    "### Define Churn\n",
    "\n",
    "Once you've done some preliminary analysis, create a column `Churn` to use as the label for your model. I suggest using the `Cancellation Confirmation` events to define your churn, which happen for both paid and free users. As a bonus task, you can also look into the `Downgrade` events."
   ]
  },
  {
   "cell_type": "code",
   "execution_count": 15,
   "metadata": {},
   "outputs": [],
   "source": [
    "\"\"\"\n",
    "Define a column `churn` that is 0 before a `Cancellation Confirmation` and 1 afterwards.\n",
    "\n",
    "Calculation logic:\n",
    "- binary encoding of the events\n",
    "- cumulative sum over the binary encoding\n",
    "\"\"\"\n",
    "# binary encoding of the 'Cancellation Confirmation' events in column churn\n",
    "df_s = spark.sql('''\n",
    "                  SELECT *, CASE WHEN page = 'Cancellation Confirmation' THEN 1 ELSE 0 END as cancel_event\n",
    "                  FROM df_table\n",
    "                  ''')\n",
    "df_s.createOrReplaceTempView('df_table')"
   ]
  },
  {
   "cell_type": "code",
   "execution_count": 16,
   "metadata": {},
   "outputs": [],
   "source": [
    "# cumulative sum over the churn column to detect phases\n",
    "df_s = spark.sql('''\n",
    "          SELECT *,\n",
    "          SUM(cancel_event) OVER (PARTITION BY userId) as churn\n",
    "          FROM df_table\n",
    "          ''')\n",
    "df_s.createOrReplaceTempView(\"df_table\")"
   ]
  },
  {
   "cell_type": "markdown",
   "metadata": {},
   "source": [
    "### Store the cleaned and augmented data"
   ]
  },
  {
   "cell_type": "code",
   "execution_count": 17,
   "metadata": {},
   "outputs": [],
   "source": [
    "df_s.write.parquet(\"data/preprocessed_data.parquet\")"
   ]
  },
  {
   "cell_type": "markdown",
   "metadata": {},
   "source": [
    "### Get userId of loyal and churned users\n",
    "\n",
    "Prepare two tables of `userId` separated by the fact whether this is a user that churned or a loyal user. This information is later needed to explore the daa based on the user group."
   ]
  },
  {
   "cell_type": "code",
   "execution_count": 18,
   "metadata": {},
   "outputs": [
    {
     "name": "stdout",
     "output_type": "stream",
     "text": [
      "Overall 52 users cancelled their subscription.\n"
     ]
    }
   ],
   "source": [
    "# Collect all userId of users that cancelled the subscription\n",
    "cancelled_userIds = spark.sql('''SELECT userId\n",
    "                                  FROM df_table\n",
    "                                  GROUP BY userId\n",
    "                                  HAVING MAX(churn) > 0\n",
    "                          ''')\n",
    "cancelled_userIds.createOrReplaceTempView(\"cancelled_userIds\")\n",
    "\n",
    "# print statistics\n",
    "print(\"Overall {} users cancelled their subscription.\".format(len(cancelled_userIds.collect())))\n",
    "cancelled_userIds.write.parquet(\"data/cancelled_userIds.parquet\")"
   ]
  },
  {
   "cell_type": "code",
   "execution_count": 19,
   "metadata": {},
   "outputs": [
    {
     "name": "stdout",
     "output_type": "stream",
     "text": [
      "Overall 173 users did not cancel their subscription.\n"
     ]
    }
   ],
   "source": [
    "# Collect all userId of users that cancelled the subscription\n",
    "loyal_userIds = spark.sql('''SELECT userId\n",
    "                                  FROM df_table\n",
    "                                  GROUP BY userId\n",
    "                                  HAVING MAX(churn) = 0\n",
    "                          ''')\n",
    "loyal_userIds.createOrReplaceTempView(\"loyal_userIds\")\n",
    "\n",
    "# print statistics\n",
    "print(\"Overall {} users did not cancel their subscription.\".format(len(loyal_userIds.collect())))\n",
    "loyal_userIds.write.parquet(\"data/loyal_userIds.parquet\")"
   ]
  },
  {
   "cell_type": "markdown",
   "metadata": {},
   "source": [
    "### Explore Data\n",
    "\n",
    "After churn has been defined above, some exploratory data analysis is performed in order to observe the behaviour for users who stayed vs users who churned. The evaluation is based on building aggregates on these two groups of users in order to observe difference in their usage logs."
   ]
  },
  {
   "cell_type": "markdown",
   "metadata": {},
   "source": [
    "#### Gender of the user\n",
    "\n",
    "In the following it is evaluated whether the gender of a user shows correlation to the churn."
   ]
  },
  {
   "cell_type": "code",
   "execution_count": 20,
   "metadata": {},
   "outputs": [
    {
     "data": {
      "text/plain": [
       "<matplotlib.axes._subplots.AxesSubplot at 0x7fa560a987d0>"
      ]
     },
     "execution_count": 20,
     "metadata": {},
     "output_type": "execute_result"
    },
    {
     "data": {
      "image/png": "[encoded data removed]",
      "text/plain": [
       "<Figure size 432x288 with 1 Axes>"
      ]
     },
     "metadata": {
      "needs_background": "light"
     },
     "output_type": "display_data"
    }
   ],
   "source": [
    "gender_df = spark.sql(\"\"\"\n",
    "          SELECT churn, gender, COUNT(gender) as cnt\n",
    "          FROM (SELECT churn, userId, gender FROM df_table GROUP BY churn, userId, gender)\n",
    "          GROUP BY churn, gender\n",
    "          \"\"\")\n",
    "gender_df.write.parquet(\"data/gender_df.parquet\")\n",
    "\n",
    "sns.barplot(data=gender_df.toPandas(), x='churn', y='cnt', hue='gender')"
   ]
  },
  {
   "cell_type": "markdown",
   "metadata": {},
   "source": [
    "Even if it seems that the ratio of men is slightly higher among the users that churned, this could be caused by the small number of samples that actually churned."
   ]
  },
  {
   "cell_type": "markdown",
   "metadata": {},
   "source": [
    "#### Average length\n",
    "\n",
    "The `length` event is filled out for `NextSong` and indicates the length of the played song. The listening behaviour could carry information about whether a user might `churn` or not."
   ]
  },
  {
   "cell_type": "code",
   "execution_count": 21,
   "metadata": {},
   "outputs": [],
   "source": [
    "# Extract the average length for both groups\n",
    "lengths_df = spark.sql('''\n",
    "          SELECT userId, churn, avg(length) as avg_len\n",
    "          FROM df_table\n",
    "          GROUP BY userId, churn\n",
    "          ''')\n",
    "lengths_df.write.parquet(\"data/lengths_df.parquet\")"
   ]
  },
  {
   "cell_type": "code",
   "execution_count": 22,
   "metadata": {},
   "outputs": [
    {
     "data": {
      "image/png": "[encoded data removed]",
      "text/plain": [
       "<Figure size 432x216 with 2 Axes>"
      ]
     },
     "metadata": {
      "needs_background": "light"
     },
     "output_type": "display_data"
    }
   ],
   "source": [
    "# visualize the distribution of length between two groups of users\n",
    "g = sns.FacetGrid(lengths_df.toPandas(), col=\"churn\", sharey=False)\n",
    "g.map(plt.hist, \"avg_len\");"
   ]
  },
  {
   "cell_type": "markdown",
   "metadata": {},
   "source": [
    "Both distributions follow a different shape. Thus this feature will be included into the feature extraction process."
   ]
  },
  {
   "cell_type": "markdown",
   "metadata": {},
   "source": [
    "#### Items per session\n",
    "\n",
    "The items per session can carry information about how intensively a user interacts with the portal and also about the session length. This could also contribute to explain the `churn`."
   ]
  },
  {
   "cell_type": "code",
   "execution_count": 23,
   "metadata": {},
   "outputs": [],
   "source": [
    "# For each user for each session, extract the average number of items to Pandas\n",
    "items_per_sess_df = spark.sql('''\n",
    "          SELECT churn, userId, AVG(itemInSession) as avg\n",
    "          FROM df_table\n",
    "          GROUP BY churn, userId\n",
    "          ''')\n",
    "items_per_sess_df.write.parquet(\"data/items_per_sess_df.parquet\")"
   ]
  },
  {
   "cell_type": "code",
   "execution_count": 24,
   "metadata": {},
   "outputs": [
    {
     "data": {
      "image/png": "[encoded data removed]",
      "text/plain": [
       "<Figure size 432x216 with 2 Axes>"
      ]
     },
     "metadata": {
      "needs_background": "light"
     },
     "output_type": "display_data"
    }
   ],
   "source": [
    "# visualize the distribution of length between two groups of users\n",
    "g = sns.FacetGrid(items_per_sess_df.toPandas(), col=\"churn\", sharey=False)\n",
    "g.map(plt.hist, \"avg\");"
   ]
  },
  {
   "cell_type": "markdown",
   "metadata": {},
   "source": [
    "The distribution of average events is more skewed for users that churned, indicating that this feature also carries information about a potential `churn`."
   ]
  },
  {
   "cell_type": "markdown",
   "metadata": {},
   "source": [
    "#### Average sessions per day\n",
    "\n",
    "The average sessions per day is counted by dividing the overall session count of a given user by the number of days from the first event observed until the last event observed."
   ]
  },
  {
   "cell_type": "code",
   "execution_count": 25,
   "metadata": {},
   "outputs": [
    {
     "data": {
      "text/plain": [
       "<function __main__.<lambda>(x)>"
      ]
     },
     "execution_count": 25,
     "metadata": {},
     "output_type": "execute_result"
    }
   ],
   "source": [
    "to_days = udf(lambda x: datetime.timedelta(milliseconds=x).days, IntegerType())\n",
    "spark.udf.register(\"to_days\", to_days)"
   ]
  },
  {
   "cell_type": "code",
   "execution_count": 26,
   "metadata": {},
   "outputs": [],
   "source": [
    "# Add the feature for average sessions per day\n",
    "avg_sess_per_day = \"\"\"\n",
    "                   SELECT churn, userId, COUNT(DISTINCT sessionId) / (to_days(MAX(ts) - MIN(ts))+1) as avg_sess_p_day\n",
    "                   FROM df_table\n",
    "                   GROUP BY churn, userId\n",
    "                   \"\"\"\n",
    "avg_sess_p_day_df = spark.sql(avg_sess_per_day)\n",
    "avg_sess_p_day_df.write.parquet(\"data/avg_sess_p_day_df.parquet\")"
   ]
  },
  {
   "cell_type": "code",
   "execution_count": 27,
   "metadata": {},
   "outputs": [
    {
     "data": {
      "text/plain": [
       "<seaborn.axisgrid.FacetGrid at 0x7fa56078de90>"
      ]
     },
     "execution_count": 27,
     "metadata": {},
     "output_type": "execute_result"
    },
    {
     "data": {
      "image/png": "[encoded data removed]",
      "text/plain": [
       "<Figure size 432x216 with 2 Axes>"
      ]
     },
     "metadata": {
      "needs_background": "light"
     },
     "output_type": "display_data"
    }
   ],
   "source": [
    "import numpy as np\n",
    "bins = np.arange(0, 6, 1)\n",
    "\n",
    "g = sns.FacetGrid(data=avg_sess_p_day_df.toPandas(), col=\"churn\", sharey=False)\n",
    "g.map(plt.hist, \"avg_sess_p_day\", bins=bins)"
   ]
  },
  {
   "cell_type": "markdown",
   "metadata": {},
   "source": [
    "The distribution for churned users tends to have a fatter tail. It can be assumed that this feature also contributes to the classification process."
   ]
  },
  {
   "cell_type": "markdown",
   "metadata": {},
   "source": [
    "#### Daytime of service usage\n",
    "\n",
    "The daytime when the service is used might tell something about the potential of a user to churn. For example, users that frequently use the service in the evening might have a different churn rate than users that rather tend to use the service in the office or during lunch."
   ]
  },
  {
   "cell_type": "code",
   "execution_count": 28,
   "metadata": {},
   "outputs": [
    {
     "data": {
      "text/plain": [
       "<function __main__.<lambda>(x)>"
      ]
     },
     "execution_count": 28,
     "metadata": {},
     "output_type": "execute_result"
    }
   ],
   "source": [
    "to_hour = udf(lambda x: float(datetime.datetime.fromtimestamp(x / 1000.0).hour), FloatType())\n",
    "spark.udf.register(\"to_hour\", to_hour)"
   ]
  },
  {
   "cell_type": "code",
   "execution_count": 29,
   "metadata": {},
   "outputs": [],
   "source": [
    "# Add a column 'hour' to the data based on the timestamp 'ts'\n",
    "hours_augmented = spark.sql('''\n",
    "                   SELECT *, to_hour(ts) as hour\n",
    "                   FROM df_table\n",
    "                   ''')\n",
    "hours_augmented.createOrReplaceTempView(\"df_table_hours\")"
   ]
  },
  {
   "cell_type": "code",
   "execution_count": 30,
   "metadata": {},
   "outputs": [],
   "source": [
    "def get_bucket_percentage(table, time_col, uid_table):\n",
    "    \"\"\"\n",
    "    Returns a Pandas DataFrame which shows for a given user group \n",
    "    the percentage of actions during time bucket in column 'col'. This function\n",
    "    is used to compute the data for loyal and churned users seperately.\n",
    "    INPUT:\n",
    "        table (str): name of a table view that contains the 'time_col' column and a 'userId' colummn\n",
    "        time_col (str): name of the time column, i.e. 'weekday' or 'hour'\n",
    "        userId_list (str): name of a table that contain a column userId only.\n",
    "    OUTPUT:\n",
    "        Pandas DataFrame which shows the total number of events per time bucket for the given user group\n",
    "    \"\"\"\n",
    "    res = spark.sql(\"\"\"\n",
    "                    SELECT {time_col}, COUNT({time_col}) / (SELECT COUNT(*) FROM {table} WHERE userId IN (SELECT * FROM {uid_table})) as count \n",
    "                    FROM {table}  \n",
    "                    WHERE userId IN (SELECT * FROM {uid_table})\n",
    "                    GROUP BY {time_col}\n",
    "                    ORDER BY count DESC \n",
    "                    \"\"\".format(uid_table=uid_table, time_col=time_col, table=table))\n",
    "    res_pd = res.toPandas()\n",
    "    return res_pd"
   ]
  },
  {
   "cell_type": "code",
   "execution_count": 31,
   "metadata": {},
   "outputs": [],
   "source": [
    "loyal_hours_pd = get_bucket_percentage('df_table_hours', 'hour', 'loyal_userIds')\n",
    "churn_hours_pd = get_bucket_percentage('df_table_hours', 'hour', 'cancelled_userIds')"
   ]
  },
  {
   "cell_type": "code",
   "execution_count": 32,
   "metadata": {},
   "outputs": [],
   "source": [
    "loyal_hours_pd.to_parquet(\"data/loyal_hours_pd.parquet\")\n",
    "churn_hours_pd.to_parquet(\"data/churn_hours_pd.parquet\")"
   ]
  },
  {
   "cell_type": "code",
   "execution_count": 33,
   "metadata": {},
   "outputs": [
    {
     "data": {
      "image/png": "[encoded data removed]",
      "text/plain": [
       "<Figure size 432x288 with 1 Axes>"
      ]
     },
     "metadata": {
      "needs_background": "light"
     },
     "output_type": "display_data"
    }
   ],
   "source": [
    "ax = sns.lineplot(x='hour', y='count', data=loyal_hours_pd, label='Loyal Users')\n",
    "ax = sns.lineplot(x='hour', y='count', data=churn_hours_pd, label='Cancelled Users')\n",
    "plt.show()"
   ]
  },
  {
   "cell_type": "markdown",
   "metadata": {},
   "source": [
    "The data shows that `loyal` users are more active during the morning hours and `cancelled` users tend to have a relatively higher activity during the afternoon."
   ]
  },
  {
   "cell_type": "markdown",
   "metadata": {},
   "source": [
    "#### Weekday of service usage\n",
    "\n",
    "The weekday might also play a role to distinguish users that churn from loyal users. For example, users that tend to use the service during workdays might have a different probability to churn than users that use the service during the weekend."
   ]
  },
  {
   "cell_type": "code",
   "execution_count": 34,
   "metadata": {},
   "outputs": [
    {
     "data": {
      "text/plain": [
       "<function __main__.<lambda>(x)>"
      ]
     },
     "execution_count": 34,
     "metadata": {},
     "output_type": "execute_result"
    }
   ],
   "source": [
    "to_day = udf(lambda x: float(datetime.datetime.fromtimestamp(x / 1000.0).weekday()), FloatType())\n",
    "spark.udf.register(\"to_day\", to_day)"
   ]
  },
  {
   "cell_type": "code",
   "execution_count": 35,
   "metadata": {},
   "outputs": [],
   "source": [
    "# Add a column 'weekday' to the data based on the timestamp 'ts'\n",
    "weekdays_augmented = spark.sql('''\n",
    "                   SELECT *, to_day(ts) as weekday\n",
    "                   FROM df_table\n",
    "                   ''')\n",
    "weekdays_augmented.createOrReplaceTempView(\"df_table_weekdays\")"
   ]
  },
  {
   "cell_type": "code",
   "execution_count": 36,
   "metadata": {},
   "outputs": [],
   "source": [
    "loyal_weekdays_pd = get_bucket_percentage('df_table_weekdays', 'weekday', 'loyal_userIds')\n",
    "churn_weekdays_pd = get_bucket_percentage('df_table_weekdays', 'weekday', 'cancelled_userIds')"
   ]
  },
  {
   "cell_type": "code",
   "execution_count": 37,
   "metadata": {},
   "outputs": [],
   "source": [
    "loyal_weekdays_pd.to_parquet(\"loyal_weekdays_pd.parquet\")\n",
    "churn_weekdays_pd.to_parquet(\"churn_weekdays_pd.parquet\")"
   ]
  },
  {
   "cell_type": "code",
   "execution_count": 38,
   "metadata": {},
   "outputs": [
    {
     "data": {
      "image/png": "[encoded data removed]",
      "text/plain": [
       "<Figure size 432x288 with 1 Axes>"
      ]
     },
     "metadata": {
      "needs_background": "light"
     },
     "output_type": "display_data"
    }
   ],
   "source": [
    "ax = sns.lineplot(x='weekday', y='count', data=loyal_weekdays_pd, label='Loyal Users')\n",
    "ax = sns.lineplot(x='weekday', y='count', data=churn_weekdays_pd, label='Cancelled Users')\n",
    "plt.show()"
   ]
  },
  {
   "cell_type": "markdown",
   "metadata": {},
   "source": [
    "The percentage of usage follows a very similar line, however, cancelled users tend to listen more on Thursday and Friday, while loyal users tend to listen more on Sunday."
   ]
  },
  {
   "cell_type": "markdown",
   "metadata": {},
   "source": [
    "#### User system distribution\n",
    "\n",
    "The type of user agent could play a role with regards to the churn rage, for example if the experience on a smartphone device is worse than on other devices. "
   ]
  },
  {
   "cell_type": "code",
   "execution_count": 39,
   "metadata": {},
   "outputs": [],
   "source": [
    "# Compute the most frequently used system for each user\n",
    "pref_user_system_tbl = spark.sql(\"\"\"\n",
    "                            SELECT churn, userId, MAX(userSystem) as pref_user_system\n",
    "                            FROM df_table\n",
    "                            GROUP BY churn, userId\n",
    "                            \"\"\")\n",
    "pref_user_system_tbl.createOrReplaceTempView(\"pref_user_system_tbl\")"
   ]
  },
  {
   "cell_type": "code",
   "execution_count": 40,
   "metadata": {},
   "outputs": [],
   "source": [
    "# For each useer group, for each system, count the number of users\n",
    "agg_user_system = spark.sql(\"\"\"\n",
    "                            SELECT churn, pref_user_system, \n",
    "                            COUNT(*) as cnt\n",
    "                            FROM pref_user_system_tbl\n",
    "                            GROUP BY churn, pref_user_system\n",
    "                            \"\"\")\n",
    "agg_user_system.createOrReplaceTempView(\"agg_user_system\")"
   ]
  },
  {
   "cell_type": "code",
   "execution_count": 41,
   "metadata": {},
   "outputs": [],
   "source": [
    "# Normalize the user count for each system by the overall number of users in that user group\n",
    "user_system_perc_df = spark.sql(\"\"\"\n",
    "          SELECT churn, pref_user_system, cnt / SUM(cnt) OVER (PARTITION BY churn) as percentage\n",
    "          FROM agg_user_system\n",
    "          \"\"\")\n",
    "\n",
    "user_system_perc_df.write.parquet(\"data/user_system_perc_df.parquet\")"
   ]
  },
  {
   "cell_type": "code",
   "execution_count": 42,
   "metadata": {},
   "outputs": [
    {
     "data": {
      "image/png": "[encoded data removed]",
      "text/plain": [
       "<Figure size 1440x288 with 1 Axes>"
      ]
     },
     "metadata": {
      "needs_background": "light"
     },
     "output_type": "display_data"
    }
   ],
   "source": [
    "fig = plt.figure(figsize=(20,4))\n",
    "ax = sns.barplot(x=\"pref_user_system\", y=\"percentage\", hue=\"churn\", data=user_system_perc_df.toPandas())"
   ]
  },
  {
   "cell_type": "markdown",
   "metadata": {},
   "source": [
    "Loyal users tend to use the iPad, iPad, MacOS, Windows NT 6.1 and compatible more often than users that cancelled. Probably the user experience is better than the desktop app, or people prefer to listen to music en route."
   ]
  },
  {
   "cell_type": "markdown",
   "metadata": {},
   "source": [
    "#### Length of the trace\n",
    "\n",
    "The length of the trace helps to undertand the data. The idea is to compare the first and last timestamp of each user."
   ]
  },
  {
   "cell_type": "code",
   "execution_count": 43,
   "metadata": {},
   "outputs": [],
   "source": [
    "# Calculate the account lifetime in days\n",
    "lifetimes = spark.sql('''\n",
    "                      SELECT churn, userId, to_days(MAX(ts) - MIN(ts)) as lifetime\n",
    "                      FROM df_table\n",
    "                      GROUP BY churn, userId\n",
    "                      ''')\n",
    "lifetimes.createOrReplaceTempView(\"lifetime_table\")\n",
    "lifetimes.write.parquet(\"data/lifetimes.parquet\")"
   ]
  },
  {
   "cell_type": "markdown",
   "metadata": {},
   "source": [
    "Plot the distribution of account ages (account lifetime):"
   ]
  },
  {
   "cell_type": "code",
   "execution_count": 44,
   "metadata": {},
   "outputs": [
    {
     "data": {
      "text/plain": [
       "<seaborn.axisgrid.FacetGrid at 0x7fa538a38c90>"
      ]
     },
     "execution_count": 44,
     "metadata": {},
     "output_type": "execute_result"
    },
    {
     "data": {
      "image/png": "[encoded data removed]",
      "text/plain": [
       "<Figure size 432x216 with 2 Axes>"
      ]
     },
     "metadata": {
      "needs_background": "light"
     },
     "output_type": "display_data"
    }
   ],
   "source": [
    "g = sns.FacetGrid(lifetimes.toPandas(), col='churn')\n",
    "g.map(plt.hist, 'lifetime', density=True)"
   ]
  },
  {
   "cell_type": "code",
   "execution_count": 45,
   "metadata": {},
   "outputs": [],
   "source": [
    "agg_lifetimes = spark.sql(\"\"\"\n",
    "          SELECT churn,\n",
    "                 AVG(lifetime) as avg,\n",
    "                 MIN(lifetime) as min,\n",
    "                 MAX(lifetime) as max\n",
    "          FROM lifetime_table\n",
    "          GROUP BY churn\n",
    "          \"\"\")\n",
    "agg_lifetimes.createOrReplaceTempView(\"agg_lifetimes\")\n",
    "agg_lifetimes.write.parquet(\"data/agg_lifetimes.parquet\")"
   ]
  },
  {
   "cell_type": "code",
   "execution_count": 46,
   "metadata": {},
   "outputs": [
    {
     "data": {
      "text/html": [
       "<div>\n",
       "<style scoped>\n",
       "    .dataframe tbody tr th:only-of-type {\n",
       "        vertical-align: middle;\n",
       "    }\n",
       "\n",
       "    .dataframe tbody tr th {\n",
       "        vertical-align: top;\n",
       "    }\n",
       "\n",
       "    .dataframe thead th {\n",
       "        text-align: right;\n",
       "    }\n",
       "</style>\n",
       "<table border=\"1\" class=\"dataframe\">\n",
       "  <thead>\n",
       "    <tr style=\"text-align: right;\">\n",
       "      <th></th>\n",
       "      <th>churn</th>\n",
       "      <th>avg</th>\n",
       "      <th>min</th>\n",
       "      <th>max</th>\n",
       "    </tr>\n",
       "  </thead>\n",
       "  <tbody>\n",
       "    <tr>\n",
       "      <th>0</th>\n",
       "      <td>0</td>\n",
       "      <td>46.520231</td>\n",
       "      <td>0</td>\n",
       "      <td>60</td>\n",
       "    </tr>\n",
       "    <tr>\n",
       "      <th>1</th>\n",
       "      <td>1</td>\n",
       "      <td>23.134615</td>\n",
       "      <td>0</td>\n",
       "      <td>58</td>\n",
       "    </tr>\n",
       "  </tbody>\n",
       "</table>\n",
       "</div>"
      ],
      "text/plain": [
       "   churn        avg  min  max\n",
       "0      0  46.520231    0   60\n",
       "1      1  23.134615    0   58"
      ]
     },
     "execution_count": 46,
     "metadata": {},
     "output_type": "execute_result"
    }
   ],
   "source": [
    "agg_lifetimes.toPandas()"
   ]
  },
  {
   "cell_type": "markdown",
   "metadata": {},
   "source": [
    "It seems that the cancellation of accounts is uniformely distributed over the lifetime of the account. However, when an account reaches a certain age of e.g. 60 days, it might carry information whether the user will cancel the subscription."
   ]
  },
  {
   "cell_type": "markdown",
   "metadata": {},
   "source": [
    "#### Average session duration\n",
    "\n",
    "It can be assumed that the length of a session depends on the degree of satisfaction with the music service. This is evaluated by analyzing the quartiles of the session length of both user groups.\n",
    "\n",
    "Sessions have a unique `sessionId`. The strategy is to group by `userId` and then for each `userId`, we group by `sessionId`. Within each session group, the timedelta between the first and the last timestamp describes the session duration. This duration is converted to seconds by a `udf`."
   ]
  },
  {
   "cell_type": "code",
   "execution_count": 47,
   "metadata": {},
   "outputs": [
    {
     "data": {
      "text/plain": [
       "<function __main__.<lambda>(x)>"
      ]
     },
     "execution_count": 47,
     "metadata": {},
     "output_type": "execute_result"
    }
   ],
   "source": [
    "to_minutes = udf(lambda x: int(datetime.timedelta(milliseconds=x).seconds/60.), IntegerType())\n",
    "spark.udf.register(\"to_minutes\", to_minutes)"
   ]
  },
  {
   "cell_type": "markdown",
   "metadata": {},
   "source": [
    "First, the duration of each session is computed and stored in a temp view:"
   ]
  },
  {
   "cell_type": "code",
   "execution_count": 48,
   "metadata": {},
   "outputs": [],
   "source": [
    "session_lengths = spark.sql('''\n",
    "                              SELECT churn, userId, sessionId, to_minutes(MAX(ts)-MIN(ts)) as session_duration\n",
    "                              FROM df_table\n",
    "                              GROUP BY churn, userId, sessionId\n",
    "                              ORDER BY userId ASC, MIN(ts) ASC\n",
    "                              ''')\n",
    "session_lengths.createOrReplaceTempView(\"session_lengths\")\n",
    "session_lengths.write.parquet(\"data/session_lengths.parquet\")"
   ]
  },
  {
   "cell_type": "markdown",
   "metadata": {},
   "source": [
    "Based on this DataFrame, the average session duration for each user group can be analyzed:"
   ]
  },
  {
   "cell_type": "code",
   "execution_count": 49,
   "metadata": {},
   "outputs": [
    {
     "data": {
      "text/plain": [
       "<seaborn.axisgrid.FacetGrid at 0x7fa538a3f150>"
      ]
     },
     "execution_count": 49,
     "metadata": {},
     "output_type": "execute_result"
    },
    {
     "data": {
      "image/png": "[encoded data removed]",
      "text/plain": [
       "<Figure size 432x216 with 2 Axes>"
      ]
     },
     "metadata": {
      "needs_background": "light"
     },
     "output_type": "display_data"
    }
   ],
   "source": [
    "g = sns.FacetGrid(session_lengths.toPandas(), col='churn')\n",
    "g.map(plt.hist, 'session_duration', density=True)"
   ]
  },
  {
   "cell_type": "markdown",
   "metadata": {},
   "source": [
    "The distribution of session duration for churned users on the smaller test data has a stronger positive skew."
   ]
  },
  {
   "cell_type": "markdown",
   "metadata": {},
   "source": [
    "Based on this, the average, minimum and maximum session length for each user is calculated:"
   ]
  },
  {
   "cell_type": "code",
   "execution_count": 50,
   "metadata": {},
   "outputs": [],
   "source": [
    "agg_session_lengths = spark.sql(\"\"\"\n",
    "          SELECT churn, userId,\n",
    "                 AVG(session_duration) as avg,\n",
    "                 MIN(session_duration) as min,\n",
    "                 MAX(session_duration) as max\n",
    "          FROM session_lengths\n",
    "          GROUP BY churn, userId\n",
    "          \"\"\")\n",
    "agg_session_lengths.createOrReplaceTempView(\"agg_session_lengths\")\n",
    "agg_session_lengths.write.parquet(\"data/agg_session_lengths.parquet\")"
   ]
  },
  {
   "cell_type": "markdown",
   "metadata": {},
   "source": [
    "The data is converted to Pandas and melted, in order to be able to create a seaborn plot:"
   ]
  },
  {
   "cell_type": "code",
   "execution_count": 51,
   "metadata": {},
   "outputs": [
    {
     "data": {
      "text/plain": [
       "<seaborn.axisgrid.FacetGrid at 0x7fa538972390>"
      ]
     },
     "execution_count": 51,
     "metadata": {},
     "output_type": "execute_result"
    },
    {
     "data": {
      "image/png": "[encoded data removed]",
      "text/plain": [
       "<Figure size 648x432 with 6 Axes>"
      ]
     },
     "metadata": {
      "needs_background": "light"
     },
     "output_type": "display_data"
    }
   ],
   "source": [
    "agg_session_lengths_pd = agg_session_lengths.toPandas()\n",
    "agg_session_lengths_pd_melted = agg_session_lengths_pd.melt(id_vars=['churn', 'userId'])\n",
    "g = sns.FacetGrid(agg_session_lengths_pd_melted, col='variable', row='churn')\n",
    "g.map(plt.hist, 'value', density=True)"
   ]
  },
  {
   "cell_type": "markdown",
   "metadata": {},
   "source": [
    "The upper row shows the average, minimum and maximum session duration for loyal users. The lower row shows these values for churned users. "
   ]
  },
  {
   "cell_type": "markdown",
   "metadata": {},
   "source": [
    "The distribution of listening times shows that for 50% of the user base, the group of cancelled users tends to longer session durations. However, the 9-tile shows that loyal users seem to prefer longer listening sessions.\n",
    "\n",
    "The n-tile distribution of the session lengths for a given user could be a relevant feature to classify the user as `churn`."
   ]
  },
  {
   "cell_type": "markdown",
   "metadata": {},
   "source": [
    "#### Payment level\n",
    "\n",
    "Users change the payment plan over time. The up- or downgrade could give an indication about a likelihood of cancellation. For example, the downgrade to a free usage could be a first indication that the user might delete his account."
   ]
  },
  {
   "cell_type": "code",
   "execution_count": 52,
   "metadata": {},
   "outputs": [],
   "source": [
    "up_down_grades = spark.sql('''\n",
    "                  SELECT *, \n",
    "                      CASE WHEN page = 'Submit Upgrade' THEN 1 ELSE 0 END as upgrade_event,\n",
    "                      CASE WHEN page = 'Submit Downgrade' THEN 1 ELSE 0 END as downgrade_event\n",
    "                  FROM df_table\n",
    "                  ''')\n",
    "up_down_grades.createOrReplaceTempView('up_down_grades')"
   ]
  },
  {
   "cell_type": "code",
   "execution_count": 53,
   "metadata": {},
   "outputs": [],
   "source": [
    "# cumulative sum over the churn column to detect phases\n",
    "num_up_down_grades = spark.sql('''\n",
    "          SELECT *,\n",
    "              SUM(upgrade_event) OVER (PARTITION BY userId) as num_upgrades,\n",
    "              SUM(downgrade_event) OVER (PARTITION BY userId) as num_downgrades\n",
    "          FROM up_down_grades\n",
    "          ''')\n",
    "num_up_down_grades.createOrReplaceTempView(\"num_up_down_grades\")"
   ]
  },
  {
   "cell_type": "code",
   "execution_count": 54,
   "metadata": {},
   "outputs": [],
   "source": [
    "up_downgrades_pd = spark.sql(\"\"\"\n",
    "                      SELECT churn, userId, \n",
    "                              MAX(num_upgrades) as num_upgrades, \n",
    "                              MAX(num_downgrades) as num_downgrades\n",
    "                      FROM num_up_down_grades\n",
    "                      GROUP BY churn, userId\n",
    "                      \"\"\").toPandas()"
   ]
  },
  {
   "cell_type": "code",
   "execution_count": 55,
   "metadata": {},
   "outputs": [
    {
     "data": {
      "text/html": [
       "<div>\n",
       "<style scoped>\n",
       "    .dataframe tbody tr th:only-of-type {\n",
       "        vertical-align: middle;\n",
       "    }\n",
       "\n",
       "    .dataframe tbody tr th {\n",
       "        vertical-align: top;\n",
       "    }\n",
       "\n",
       "    .dataframe thead th {\n",
       "        text-align: right;\n",
       "    }\n",
       "</style>\n",
       "<table border=\"1\" class=\"dataframe\">\n",
       "  <thead>\n",
       "    <tr style=\"text-align: right;\">\n",
       "      <th></th>\n",
       "      <th>churn</th>\n",
       "      <th>userId</th>\n",
       "      <th>variable</th>\n",
       "      <th>value</th>\n",
       "    </tr>\n",
       "  </thead>\n",
       "  <tbody>\n",
       "    <tr>\n",
       "      <th>0</th>\n",
       "      <td>0</td>\n",
       "      <td>100010</td>\n",
       "      <td>num_upgrades</td>\n",
       "      <td>0</td>\n",
       "    </tr>\n",
       "    <tr>\n",
       "      <th>1</th>\n",
       "      <td>0</td>\n",
       "      <td>200002</td>\n",
       "      <td>num_upgrades</td>\n",
       "      <td>1</td>\n",
       "    </tr>\n",
       "    <tr>\n",
       "      <th>2</th>\n",
       "      <td>1</td>\n",
       "      <td>125</td>\n",
       "      <td>num_upgrades</td>\n",
       "      <td>0</td>\n",
       "    </tr>\n",
       "    <tr>\n",
       "      <th>3</th>\n",
       "      <td>0</td>\n",
       "      <td>124</td>\n",
       "      <td>num_upgrades</td>\n",
       "      <td>0</td>\n",
       "    </tr>\n",
       "    <tr>\n",
       "      <th>4</th>\n",
       "      <td>1</td>\n",
       "      <td>51</td>\n",
       "      <td>num_upgrades</td>\n",
       "      <td>0</td>\n",
       "    </tr>\n",
       "    <tr>\n",
       "      <th>...</th>\n",
       "      <td>...</td>\n",
       "      <td>...</td>\n",
       "      <td>...</td>\n",
       "      <td>...</td>\n",
       "    </tr>\n",
       "    <tr>\n",
       "      <th>445</th>\n",
       "      <td>0</td>\n",
       "      <td>45</td>\n",
       "      <td>num_downgrades</td>\n",
       "      <td>0</td>\n",
       "    </tr>\n",
       "    <tr>\n",
       "      <th>446</th>\n",
       "      <td>0</td>\n",
       "      <td>57</td>\n",
       "      <td>num_downgrades</td>\n",
       "      <td>0</td>\n",
       "    </tr>\n",
       "    <tr>\n",
       "      <th>447</th>\n",
       "      <td>1</td>\n",
       "      <td>200021</td>\n",
       "      <td>num_downgrades</td>\n",
       "      <td>0</td>\n",
       "    </tr>\n",
       "    <tr>\n",
       "      <th>448</th>\n",
       "      <td>0</td>\n",
       "      <td>119</td>\n",
       "      <td>num_downgrades</td>\n",
       "      <td>0</td>\n",
       "    </tr>\n",
       "    <tr>\n",
       "      <th>449</th>\n",
       "      <td>1</td>\n",
       "      <td>100001</td>\n",
       "      <td>num_downgrades</td>\n",
       "      <td>0</td>\n",
       "    </tr>\n",
       "  </tbody>\n",
       "</table>\n",
       "<p>450 rows × 4 columns</p>\n",
       "</div>"
      ],
      "text/plain": [
       "     churn  userId        variable  value\n",
       "0        0  100010    num_upgrades      0\n",
       "1        0  200002    num_upgrades      1\n",
       "2        1     125    num_upgrades      0\n",
       "3        0     124    num_upgrades      0\n",
       "4        1      51    num_upgrades      0\n",
       "..     ...     ...             ...    ...\n",
       "445      0      45  num_downgrades      0\n",
       "446      0      57  num_downgrades      0\n",
       "447      1  200021  num_downgrades      0\n",
       "448      0     119  num_downgrades      0\n",
       "449      1  100001  num_downgrades      0\n",
       "\n",
       "[450 rows x 4 columns]"
      ]
     },
     "execution_count": 55,
     "metadata": {},
     "output_type": "execute_result"
    }
   ],
   "source": [
    "up_downgrades_pd.melt(id_vars=['churn', 'userId'])"
   ]
  },
  {
   "cell_type": "code",
   "execution_count": 56,
   "metadata": {},
   "outputs": [
    {
     "data": {
      "text/plain": [
       "<seaborn.axisgrid.FacetGrid at 0x7fa56079cdd0>"
      ]
     },
     "execution_count": 56,
     "metadata": {},
     "output_type": "execute_result"
    },
    {
     "data": {
      "image/png": "[encoded data removed]",
      "text/plain": [
       "<Figure size 432x432 with 4 Axes>"
      ]
     },
     "metadata": {
      "needs_background": "light"
     },
     "output_type": "display_data"
    }
   ],
   "source": [
    "g = sns.FacetGrid(up_downgrades_pd.melt(id_vars=['churn', 'userId']), col='variable', row='churn')\n",
    "g.map(plt.hist, 'value', density=True)"
   ]
  },
  {
   "cell_type": "markdown",
   "metadata": {},
   "source": [
    "The left column compares the number of upgrades for both user groups. The up- and downgrade distribution looks similar for both groups"
   ]
  },
  {
   "cell_type": "code",
   "execution_count": 57,
   "metadata": {},
   "outputs": [],
   "source": [
    "cncl_payment_dist_pd = spark.sql(\"\"\"\n",
    "                                  SELECT churn, level, COUNT(level)\n",
    "                                  FROM df_table\n",
    "                                  WHERE page = 'Cancellation Confirmation'\n",
    "                                  GROUP BY churn, level\n",
    "                                  \"\"\").toPandas()"
   ]
  },
  {
   "cell_type": "code",
   "execution_count": 58,
   "metadata": {},
   "outputs": [
    {
     "data": {
      "text/html": [
       "<div>\n",
       "<style scoped>\n",
       "    .dataframe tbody tr th:only-of-type {\n",
       "        vertical-align: middle;\n",
       "    }\n",
       "\n",
       "    .dataframe tbody tr th {\n",
       "        vertical-align: top;\n",
       "    }\n",
       "\n",
       "    .dataframe thead th {\n",
       "        text-align: right;\n",
       "    }\n",
       "</style>\n",
       "<table border=\"1\" class=\"dataframe\">\n",
       "  <thead>\n",
       "    <tr style=\"text-align: right;\">\n",
       "      <th></th>\n",
       "      <th>churn</th>\n",
       "      <th>level</th>\n",
       "      <th>count(level)</th>\n",
       "    </tr>\n",
       "  </thead>\n",
       "  <tbody>\n",
       "    <tr>\n",
       "      <th>0</th>\n",
       "      <td>1</td>\n",
       "      <td>paid</td>\n",
       "      <td>31</td>\n",
       "    </tr>\n",
       "    <tr>\n",
       "      <th>1</th>\n",
       "      <td>1</td>\n",
       "      <td>free</td>\n",
       "      <td>21</td>\n",
       "    </tr>\n",
       "  </tbody>\n",
       "</table>\n",
       "</div>"
      ],
      "text/plain": [
       "   churn level  count(level)\n",
       "0      1  paid            31\n",
       "1      1  free            21"
      ]
     },
     "execution_count": 58,
     "metadata": {},
     "output_type": "execute_result"
    }
   ],
   "source": [
    "cncl_payment_dist_pd"
   ]
  },
  {
   "cell_type": "markdown",
   "metadata": {},
   "source": [
    "#### Average Click-count of pages per session\n",
    "\n",
    "It can be assumed that loyal users tend to have a different click pattern than users that cancelled. For that, for each page, the average click count over all sessions of a given user group is calculated."
   ]
  },
  {
   "cell_type": "code",
   "execution_count": 59,
   "metadata": {},
   "outputs": [
    {
     "data": {
      "text/plain": [
       "<function __main__.<lambda>(x)>"
      ]
     },
     "execution_count": 59,
     "metadata": {},
     "output_type": "execute_result"
    }
   ],
   "source": [
    "to_month = udf(lambda x: float(datetime.datetime.fromtimestamp(x / 1000.0).month), FloatType())\n",
    "spark.udf.register(\"to_month\", to_month)"
   ]
  },
  {
   "cell_type": "code",
   "execution_count": 60,
   "metadata": {},
   "outputs": [],
   "source": [
    "# Aggregate the count for each page in each session\n",
    "pages_per_session = spark.sql(\"\"\"\n",
    "                              SELECT churn, userId, sessionId, page, COUNT(page) as cnt, to_month(AVG(ts)) as month\n",
    "                              FROM df_table\n",
    "                              GROUP BY churn, userId, sessionId, page\n",
    "                              \"\"\")\n",
    "pages_per_session.createOrReplaceTempView(\"pages_per_session\")"
   ]
  },
  {
   "cell_type": "code",
   "execution_count": 61,
   "metadata": {},
   "outputs": [],
   "source": [
    "# Average page counts per user per month\n",
    "tmp = spark.sql(\"\"\"\n",
    "          SELECT churn, userId, page, month, AVG(cnt) as avg_cnt\n",
    "          FROM pages_per_session\n",
    "          GROUP BY churn, userId, page, month\n",
    "          \"\"\")\n",
    "tmp.createOrReplaceTempView(\"tmp\")"
   ]
  },
  {
   "cell_type": "code",
   "execution_count": 62,
   "metadata": {},
   "outputs": [],
   "source": [
    "# Average page counts per user over all months\n",
    "tmp2 = spark.sql(\"\"\"\n",
    "          SELECT churn, userId, page, AVG(avg_cnt) as avg_mhly_cnt\n",
    "          FROM tmp\n",
    "          WHERE page <> \"NextSong\"\n",
    "          GROUP BY churn, userId, page\n",
    "          \"\"\")\n",
    "tmp2.createOrReplaceTempView(\"tmp2\")\n",
    "tmp2.write.parquet(\"data/avg_page_click_counts.parquet\")"
   ]
  },
  {
   "cell_type": "code",
   "execution_count": 63,
   "metadata": {},
   "outputs": [
    {
     "data": {
      "image/png": "[encoded data removed]",
      "text/plain": [
       "<Figure size 1440x288 with 1 Axes>"
      ]
     },
     "metadata": {
      "needs_background": "light"
     },
     "output_type": "display_data"
    }
   ],
   "source": [
    "fig = plt.figure(figsize=(20,4))\n",
    "ax = sns.barplot(x=\"page\", y=\"avg_mhly_cnt\", hue=\"churn\", data=tmp2.toPandas())\n",
    "plt.xticks(\n",
    "    rotation=45, \n",
    "    horizontalalignment='right' \n",
    ")\n",
    "plt.show()"
   ]
  },
  {
   "cell_type": "markdown",
   "metadata": {},
   "source": [
    "The average monthly click count for `NextSong` is not shown in this overview, as it is several times larger."
   ]
  },
  {
   "cell_type": "markdown",
   "metadata": {},
   "source": [
    "# Feature Engineering\n",
    "\n",
    "In the following, the features are built out that seem promising to train the model on. The processing steps are stored in an external script. Basically, the following features are extracted\n",
    "\n",
    "- Average sessions per day\n",
    "- Average song length\n",
    "- Average items per session\n",
    "- Account age\n",
    "- Average session duration\n",
    "- Prefered user system as dummy variables\n",
    "- The average click rate per session for each of the possible pages, except 'Cancellation Confirmation'"
   ]
  },
  {
   "cell_type": "code",
   "execution_count": 64,
   "metadata": {},
   "outputs": [],
   "source": [
    "%load_ext autoreload\n",
    "%autoreload 2\n",
    "\n",
    "from src.ml_features import feature_extraction_pipe\n",
    "features_df = feature_extraction_pipe(spark)\n",
    "features_df.write.parquet(\"data/features_df.parquet\")"
   ]
  },
  {
   "cell_type": "markdown",
   "metadata": {},
   "source": [
    "The script generated the following columns:"
   ]
  },
  {
   "cell_type": "code",
   "execution_count": 65,
   "metadata": {
    "scrolled": false
   },
   "outputs": [
    {
     "data": {
      "text/plain": [
       "['userId',\n",
       " 'churn',\n",
       " 'avg_sess_p_day',\n",
       " 'avg_length',\n",
       " 'avg_items_p_sess',\n",
       " 'acc_age',\n",
       " 'avg_sess_len',\n",
       " 'bin_gender',\n",
       " 'pref_user_system',\n",
       " 'pref_user_system_ind',\n",
       " 'pref_user_system_ohe',\n",
       " 'About',\n",
       " 'Add_Friend',\n",
       " 'Add_to_Playlist',\n",
       " 'Cancel',\n",
       " 'Downgrade',\n",
       " 'Error',\n",
       " 'Help',\n",
       " 'Home',\n",
       " 'Logout',\n",
       " 'NextSong',\n",
       " 'Roll_Advert',\n",
       " 'Save_Settings',\n",
       " 'Settings',\n",
       " 'Submit_Downgrade',\n",
       " 'Submit_Upgrade',\n",
       " 'Thumbs_Down',\n",
       " 'Thumbs_Up',\n",
       " 'Upgrade']"
      ]
     },
     "execution_count": 65,
     "metadata": {},
     "output_type": "execute_result"
    }
   ],
   "source": [
    "features_df.columns"
   ]
  },
  {
   "cell_type": "markdown",
   "metadata": {},
   "source": [
    "The resulting DataFrame has the following shape:"
   ]
  },
  {
   "cell_type": "code",
   "execution_count": 66,
   "metadata": {},
   "outputs": [
    {
     "name": "stdout",
     "output_type": "stream",
     "text": [
      "225 29\n"
     ]
    }
   ],
   "source": [
    "print(features_df.count(), len(features_df.columns))"
   ]
  },
  {
   "cell_type": "markdown",
   "metadata": {},
   "source": [
    "#### Handling imbalanced classes\n",
    "\n",
    "The `churn` is highly imbalanced over the provided samples, as the number of loyal users is more than 3 times higher than the number of cancelling users:"
   ]
  },
  {
   "cell_type": "code",
   "execution_count": 67,
   "metadata": {},
   "outputs": [
    {
     "data": {
      "text/plain": [
       "<matplotlib.axes._subplots.AxesSubplot at 0x7fa5384cc210>"
      ]
     },
     "execution_count": 67,
     "metadata": {},
     "output_type": "execute_result"
    },
    {
     "data": {
      "image/png": "[encoded data removed]",
      "text/plain": [
       "<Figure size 432x288 with 1 Axes>"
      ]
     },
     "metadata": {
      "needs_background": "light"
     },
     "output_type": "display_data"
    }
   ],
   "source": [
    "spark.sql(\"SELECT churn, COUNT(*) as count FROM features_df GROUP BY churn\").toPandas().plot.bar(x='churn')"
   ]
  },
  {
   "cell_type": "markdown",
   "metadata": {},
   "source": [
    "In order to avoid a bias in the classifier, according measures need to be applied. Following choices are considered:\n",
    "- Define a column `weightCol`, available after Spark 3.0.0\n",
    "- Up- or Down-sample the classes\n",
    "\n",
    "As at the time of writing no Docker image for Spark 3.0.0 was available, the approach of up- sampling is applied."
   ]
  },
  {
   "cell_type": "markdown",
   "metadata": {},
   "source": [
    "##### Up-sampling underrepresented classes\n",
    "\n",
    "In order to balance the classses, the positive (`churn` = 1) examples are all used, and the set of negative examples is down-sampled according to the ratio of negative to positive samples."
   ]
  },
  {
   "cell_type": "code",
   "execution_count": 68,
   "metadata": {},
   "outputs": [],
   "source": [
    "features_df.createOrReplaceTempView(\"features_df\")"
   ]
  },
  {
   "cell_type": "code",
   "execution_count": 69,
   "metadata": {},
   "outputs": [
    {
     "name": "stdout",
     "output_type": "stream",
     "text": [
      "churn_neg_cnt 173\n",
      "churn_pos_cnt 52\n"
     ]
    }
   ],
   "source": [
    "# Extract positive and negative samples\n",
    "churn_neg_samples = features_df.filter(features_df.churn == 0)\n",
    "churn_pos_samples = features_df.filter(features_df.churn == 1)\n",
    "\n",
    "# Compute counts of both sets\n",
    "churn_neg_cnt = churn_neg_samples.count()\n",
    "churn_pos_cnt = churn_pos_samples.count()\n",
    "print(\"churn_neg_cnt\",churn_neg_cnt)\n",
    "print(\"churn_pos_cnt\",churn_pos_cnt)"
   ]
  },
  {
   "cell_type": "code",
   "execution_count": 70,
   "metadata": {},
   "outputs": [],
   "source": [
    "# Ratio of positive examples\n",
    "pos_ratio = (float(churn_pos_cnt) / (churn_neg_cnt))"
   ]
  },
  {
   "cell_type": "code",
   "execution_count": 71,
   "metadata": {},
   "outputs": [],
   "source": [
    "# Perform the sub-sampling of negative examples\n",
    "sampled = churn_neg_samples.sample(False, pos_ratio)"
   ]
  },
  {
   "cell_type": "code",
   "execution_count": 72,
   "metadata": {},
   "outputs": [],
   "source": [
    "# Union sub-sampled negative examples with positive examples\n",
    "features_df_bal = sampled.union(churn_pos_samples)"
   ]
  },
  {
   "cell_type": "code",
   "execution_count": 73,
   "metadata": {},
   "outputs": [
    {
     "data": {
      "text/plain": [
       "55"
      ]
     },
     "execution_count": 73,
     "metadata": {},
     "output_type": "execute_result"
    }
   ],
   "source": [
    "# Verify the new number of negative examples\n",
    "features_df_bal.filter(features_df_bal.churn == 0).count()"
   ]
  },
  {
   "cell_type": "markdown",
   "metadata": {},
   "source": [
    "# Modeling\n",
    "\n",
    "Before the machine learning model can be selected and trained, the right performance measure for our Sparkify problem needs to be defined:\n",
    "- Precision: `TP / (TP + FP)` - describes the percentage, when a reported cancelling user really was a cancelling user.\n",
    "- Recall: `TP / (TP + FN)` - describes the percentage of cancelling users that were correctly detected.\n",
    "- F1: Harmonic mean between Precision and Recall. Favors such models that have a balanced ratio of Precision and Recall.\n",
    "\n",
    "In this project, the output of the classificator will be used to place discounts to users in order to avoid their cancellation. The right tradeoff between precision and recall decides between loosing revenue by granting unnecessary discounts or loosing revenue by not properly care for users that might cancel soon.\n",
    "\n",
    "In case the classifier is tuned to a high recall and low precision, Sparkify would make sure that most of the potentially cancelling users get a discount and probably keep them as users. However, the Sparkify company would waste money due to the low precision, as loyal users are classified as cancelling users more often.\n",
    "\n",
    "If the classifier is tuned to a low recall and high precision, the Sparkify streaming service could probably miss the timely discount for cancelling users, leading to higher cancellation rates. On the other side, the expenses for unnecessary discounts are reduced, as the detections of cancelling users are more precise.\n",
    "\n",
    "The final decision largely depends on the pricing model of the company. What discount is needed to convince a customer to stay loyal? What is the monthly revenue generated by a loyal users? These numbers need to be considered when defining the correct threshold. As these details are not clear, in the following, the models are trained to get a balanced recall and precision ratio, thus the `F1` score is used.\n",
    "\n",
    "First, the data set is split into two parts, a `train_test` set, that is used for 3-fold cross-validation, and a `validation` set. The following models are evaluated:\n",
    "\n",
    "- Linear Support Vector Machine\n",
    "- Naive Bayes\n",
    "- Logistic Regression\n",
    "- Random Forest\n",
    "\n",
    "The single models are tuned based on a parameter grid-search and optimized against their `f1` score. The models are evaluated according to the `f1` score and their `accuracy`. The winning model is finally applied to the `validation` set.\n",
    "\n",
    "For better readability, the code for each model is outsourced to the `src/` subfolder within this repository.\n",
    "\n",
    "Upfront, the data sets for training and validation are created:"
   ]
  },
  {
   "cell_type": "code",
   "execution_count": 75,
   "metadata": {},
   "outputs": [],
   "source": [
    "# Split data for training/test and validation\n",
    "train_test, validation = features_df_bal.randomSplit([0.9, 0.1], seed=42)"
   ]
  },
  {
   "cell_type": "code",
   "execution_count": 76,
   "metadata": {},
   "outputs": [
    {
     "name": "stdout",
     "output_type": "stream",
     "text": [
      "root\n",
      " |-- userId: string (nullable = true)\n",
      " |-- churn: long (nullable = true)\n",
      " |-- avg_sess_p_day: double (nullable = true)\n",
      " |-- avg_length: double (nullable = true)\n",
      " |-- avg_items_p_sess: double (nullable = true)\n",
      " |-- acc_age: integer (nullable = true)\n",
      " |-- avg_sess_len: double (nullable = true)\n",
      " |-- bin_gender: integer (nullable = true)\n",
      " |-- pref_user_system: string (nullable = false)\n",
      " |-- pref_user_system_ind: double (nullable = false)\n",
      " |-- pref_user_system_ohe: vector (nullable = true)\n",
      " |-- About: double (nullable = false)\n",
      " |-- Add_Friend: double (nullable = false)\n",
      " |-- Add_to_Playlist: double (nullable = false)\n",
      " |-- Cancel: double (nullable = false)\n",
      " |-- Downgrade: double (nullable = false)\n",
      " |-- Error: double (nullable = false)\n",
      " |-- Help: double (nullable = false)\n",
      " |-- Home: double (nullable = false)\n",
      " |-- Logout: double (nullable = false)\n",
      " |-- NextSong: double (nullable = false)\n",
      " |-- Roll_Advert: double (nullable = false)\n",
      " |-- Save_Settings: double (nullable = false)\n",
      " |-- Settings: double (nullable = false)\n",
      " |-- Submit_Downgrade: double (nullable = false)\n",
      " |-- Submit_Upgrade: double (nullable = false)\n",
      " |-- Thumbs_Down: double (nullable = false)\n",
      " |-- Thumbs_Up: double (nullable = false)\n",
      " |-- Upgrade: double (nullable = false)\n",
      "\n"
     ]
    }
   ],
   "source": [
    "train_test.printSchema()"
   ]
  },
  {
   "cell_type": "code",
   "execution_count": 77,
   "metadata": {},
   "outputs": [
    {
     "name": "stdout",
     "output_type": "stream",
     "text": [
      "The train_test data set contains 47.474747474747474% users that cancelled their subscription.\n"
     ]
    }
   ],
   "source": [
    "# Check for balanced classes\n",
    "cncl_rate = train_test.filter((train_test.churn == 1)).count()/train_test.count()\n",
    "print(\"The train_test data set contains {}% users that cancelled their subscription.\".format(cncl_rate*100.))"
   ]
  },
  {
   "cell_type": "code",
   "execution_count": 78,
   "metadata": {},
   "outputs": [],
   "source": [
    "# Define the features to be used in training\n",
    "feature_cols = ['avg_sess_p_day',\n",
    "                 'avg_length',\n",
    "                 'avg_items_p_sess',\n",
    "                 'acc_age',\n",
    "                 'avg_sess_len',\n",
    "                 'bin_gender',\n",
    "                 'pref_user_system_ohe',\n",
    "                 'About',\n",
    "                 'Add_Friend',\n",
    "                 'Add_to_Playlist',\n",
    "                 'Cancel',\n",
    "                 'Downgrade',\n",
    "                 'Error',\n",
    "                 'Help',\n",
    "                 'Home',\n",
    "                 'Logout',\n",
    "                 'NextSong',\n",
    "                 'Roll_Advert',\n",
    "                 'Save_Settings',\n",
    "                 'Settings',\n",
    "                 'Submit_Downgrade',\n",
    "                 'Submit_Upgrade',\n",
    "                 'Thumbs_Down',\n",
    "                 'Thumbs_Up',\n",
    "                 'Upgrade']"
   ]
  },
  {
   "cell_type": "code",
   "execution_count": 1,
   "metadata": {},
   "outputs": [
    {
     "ename": "NameError",
     "evalue": "name 'features_df' is not defined",
     "output_type": "error",
     "traceback": [
      "\u001b[0;31m---------------------------------------------------------------------------\u001b[0m",
      "\u001b[0;31mNameError\u001b[0m                                 Traceback (most recent call last)",
      "\u001b[0;32m<ipython-input-1-cde76f1a4104>\u001b[0m in \u001b[0;36m<module>\u001b[0;34m\u001b[0m\n\u001b[0;32m----> 1\u001b[0;31m \u001b[0mfeatures_df\u001b[0m\u001b[0;34m.\u001b[0m\u001b[0mfillna\u001b[0m\u001b[0;34m(\u001b[0m\u001b[0;36m0\u001b[0m\u001b[0;34m,\u001b[0m \u001b[0msubset\u001b[0m\u001b[0;34m=\u001b[0m\u001b[0mfeature_cols\u001b[0m\u001b[0;34m)\u001b[0m\u001b[0;34m\u001b[0m\u001b[0;34m\u001b[0m\u001b[0m\n\u001b[0m",
      "\u001b[0;31mNameError\u001b[0m: name 'features_df' is not defined"
     ]
    }
   ],
   "source": [
    "features_df.fillna(0, subset=feature_cols)"
   ]
  },
  {
   "cell_type": "markdown",
   "metadata": {},
   "source": [
    "## Linear Support Vector Machine (SVM)\n",
    "\n",
    "The used machine learning pipeline is stored in the file `src/ml_pipe_factory.py`.\n",
    "\n",
    "### SVM Training"
   ]
  },
  {
   "cell_type": "code",
   "execution_count": 79,
   "metadata": {},
   "outputs": [
    {
     "name": "stdout",
     "output_type": "stream",
     "text": [
      "The autoreload extension is already loaded. To reload it, use:\n",
      "  %reload_ext autoreload\n"
     ]
    }
   ],
   "source": [
    "# Import various candidate models\n",
    "%load_ext autoreload\n",
    "%autoreload 2\n",
    "from src.ml_pipe_factory import build_svm_pipeline\n",
    "import pathlib\n",
    "\n",
    "# Build the SVM pipeline\n",
    "svm_pipeline = build_svm_pipeline(inputCols = feature_cols)"
   ]
  },
  {
   "cell_type": "code",
   "execution_count": 80,
   "metadata": {},
   "outputs": [],
   "source": [
    "# Execute the training\n",
    "svm_model = svm_pipeline.fit(train_test)"
   ]
  },
  {
   "cell_type": "code",
   "execution_count": 81,
   "metadata": {},
   "outputs": [],
   "source": [
    "# Save the model\n",
    "model_path = str(pathlib.Path().absolute() / \"model\" / \"svm\")\n",
    "svm_model.bestModel.write().overwrite().save(model_path)"
   ]
  },
  {
   "cell_type": "markdown",
   "metadata": {},
   "source": [
    "### SVM Evaluation"
   ]
  },
  {
   "cell_type": "markdown",
   "metadata": {},
   "source": [
    "The SVM model is evaluated in the following cells."
   ]
  },
  {
   "cell_type": "code",
   "execution_count": 108,
   "metadata": {},
   "outputs": [
    {
     "name": "stdout",
     "output_type": "stream",
     "text": [
      "The autoreload extension is already loaded. To reload it, use:\n",
      "  %reload_ext autoreload\n"
     ]
    }
   ],
   "source": [
    "%load_ext autoreload\n",
    "%autoreload 2\n",
    "from src.evaluator import evaluate_model\n",
    "from pyspark.ml import PipelineModel\n",
    "\n",
    "# Load the model\n",
    "model_path = str(pathlib.Path().absolute() / \"model\" / \"svm\")\n",
    "svmModel = PipelineModel.load(model_path)"
   ]
  },
  {
   "cell_type": "code",
   "execution_count": 109,
   "metadata": {},
   "outputs": [
    {
     "data": {
      "text/plain": [
       "{'model': 'SVM',\n",
       " 'recall': 0.375,\n",
       " 'precision': 0.140625,\n",
       " 'accuracy': 0.375,\n",
       " 'f1': 0.20454545454545453}"
      ]
     },
     "execution_count": 109,
     "metadata": {},
     "output_type": "execute_result"
    }
   ],
   "source": [
    "# Create predictions\n",
    "svm_results = svmModel.transform(validation)\n",
    "\n",
    "# Evaluate the predictions\n",
    "metrics_svm = evaluate_model(svm_results, \"SVM\")\n",
    "\n",
    "metrics_svm"
   ]
  },
  {
   "cell_type": "code",
   "execution_count": 110,
   "metadata": {},
   "outputs": [
    {
     "data": {
      "text/plain": [
       "8"
      ]
     },
     "execution_count": 110,
     "metadata": {},
     "output_type": "execute_result"
    }
   ],
   "source": [
    "svm_results.filter(svm_results.prediction < 1.0).count()"
   ]
  },
  {
   "cell_type": "markdown",
   "metadata": {},
   "source": [
    "## Naive Bayes Classifier (NB)\n",
    "\n",
    "### NB Training"
   ]
  },
  {
   "cell_type": "code",
   "execution_count": 85,
   "metadata": {},
   "outputs": [],
   "source": [
    "# Import various candidate models\n",
    "from src.ml_pipe_factory import build_naivebayes_pipeline\n",
    "\n",
    "# Build the NB pipeline\n",
    "nb_pipeline = build_naivebayes_pipeline(inputCols = feature_cols)"
   ]
  },
  {
   "cell_type": "code",
   "execution_count": 86,
   "metadata": {},
   "outputs": [],
   "source": [
    "# Execute the training\n",
    "nb = nb_pipeline.fit(train_test)"
   ]
  },
  {
   "cell_type": "code",
   "execution_count": 87,
   "metadata": {},
   "outputs": [],
   "source": [
    "# Save the model\n",
    "nb_path = str(pathlib.Path().absolute() / \"model\" / \"naivebayes\")\n",
    "nb.bestModel.write().overwrite().save(nb_path)"
   ]
  },
  {
   "cell_type": "markdown",
   "metadata": {},
   "source": [
    "### NB Evaluation"
   ]
  },
  {
   "cell_type": "code",
   "execution_count": 111,
   "metadata": {},
   "outputs": [
    {
     "data": {
      "text/plain": [
       "{'model': 'NaiveBayes',\n",
       " 'recall': 1.0,\n",
       " 'precision': 1.0,\n",
       " 'accuracy': 1.0,\n",
       " 'f1': 1.0}"
      ]
     },
     "execution_count": 111,
     "metadata": {},
     "output_type": "execute_result"
    }
   ],
   "source": [
    "from src.evaluator import evaluate_model\n",
    "from pyspark.ml import PipelineModel\n",
    "import pathlib\n",
    "# Load the model\n",
    "nbModel = PipelineModel.load(nb_path)\n",
    "\n",
    "# Create predictions\n",
    "nb_results = nbModel.transform(validation)\n",
    "\n",
    "# Evaluate the predictions\n",
    "metrics_nb = evaluate_model(nb_results, \"NaiveBayes\")\n",
    "metrics_nb"
   ]
  },
  {
   "cell_type": "code",
   "execution_count": 112,
   "metadata": {},
   "outputs": [
    {
     "data": {
      "text/plain": [
       "0.625"
      ]
     },
     "execution_count": 112,
     "metadata": {},
     "output_type": "execute_result"
    }
   ],
   "source": [
    "validation.filter(validation.churn == 1).count() / validation.count()"
   ]
  },
  {
   "cell_type": "markdown",
   "metadata": {},
   "source": [
    "## Logistic Regression (LR)\n",
    "\n",
    "### LR Training"
   ]
  },
  {
   "cell_type": "code",
   "execution_count": 90,
   "metadata": {},
   "outputs": [],
   "source": [
    "# Import various candidate models\n",
    "from src.ml_pipe_factory import build_logreg_pipeline\n",
    "\n",
    "# Build the LR pipeline\n",
    "lr_pipeline = build_logreg_pipeline(inputCols = feature_cols)"
   ]
  },
  {
   "cell_type": "code",
   "execution_count": 91,
   "metadata": {},
   "outputs": [],
   "source": [
    "# Execute the training\n",
    "lr = lr_pipeline.fit(train_test)"
   ]
  },
  {
   "cell_type": "code",
   "execution_count": 92,
   "metadata": {},
   "outputs": [],
   "source": [
    "# Save the model\n",
    "import pathlib\n",
    "lr_path = str(pathlib.Path().absolute() / \"model\" / \"logreg\")\n",
    "lr.bestModel.write().overwrite().save(lr_path)"
   ]
  },
  {
   "cell_type": "markdown",
   "metadata": {},
   "source": [
    "### LR Evaluation"
   ]
  },
  {
   "cell_type": "code",
   "execution_count": 113,
   "metadata": {},
   "outputs": [
    {
     "data": {
      "text/plain": [
       "{'model': 'Logistic Regression',\n",
       " 'recall': 1.0,\n",
       " 'precision': 1.0,\n",
       " 'accuracy': 1.0,\n",
       " 'f1': 1.0}"
      ]
     },
     "execution_count": 113,
     "metadata": {},
     "output_type": "execute_result"
    }
   ],
   "source": [
    "# Load the model\n",
    "lrModel = PipelineModel.load(lr_path)\n",
    "\n",
    "# Create predictions\n",
    "lr_results = lrModel.transform(validation)\n",
    "\n",
    "# Evaluate the predictions\n",
    "metrics_lr = evaluate_model(lr_results, \"Logistic Regression\")\n",
    "metrics_lr"
   ]
  },
  {
   "cell_type": "markdown",
   "metadata": {},
   "source": [
    "## Random Forest (RF)\n",
    "\n",
    "### RF Training"
   ]
  },
  {
   "cell_type": "code",
   "execution_count": 94,
   "metadata": {},
   "outputs": [],
   "source": [
    "# Import various candidate models\n",
    "from src.ml_pipe_factory import build_randomforest_pipeline\n",
    "\n",
    "# Build the RF pipeline\n",
    "rf_pipeline = build_randomforest_pipeline(inputCols = feature_cols)"
   ]
  },
  {
   "cell_type": "code",
   "execution_count": 95,
   "metadata": {},
   "outputs": [],
   "source": [
    "# Execute the training\n",
    "rf = rf_pipeline.fit(train_test)"
   ]
  },
  {
   "cell_type": "code",
   "execution_count": 96,
   "metadata": {},
   "outputs": [],
   "source": [
    "# Save the model\n",
    "import pathlib\n",
    "rf_path = str(pathlib.Path().absolute() / \"model\" / \"rndmforest\")\n",
    "rf.bestModel.write().overwrite().save(rf_path)"
   ]
  },
  {
   "cell_type": "markdown",
   "metadata": {},
   "source": [
    "### RF Evaluation"
   ]
  },
  {
   "cell_type": "code",
   "execution_count": 114,
   "metadata": {},
   "outputs": [
    {
     "data": {
      "text/plain": [
       "{'model': 'Random Forest',\n",
       " 'recall': 1.0,\n",
       " 'precision': 1.0,\n",
       " 'accuracy': 1.0,\n",
       " 'f1': 1.0}"
      ]
     },
     "execution_count": 114,
     "metadata": {},
     "output_type": "execute_result"
    }
   ],
   "source": [
    "# Load the model\n",
    "rfModel = PipelineModel.load(rf_path)\n",
    "\n",
    "# Create predictions\n",
    "rf_results = rfModel.transform(validation)\n",
    "\n",
    "# Evaluate the predictions\n",
    "metrics_rf = evaluate_model(rf_results, \"Random Forest\")\n",
    "metrics_rf"
   ]
  },
  {
   "cell_type": "markdown",
   "metadata": {},
   "source": [
    "## Model Evaluation and Validation\n",
    "\n",
    "The final model’s qualities — such as parameters — are evaluated in detail. Some type of analysis is used to validate the robustness of the model’s solution.\n",
    "\n",
    "Alternatively a student may choose to answer questions with data visualizations or other means that don't involve machine learning if a different approach best helps them address their question(s) of interest."
   ]
  },
  {
   "cell_type": "code",
   "execution_count": 115,
   "metadata": {},
   "outputs": [],
   "source": [
    "metrics_df = pd.DataFrame.from_records([\n",
    "                                        metrics_svm,\n",
    "                                        metrics_rf,\n",
    "                                        metrics_lr,\n",
    "                                        metrics_nb])"
   ]
  },
  {
   "cell_type": "code",
   "execution_count": 116,
   "metadata": {},
   "outputs": [],
   "source": [
    "metrics_df_melted = metrics_df.melt(id_vars=\"model\")"
   ]
  },
  {
   "cell_type": "code",
   "execution_count": 117,
   "metadata": {},
   "outputs": [],
   "source": [
    "metrics_df_melted.rename(columns={'model':\"Model\",\n",
    "                                  'variable':\"Metric\",\n",
    "                                  'value':\"Score\"},\n",
    "                        inplace=True)"
   ]
  },
  {
   "cell_type": "code",
   "execution_count": 118,
   "metadata": {},
   "outputs": [
    {
     "data": {
      "image/png": "[encoded data removed]",
      "text/plain": [
       "<Figure size 576x216 with 1 Axes>"
      ]
     },
     "metadata": {
      "needs_background": "light"
     },
     "output_type": "display_data"
    }
   ],
   "source": [
    "fig = plt.figure(figsize=(8,3))\n",
    "ax = sns.barplot(x=\"Metric\", y=\"Score\", hue=\"Model\", data=metrics_df_melted)\n",
    "plt.grid(\"on\")"
   ]
  },
  {
   "cell_type": "markdown",
   "metadata": {},
   "source": [
    "## Justification\n",
    "The final results are discussed in detail.\n",
    "Exploration as to why some techniques worked better than others, or how improvements were made are documented."
   ]
  },
  {
   "cell_type": "markdown",
   "metadata": {},
   "source": [
    "# Summary\n",
    "Clean up your code, adding comments and renaming variables to make the code easier to read and maintain. Refer to the Spark Project Overview page and Data Scientist Capstone Project Rubric to make sure you are including all components of the capstone project and meet all expectations. Remember, this includes thorough documentation in a README file in a Github repository, as well as a web app or blog post.\n",
    "\n",
    "## Reflection\n",
    "\t\n",
    "Student adequately summarizes the end-to-end problem solution and discusses one or two particular aspects of the project they found interesting or difficult.\n",
    "\n",
    "## Improvement\n",
    "\n",
    "Discussion is made as to how at least one aspect of the implementation could be improved. Potential solutions resulting from these improvements are considered and compared/contrasted to the current solution."
   ]
  },
  {
   "cell_type": "code",
   "execution_count": null,
   "metadata": {},
   "outputs": [],
   "source": []
  },
  {
   "cell_type": "code",
   "execution_count": null,
   "metadata": {},
   "outputs": [],
   "source": []
  },
  {
   "cell_type": "code",
   "execution_count": null,
   "metadata": {},
   "outputs": [],
   "source": []
  },
  {
   "cell_type": "code",
   "execution_count": null,
   "metadata": {},
   "outputs": [],
   "source": []
  }
 ],
 "metadata": {
  "kernelspec": {
   "display_name": "Python 3",
   "language": "python",
   "name": "python3"
  },
  "language_info": {
   "codemirror_mode": {
    "name": "ipython",
    "version": 3
   },
   "file_extension": ".py",
   "mimetype": "text/x-python",
   "name": "python",
   "nbconvert_exporter": "python",
   "pygments_lexer": "ipython3",
   "version": "3.7.6"
  }
 },
 "nbformat": 4,
 "nbformat_minor": 2
}
